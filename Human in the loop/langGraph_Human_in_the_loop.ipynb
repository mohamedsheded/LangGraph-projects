{
  "nbformat": 4,
  "nbformat_minor": 0,
  "metadata": {
    "colab": {
      "provenance": []
    },
    "kernelspec": {
      "name": "python3",
      "display_name": "Python 3"
    },
    "language_info": {
      "name": "python"
    }
  },
  "cells": [
    {
      "cell_type": "markdown",
      "source": [
        "#**Install packages**"
      ],
      "metadata": {
        "id": "Zn3VAIgXnVg7"
      }
    },
    {
      "cell_type": "code",
      "execution_count": 1,
      "metadata": {
        "colab": {
          "base_uri": "https://localhost:8080/"
        },
        "collapsed": true,
        "id": "vwTnrB0gnQFn",
        "outputId": "8dc7a349-6166-428c-8667-4db1f9a17ac3"
      },
      "outputs": [
        {
          "output_type": "stream",
          "name": "stdout",
          "text": [
            "Requirement already satisfied: langchain_core in /usr/local/lib/python3.11/dist-packages (0.3.33)\n",
            "Requirement already satisfied: langchain_community in /usr/local/lib/python3.11/dist-packages (0.3.16)\n",
            "Requirement already satisfied: langgraph in /usr/local/lib/python3.11/dist-packages (0.2.69)\n",
            "Requirement already satisfied: langchain_groq in /usr/local/lib/python3.11/dist-packages (0.2.4)\n",
            "Requirement already satisfied: PyYAML>=5.3 in /usr/local/lib/python3.11/dist-packages (from langchain_core) (6.0.2)\n",
            "Requirement already satisfied: jsonpatch<2.0,>=1.33 in /usr/local/lib/python3.11/dist-packages (from langchain_core) (1.33)\n",
            "Requirement already satisfied: langsmith<0.4,>=0.1.125 in /usr/local/lib/python3.11/dist-packages (from langchain_core) (0.3.2)\n",
            "Requirement already satisfied: packaging<25,>=23.2 in /usr/local/lib/python3.11/dist-packages (from langchain_core) (24.2)\n",
            "Requirement already satisfied: pydantic<3.0.0,>=2.5.2 in /usr/local/lib/python3.11/dist-packages (from langchain_core) (2.10.6)\n",
            "Requirement already satisfied: tenacity!=8.4.0,<10.0.0,>=8.1.0 in /usr/local/lib/python3.11/dist-packages (from langchain_core) (9.0.0)\n",
            "Requirement already satisfied: typing-extensions>=4.7 in /usr/local/lib/python3.11/dist-packages (from langchain_core) (4.12.2)\n",
            "Requirement already satisfied: SQLAlchemy<3,>=1.4 in /usr/local/lib/python3.11/dist-packages (from langchain_community) (2.0.37)\n",
            "Requirement already satisfied: aiohttp<4.0.0,>=3.8.3 in /usr/local/lib/python3.11/dist-packages (from langchain_community) (3.11.11)\n",
            "Requirement already satisfied: dataclasses-json<0.7,>=0.5.7 in /usr/local/lib/python3.11/dist-packages (from langchain_community) (0.6.7)\n",
            "Requirement already satisfied: httpx-sse<0.5.0,>=0.4.0 in /usr/local/lib/python3.11/dist-packages (from langchain_community) (0.4.0)\n",
            "Requirement already satisfied: langchain<0.4.0,>=0.3.16 in /usr/local/lib/python3.11/dist-packages (from langchain_community) (0.3.16)\n",
            "Requirement already satisfied: numpy<2,>=1.22.4 in /usr/local/lib/python3.11/dist-packages (from langchain_community) (1.26.4)\n",
            "Requirement already satisfied: pydantic-settings<3.0.0,>=2.4.0 in /usr/local/lib/python3.11/dist-packages (from langchain_community) (2.7.1)\n",
            "Requirement already satisfied: requests<3,>=2 in /usr/local/lib/python3.11/dist-packages (from langchain_community) (2.32.3)\n",
            "Requirement already satisfied: langgraph-checkpoint<3.0.0,>=2.0.10 in /usr/local/lib/python3.11/dist-packages (from langgraph) (2.0.10)\n",
            "Requirement already satisfied: langgraph-sdk<0.2.0,>=0.1.42 in /usr/local/lib/python3.11/dist-packages (from langgraph) (0.1.51)\n",
            "Requirement already satisfied: groq<1,>=0.4.1 in /usr/local/lib/python3.11/dist-packages (from langchain_groq) (0.16.0)\n",
            "Requirement already satisfied: aiohappyeyeballs>=2.3.0 in /usr/local/lib/python3.11/dist-packages (from aiohttp<4.0.0,>=3.8.3->langchain_community) (2.4.4)\n",
            "Requirement already satisfied: aiosignal>=1.1.2 in /usr/local/lib/python3.11/dist-packages (from aiohttp<4.0.0,>=3.8.3->langchain_community) (1.3.2)\n",
            "Requirement already satisfied: attrs>=17.3.0 in /usr/local/lib/python3.11/dist-packages (from aiohttp<4.0.0,>=3.8.3->langchain_community) (25.1.0)\n",
            "Requirement already satisfied: frozenlist>=1.1.1 in /usr/local/lib/python3.11/dist-packages (from aiohttp<4.0.0,>=3.8.3->langchain_community) (1.5.0)\n",
            "Requirement already satisfied: multidict<7.0,>=4.5 in /usr/local/lib/python3.11/dist-packages (from aiohttp<4.0.0,>=3.8.3->langchain_community) (6.1.0)\n",
            "Requirement already satisfied: propcache>=0.2.0 in /usr/local/lib/python3.11/dist-packages (from aiohttp<4.0.0,>=3.8.3->langchain_community) (0.2.1)\n",
            "Requirement already satisfied: yarl<2.0,>=1.17.0 in /usr/local/lib/python3.11/dist-packages (from aiohttp<4.0.0,>=3.8.3->langchain_community) (1.18.3)\n",
            "Requirement already satisfied: marshmallow<4.0.0,>=3.18.0 in /usr/local/lib/python3.11/dist-packages (from dataclasses-json<0.7,>=0.5.7->langchain_community) (3.26.0)\n",
            "Requirement already satisfied: typing-inspect<1,>=0.4.0 in /usr/local/lib/python3.11/dist-packages (from dataclasses-json<0.7,>=0.5.7->langchain_community) (0.9.0)\n",
            "Requirement already satisfied: anyio<5,>=3.5.0 in /usr/local/lib/python3.11/dist-packages (from groq<1,>=0.4.1->langchain_groq) (3.7.1)\n",
            "Requirement already satisfied: distro<2,>=1.7.0 in /usr/local/lib/python3.11/dist-packages (from groq<1,>=0.4.1->langchain_groq) (1.9.0)\n",
            "Requirement already satisfied: httpx<1,>=0.23.0 in /usr/local/lib/python3.11/dist-packages (from groq<1,>=0.4.1->langchain_groq) (0.28.1)\n",
            "Requirement already satisfied: sniffio in /usr/local/lib/python3.11/dist-packages (from groq<1,>=0.4.1->langchain_groq) (1.3.1)\n",
            "Requirement already satisfied: jsonpointer>=1.9 in /usr/local/lib/python3.11/dist-packages (from jsonpatch<2.0,>=1.33->langchain_core) (3.0.0)\n",
            "Requirement already satisfied: langchain-text-splitters<0.4.0,>=0.3.3 in /usr/local/lib/python3.11/dist-packages (from langchain<0.4.0,>=0.3.16->langchain_community) (0.3.5)\n",
            "Requirement already satisfied: msgpack<2.0.0,>=1.1.0 in /usr/local/lib/python3.11/dist-packages (from langgraph-checkpoint<3.0.0,>=2.0.10->langgraph) (1.1.0)\n",
            "Requirement already satisfied: orjson>=3.10.1 in /usr/local/lib/python3.11/dist-packages (from langgraph-sdk<0.2.0,>=0.1.42->langgraph) (3.10.15)\n",
            "Requirement already satisfied: requests-toolbelt<2.0.0,>=1.0.0 in /usr/local/lib/python3.11/dist-packages (from langsmith<0.4,>=0.1.125->langchain_core) (1.0.0)\n",
            "Requirement already satisfied: zstandard<0.24.0,>=0.23.0 in /usr/local/lib/python3.11/dist-packages (from langsmith<0.4,>=0.1.125->langchain_core) (0.23.0)\n",
            "Requirement already satisfied: annotated-types>=0.6.0 in /usr/local/lib/python3.11/dist-packages (from pydantic<3.0.0,>=2.5.2->langchain_core) (0.7.0)\n",
            "Requirement already satisfied: pydantic-core==2.27.2 in /usr/local/lib/python3.11/dist-packages (from pydantic<3.0.0,>=2.5.2->langchain_core) (2.27.2)\n",
            "Requirement already satisfied: python-dotenv>=0.21.0 in /usr/local/lib/python3.11/dist-packages (from pydantic-settings<3.0.0,>=2.4.0->langchain_community) (1.0.1)\n",
            "Requirement already satisfied: charset-normalizer<4,>=2 in /usr/local/lib/python3.11/dist-packages (from requests<3,>=2->langchain_community) (3.4.1)\n",
            "Requirement already satisfied: idna<4,>=2.5 in /usr/local/lib/python3.11/dist-packages (from requests<3,>=2->langchain_community) (3.10)\n",
            "Requirement already satisfied: urllib3<3,>=1.21.1 in /usr/local/lib/python3.11/dist-packages (from requests<3,>=2->langchain_community) (2.3.0)\n",
            "Requirement already satisfied: certifi>=2017.4.17 in /usr/local/lib/python3.11/dist-packages (from requests<3,>=2->langchain_community) (2024.12.14)\n",
            "Requirement already satisfied: greenlet!=0.4.17 in /usr/local/lib/python3.11/dist-packages (from SQLAlchemy<3,>=1.4->langchain_community) (3.1.1)\n",
            "Requirement already satisfied: httpcore==1.* in /usr/local/lib/python3.11/dist-packages (from httpx<1,>=0.23.0->groq<1,>=0.4.1->langchain_groq) (1.0.7)\n",
            "Requirement already satisfied: h11<0.15,>=0.13 in /usr/local/lib/python3.11/dist-packages (from httpcore==1.*->httpx<1,>=0.23.0->groq<1,>=0.4.1->langchain_groq) (0.14.0)\n",
            "Requirement already satisfied: mypy-extensions>=0.3.0 in /usr/local/lib/python3.11/dist-packages (from typing-inspect<1,>=0.4.0->dataclasses-json<0.7,>=0.5.7->langchain_community) (1.0.0)\n"
          ]
        }
      ],
      "source": [
        "!pip install langchain_core langchain_community langgraph langchain_groq"
      ]
    },
    {
      "cell_type": "code",
      "source": [
        "# pydantic for structured o/p\n",
        "from pydantic import BaseModel, Field\n",
        "\n",
        "# typing\n",
        "from typing import TypedDict, Annotated, Sequence\n",
        "import operator\n",
        "import json\n",
        "\n",
        "# Graph\n",
        "from langgraph.graph import MessagesState, StateGraph, END, START\n",
        "from langchain_core.messages import BaseMessage, AIMessage, HumanMessage, SystemMessage, AnyMessage, ToolMessage\n",
        "from langgraph.graph.message import add_messages\n",
        "\n",
        "from langgraph.prebuilt import ToolNode, tools_condition\n",
        "\n",
        "#tools\n",
        "from langchain_core.tools import tool\n",
        "from langchain_community.tools.tavily_search import TavilySearchResults\n",
        "\n",
        "#memory\n",
        "from langgraph.checkpoint.memory import MemorySaver\n",
        "# model and embedding\n",
        "from langchain_groq import ChatGroq\n"
      ],
      "metadata": {
        "id": "Cn6tTlAInY3M"
      },
      "execution_count": 2,
      "outputs": []
    },
    {
      "cell_type": "markdown",
      "source": [
        "#**LLM**"
      ],
      "metadata": {
        "id": "SjL_GqaZnpjd"
      }
    },
    {
      "cell_type": "markdown",
      "source": [
        "##**Get Env variables**"
      ],
      "metadata": {
        "id": "VOlzWjK6nrt5"
      }
    },
    {
      "cell_type": "code",
      "source": [
        "from google.colab import userdata\n",
        "\n",
        "groq_api_key = userdata.get('groq_api_key')\n",
        "TAVILY_API_KEY = userdata.get('TAVILY_API_KEY')"
      ],
      "metadata": {
        "id": "0_HzrDzFnkQz"
      },
      "execution_count": 3,
      "outputs": []
    },
    {
      "cell_type": "code",
      "source": [
        "import getpass\n",
        "import os\n",
        "\n",
        "os.environ[\"TAVILY_API_KEY\"] = getpass.getpass()"
      ],
      "metadata": {
        "colab": {
          "base_uri": "https://localhost:8080/"
        },
        "id": "J3UILEbUuVvZ",
        "outputId": "63db6faf-5bea-4485-f2ba-8a2f49b24bb8"
      },
      "execution_count": 4,
      "outputs": [
        {
          "name": "stdout",
          "output_type": "stream",
          "text": [
            "··········\n"
          ]
        }
      ]
    },
    {
      "cell_type": "code",
      "source": [
        "# llm model\n",
        "llm=ChatGroq(groq_api_key=groq_api_key,\n",
        "             model=\"llama-3.3-70b-versatile\")"
      ],
      "metadata": {
        "id": "K38G1rRjnycM"
      },
      "execution_count": 5,
      "outputs": []
    },
    {
      "cell_type": "markdown",
      "source": [
        "#**Tools**"
      ],
      "metadata": {
        "id": "JWMbC900n-1E"
      }
    },
    {
      "cell_type": "code",
      "source": [
        "@tool\n",
        "def multiply(first_number:int, second_number:int)->int:\n",
        "    \"\"\"multiply two integer number\"\"\"\n",
        "    return first_number * second_number\n"
      ],
      "metadata": {
        "id": "5tHrDPYvoBUG"
      },
      "execution_count": null,
      "outputs": []
    },
    {
      "cell_type": "code",
      "source": [
        "multiply({\"first_number\":24,\"second_number\":364})\n"
      ],
      "metadata": {
        "colab": {
          "base_uri": "https://localhost:8080/"
        },
        "id": "pOMHhZPjpz61",
        "outputId": "1eef4c5d-9779-442a-da49-7cc7aaf699f9"
      },
      "execution_count": null,
      "outputs": [
        {
          "output_type": "stream",
          "name": "stderr",
          "text": [
            "<ipython-input-7-31132ee08b29>:1: LangChainDeprecationWarning: The method `BaseTool.__call__` was deprecated in langchain-core 0.1.47 and will be removed in 1.0. Use :meth:`~invoke` instead.\n",
            "  multiply({\"first_number\":24,\"second_number\":364})\n"
          ]
        },
        {
          "output_type": "execute_result",
          "data": {
            "text/plain": [
              "8736"
            ]
          },
          "metadata": {},
          "execution_count": 7
        }
      ]
    },
    {
      "cell_type": "code",
      "source": [
        "tavily_tool = TavilySearchResults()\n"
      ],
      "metadata": {
        "id": "aD2QKkXgoSl3"
      },
      "execution_count": null,
      "outputs": []
    },
    {
      "cell_type": "code",
      "source": [
        "@tool\n",
        "def search(query:str):\n",
        "    \"\"\"perform the web search on the user query\"\"\"\n",
        "    tavily=TavilySearchResults()\n",
        "    result=tavily.invoke(query)\n",
        "    return result"
      ],
      "metadata": {
        "id": "L7cQSLsVnyY2"
      },
      "execution_count": null,
      "outputs": []
    },
    {
      "cell_type": "markdown",
      "source": [
        "##**Bind tools with the llm model**"
      ],
      "metadata": {
        "id": "XFqJeS7uobMd"
      }
    },
    {
      "cell_type": "code",
      "source": [
        "tools=[search,multiply]\n",
        "model_with_tools = llm.bind_tools(tools)\n"
      ],
      "metadata": {
        "id": "x2pwsduNod0x"
      },
      "execution_count": null,
      "outputs": []
    },
    {
      "cell_type": "code",
      "source": [
        "tool_mapping={tool.name: tool for tool in tools}\n"
      ],
      "metadata": {
        "id": "aOMgpHAooiZT"
      },
      "execution_count": null,
      "outputs": []
    },
    {
      "cell_type": "code",
      "source": [
        "tool_mapping\n"
      ],
      "metadata": {
        "colab": {
          "base_uri": "https://localhost:8080/"
        },
        "id": "Ix93R_wgoiV9",
        "outputId": "886d150b-5dd2-441d-deda-7e2105d47891"
      },
      "execution_count": null,
      "outputs": [
        {
          "output_type": "execute_result",
          "data": {
            "text/plain": [
              "{'search': StructuredTool(name='search', description='perform the web search on the user query', args_schema=<class 'langchain_core.utils.pydantic.search'>, func=<function search at 0x78c5260ec7c0>),\n",
              " 'multiply': StructuredTool(name='multiply', description='multiply two integer number', args_schema=<class 'langchain_core.utils.pydantic.multiply'>, func=<function multiply at 0x78c5262b2b60>)}"
            ]
          },
          "metadata": {},
          "execution_count": 12
        }
      ]
    },
    {
      "cell_type": "code",
      "source": [
        "response = model_with_tools.invoke(\"who is a current president of USA?\")\n",
        "response"
      ],
      "metadata": {
        "colab": {
          "base_uri": "https://localhost:8080/"
        },
        "id": "qhXZmAklvYtC",
        "outputId": "a877da1b-7ca2-4a6a-8393-032268519e11"
      },
      "execution_count": null,
      "outputs": [
        {
          "output_type": "execute_result",
          "data": {
            "text/plain": [
              "AIMessage(content='', additional_kwargs={'tool_calls': [{'id': 'call_j9g3', 'function': {'arguments': '{\"query\": \"current president of USA\"}', 'name': 'search'}, 'type': 'function'}]}, response_metadata={'token_usage': {'completion_tokens': 16, 'prompt_tokens': 279, 'total_tokens': 295, 'completion_time': 0.058181818, 'prompt_time': 0.036835927, 'queue_time': 0.119879489, 'total_time': 0.095017745}, 'model_name': 'llama-3.3-70b-versatile', 'system_fingerprint': 'fp_fcc3b74982', 'finish_reason': 'tool_calls', 'logprobs': None}, id='run-df82bb79-5820-4c43-9bb0-14e5aea8f25a-0', tool_calls=[{'name': 'search', 'args': {'query': 'current president of USA'}, 'id': 'call_j9g3', 'type': 'tool_call'}], usage_metadata={'input_tokens': 279, 'output_tokens': 16, 'total_tokens': 295})"
            ]
          },
          "metadata": {},
          "execution_count": 34
        }
      ]
    },
    {
      "cell_type": "code",
      "source": [
        "tool_details=response.additional_kwargs.get(\"tool_calls\")\n",
        "tool_details"
      ],
      "metadata": {
        "colab": {
          "base_uri": "https://localhost:8080/"
        },
        "id": "ap3a5zr7vYpt",
        "outputId": "06676f70-7b16-43a8-e0e9-4d7f32ea438b"
      },
      "execution_count": null,
      "outputs": [
        {
          "output_type": "execute_result",
          "data": {
            "text/plain": [
              "[{'id': 'call_j9g3',\n",
              "  'function': {'arguments': '{\"query\": \"current president of USA\"}',\n",
              "   'name': 'search'},\n",
              "  'type': 'function'}]"
            ]
          },
          "metadata": {},
          "execution_count": 35
        }
      ]
    },
    {
      "cell_type": "code",
      "source": [
        "tool_details[0][\"function\"][\"name\"]"
      ],
      "metadata": {
        "colab": {
          "base_uri": "https://localhost:8080/",
          "height": 36
        },
        "id": "EvepT3nAvYm1",
        "outputId": "d5a24dca-d68a-4ef3-c5de-9d7bd0d01ec2"
      },
      "execution_count": null,
      "outputs": [
        {
          "output_type": "execute_result",
          "data": {
            "text/plain": [
              "'search'"
            ],
            "application/vnd.google.colaboratory.intrinsic+json": {
              "type": "string"
            }
          },
          "metadata": {},
          "execution_count": 36
        }
      ]
    },
    {
      "cell_type": "code",
      "source": [
        "tool_details[0][\"function\"][\"arguments\"]\n"
      ],
      "metadata": {
        "colab": {
          "base_uri": "https://localhost:8080/",
          "height": 36
        },
        "id": "RoHQw9hBvloV",
        "outputId": "080d8932-6656-42bf-d848-390532152f20"
      },
      "execution_count": null,
      "outputs": [
        {
          "output_type": "execute_result",
          "data": {
            "text/plain": [
              "'{\"query\": \"current president of USA\"}'"
            ],
            "application/vnd.google.colaboratory.intrinsic+json": {
              "type": "string"
            }
          },
          "metadata": {},
          "execution_count": 37
        }
      ]
    },
    {
      "cell_type": "code",
      "source": [
        "json.loads(tool_details[0][\"function\"][\"arguments\"])\n"
      ],
      "metadata": {
        "colab": {
          "base_uri": "https://localhost:8080/"
        },
        "id": "tsrV6yuvvpnM",
        "outputId": "264ec6ec-6da4-43cf-d33b-133f0543613d"
      },
      "execution_count": null,
      "outputs": [
        {
          "output_type": "execute_result",
          "data": {
            "text/plain": [
              "{'query': 'current president of USA'}"
            ]
          },
          "metadata": {},
          "execution_count": 38
        }
      ]
    },
    {
      "cell_type": "code",
      "source": [
        "response = tool_mapping[tool_details[0][\"function\"][\"name\"]].invoke(json.loads(tool_details[0][\"function\"][\"arguments\"]))\n",
        "response"
      ],
      "metadata": {
        "colab": {
          "base_uri": "https://localhost:8080/"
        },
        "id": "R4CRVtnTvxl0",
        "outputId": "300e61c9-2f50-4fec-aed3-198a40bf2c69"
      },
      "execution_count": null,
      "outputs": [
        {
          "output_type": "execute_result",
          "data": {
            "text/plain": [
              "[{'url': 'https://www.usa.gov/presidents',\n",
              "  'content': 'Vice president of the United States\\nThe vice president of the United States presides over the U.S. Senate and takes over the role of president of the United States if the president is unable to perform his or her duties. President of the United States\\nThe president of the United States is the:\\nCurrent president\\nThe 46th and current president of the United States is Joseph R. Biden, Jr. First lady\\nThe First lady of the United States has traditionally been the wife or other close female relative of the president of the United States. Requirements to be eligible to become president\\nAccording to Article II of the U.S. Constitution, the president must:\\nLearn about the U.S. presidential election process.\\n If the vice president is not able to fulfill the duties of president, the role is passed to another leader in the order of presidential succession.\\n'},\n",
              " {'url': 'https://en.wikipedia.org/wiki/List_of_Presidents_of_the_United_States',\n",
              "  'content': 'National Union[l]\\n1864\\nAndrew Johnson\\nDemocratic\\n1872\\nHenry Wilson[e]\\nVacant\\xa0afterNovember 22, 1875\\nVacant\\xa0afterNovember 25, 1885\\n1900\\nVacant\\xa0afterNovember 21, 1899\\nTheodore Roosevelt\\n1904\\nCharles W. Fairbanks\\nVacant\\xa0afterOctober 30, 1912\\n1916\\n1924\\nCharles G. Dawes\\n1936\\n1940\\n1944\\nHenry A. Wallace\\nHarry S. Truman\\n1948\\nAlben W. Barkley\\n1956\\n1964\\nHubert Humphrey\\n1972\\nVacant:October 10\\xa0– December 6, 1973\\nGerald Ford[t]\\nNelson Rockefeller[t]\\n1984\\n1996\\n2004\\n2012\\nSee also\\nNotes\\nReferences\\nWorks cited\\nGeneral\\nExpert studies\\nPresidential biographies\\nOnline sources\\nExternal links He was, and remains, the only U.S. president never affiliated with a political party.[13]\\nPresidents\\n1792\\n1804\\nGeorge Clinton\\n1812\\nVacant\\xa0afterApril 20, 1812\\nElbridge Gerry[e]\\nVacant\\xa0afterNovember 23, 1814\\n Contents\\nList of presidents of the United States\\nThe president of the United States is the head of state and head of government of the United States,[1] indirectly elected to a four-year term via the Electoral College.[2] Four presidents died in office of natural causes (William Henry Harrison, Zachary Taylor, Warren G. Harding, and Franklin D. Roosevelt), four were assassinated (Abraham Lincoln, James A. Garfield, William McKinley, and John F. Kennedy), and one resigned (Richard Nixon, facing impeachment and removal from office).[10] John Tyler was the first vice president to assume the presidency during a presidential term, and set the precedent that a vice president who does so becomes the fully functioning president with his presidency.[11]\\nThroughout most of its history, American politics has been dominated by political parties. 1820\\nNational Republican\\n1832\\nVacant\\xa0afterDecember 28, 1832\\nMartin Van Buren\\nUnaffiliated\\nVacant\\xa0afterApril 18, 1853\\n'},\n",
              " {'url': 'https://en.wikipedia.org/wiki/President_of_the_United_States',\n",
              "  'content': 'The following decade, Woodrow Wilson led the nation to victory during World War I, although Wilson\\'s proposal for the League of Nations was rejected by the Senate.[42]\\nWarren Harding, while popular in office, would see his legacy tarnished by scandals, especially Teapot Dome,[43] and Herbert Hoover quickly became very unpopular after failing to alleviate the Great Depression.[44]\\nImperial presidency\\nThe ascendancy of Franklin D. Roosevelt in 1933 led further toward what historians now describe as the Imperial presidency.[45] Backed by enormous Democratic majorities in Congress and public support for major change, Roosevelt\\'s New Deal dramatically increased the size and scope of the federal government, including more executive agencies.[46]:\\u200a211–12\\u200a The traditionally small presidential staff was greatly expanded, with the Executive Office of the President being created in 1939, none of whom require Senate confirmation.[46]:\\u200a229–231\\u200a Roosevelt\\'s unprecedented re-election to a third and fourth term, the victory of the United States in World War II, and the nation\\'s growing economy all helped established the office as a position of global leadership.[46]:\\u200a269\\u200a His successors, Harry Truman and Dwight D. Eisenhower, each served two terms as the Cold War led the presidency to be viewed as the \"leader of the free world\",[47] while John F. Kennedy was a youthful and popular leader who benefited from the rise of television in the 1960s.[48][49]\\nAfter Lyndon B. Johnson lost popular support due to the Vietnam War and Richard Nixon\\'s presidency collapsed in the Watergate scandal, Congress enacted a series of reforms intended to reassert itself.[50][51] However, his successor, Martin Van Buren, became unpopular after the Panic of 1837,[31] and the death of William Henry Harrison and subsequent poor relations between John Tyler and Congress led to further weakening of the office.[32] Including Van Buren, in the 24 years between 1837 and 1861, six presidential terms would be filled by eight different men, with none serving two terms.[33] The Senate played an important role during this period, with the Great Triumvirate of Henry Clay, Daniel Webster, and John C. Calhoun playing key roles in shaping national policy in the 1830s and 1840s until debates over slavery began pulling the nation apart in the 1850s.[34][35]\\nAbraham Lincoln\\'s leadership during the Civil War has led historians to regard him as one of the nation\\'s greatest presidents.[D] The circumstances of the war and Republican domination of Congress made the office very powerful,[36][37] and Lincoln\\'s re-election in 1864 was the first time a president had been re-elected since Jackson in 1832. Recent presidents have thus increasingly focused on executive orders, agency regulations, and judicial appointments to implement major policies, at the expense of legislation and congressional power.[60] Presidential elections in the 21st century have reflected this continuing polarization, with no candidate except Obama in 2008 winning by more than five percent of the popular vote and two, George W. Bush and Donald Trump, winning in the Electoral College while losing the popular vote.[E]\\nCritics of presidency\\'s evolution\\nThe nation\\'s Founding Fathers expected the Congress, which was the first branch of government described in the Constitution, to be the dominant branch of government; however, they did not expect a strong executive department.[61] However, presidential power has shifted over time, which has resulted in claims that the modern presidency has become too powerful,[62][63] unchecked, unbalanced,[64] and \"monarchist\" in nature.[65] The mechanism has been used by Ronald Reagan (once), George W. Bush (twice), and Joe Biden (once), each in anticipation of surgery.[155][156]\\nThe Twenty-fifth Amendment also provides that the vice president, together with a majority of certain members of the Cabinet, may transfer the presidential powers and duties to the vice president by transmitting a written declaration, to the speaker of the House and the president pro tempore of the Senate, to the effect that the president is unable to discharge his or her powers and duties. The exact degree of authority that the Constitution grants to the president as commander-in-chief has been the subject of much debate throughout history, with Congress at various times granting the president wide authority and at others attempting to restrict that authority.[86] The framers of the Constitution took care to limit the president\\'s powers regarding the military; Alexander Hamilton explained this in Federalist No. 69:\\nThe President is to be commander-in-chief of the army and navy of the United States.\\xa0...'},\n",
              " {'url': 'https://www.whitehouse.gov/administration/donald-j-trump/',\n",
              "  'content': 'In his first administration, President Trump passed record-setting tax cuts and regulation cuts, achieved energy independence, replaced NAFTA with the United-States-Mexico-Canada Agreement, invested $2 trillion to completely rebuild the Military, launched the Space Force, obliterated the ISIS Caliphate, achieved a major breakthrough for peace in the Middle East, passed the most significant Veterans Affairs reforms in half a century, confirmed over 250 federal judges, including 3 Supreme Court Justices, signed bipartisan Criminal Justice Reform, lowered drug prices, protected Medicare and Social Security, and secured our nation’s borders in his first four years in office. President Trump built on his success in private life when he entered into politics and public service. President Trump is also an accomplished author.'},\n",
              " {'url': 'https://www.whitehouse.gov/',\n",
              "  'content': 'Mobile Menu Overlay\\nThe White House\\n1600 Pennsylvania Ave NW\\nWashington, DC 20500\\nA Proclamation on National Native American Heritage Month,\\xa02023\\nBriefing Room\\nFACT SHEET: Marking the Two-Year Anniversary of the Report on the Impact of Climate Change on\\xa0Migration\\nRemarks by President\\xa0Biden at the National Christmas Tree\\xa0Lighting\\nA Proclamation on World AIDS Day,\\xa02023\\nStatement from President Joe\\xa0Biden on October PCE\\xa0Report\\nStatement from President Joe\\xa0Biden on the Release of American Hostage from\\xa0Gaza\\nFirst Lady Jill\\xa0Biden Announces 2023 White\\xa0House Holiday Theme:The “Magic, Wonder, and Joy” of the\\xa0Holidays\\nRemarks by President\\xa0Biden on How Bidenomics is Mobilizing Investments in Clean Energy Manufacturing and Creating Good-Paying Jobs in Communities Around the Country | Pueblo,\\xa0CO\\nView All\\nFeatured Media\\nI’m in Colorado today to celebrate a historic investment in our clean energy economy that’s bringing everyone along.\\n Send Text\\nContact Us\\nGet Involved\\nWrite or call the White House\\nJoin the Biden-Harris Administration\\nApply to be a White House Fellow\\nInternship Opportunities at the White House\\nTheWhite House\\nLearn more about the current administration, our country’s former presidents, and the official residence.\\n The Administration\\nAbout The White House\\nThe White House\\n1600 Pennsylvania Ave NW\\nWashington, DC 20500 Throughout her incredible life as First Lady of Georgia and the First Lady of the United States, Rosalynn Carter was a champion for equal rights, an advocate for mental health, and a steadfast supporter of unseen caregivers.\\n I have consistently pressed for a pause in the fighting to accelerate and expand the humanitarian assistance going into Gaza and facilitate the release of hostages.\\n'}]"
            ]
          },
          "metadata": {},
          "execution_count": 39
        }
      ]
    },
    {
      "cell_type": "markdown",
      "source": [
        "#**Graph**"
      ],
      "metadata": {
        "id": "BGXwW-rsrDzo"
      }
    },
    {
      "cell_type": "markdown",
      "source": [
        "##**AgentState**"
      ],
      "metadata": {
        "id": "-c6qYQv-rQWf"
      }
    },
    {
      "cell_type": "code",
      "source": [
        "class AgentState(TypedDict):\n",
        "      messages: Annotated[list[AnyMessage], operator.add]\n"
      ],
      "metadata": {
        "id": "XAY3LSzorFG7"
      },
      "execution_count": null,
      "outputs": []
    },
    {
      "cell_type": "markdown",
      "source": [
        "##**Node functions**"
      ],
      "metadata": {
        "id": "X517r_63rY1A"
      }
    },
    {
      "cell_type": "code",
      "source": [
        "def invoke_model(state:AgentState):\n",
        "    messages = state['messages']\n",
        "    question = messages[-1]   ## Fetching the user question\n",
        "    return {\"messages\":[model_with_tools.invoke(question)]}"
      ],
      "metadata": {
        "id": "KmA0aQj2rahe"
      },
      "execution_count": null,
      "outputs": []
    },
    {
      "cell_type": "markdown",
      "source": [
        "###**Tool node + Custom human in the loop**"
      ],
      "metadata": {
        "id": "wvtWyi4NcLqo"
      }
    },
    {
      "cell_type": "code",
      "source": [
        "def invoke_tool(state:AgentState):\n",
        "    tool_details= state['messages'][-1].additional_kwargs.get(\"tool_calls\", [])[0]\n",
        "\n",
        "    if tool_details is None:\n",
        "        raise Exception(\"no tool call found\")\n",
        "\n",
        "    print(f'Selected tool: {tool_details.get(\"function\").get(\"name\")}')\n",
        "\n",
        "    if tool_details.get(\"function\").get(\"name\")==\"search\":\n",
        "        response = input(prompt=f\"[y/n] continue with expensive web search?\")\n",
        "        if response == \"n\":\n",
        "            raise Exception(\"web search discard\")\n",
        "\n",
        "    response = tool_mapping[tool_details['function']['name']].invoke(json.loads(tool_details.get(\"function\").get(\"arguments\")))\n",
        "    return {\"messages\" : [response]}\n"
      ],
      "metadata": {
        "id": "KdPvdssurd1M"
      },
      "execution_count": null,
      "outputs": []
    },
    {
      "cell_type": "code",
      "source": [
        "def router(state):\n",
        "    tool_calls = state['messages'][-1].additional_kwargs.get(\"tool_calls\", [])\n",
        "    if len(tool_calls):\n",
        "        return \"perform tool calling\"\n",
        "    else:\n",
        "        return \"end\""
      ],
      "metadata": {
        "id": "eW2OkVMirk_-"
      },
      "execution_count": null,
      "outputs": []
    },
    {
      "cell_type": "markdown",
      "source": [
        "##**Graph workflow**"
      ],
      "metadata": {
        "id": "lhqRROFxro34"
      }
    },
    {
      "cell_type": "code",
      "source": [
        "graph = StateGraph(AgentState)\n",
        "graph.add_node(\"ai_assistant\", invoke_model)\n",
        "graph.add_node(\"tool\", invoke_tool)\n",
        "\n",
        "graph.add_conditional_edges(\"ai_assistant\", router, {\"perform tool calling\": \"tool\",\n",
        "                                                     \"end\": END})\n",
        "graph.add_edge(\"tool\", END)\n",
        "graph.set_entry_point(\"ai_assistant\")\n",
        "app = graph.compile()\n"
      ],
      "metadata": {
        "id": "sE2Mi17Hrodx"
      },
      "execution_count": null,
      "outputs": []
    },
    {
      "cell_type": "code",
      "source": [
        "from IPython.display import Image, display\n",
        "display(Image(app.get_graph().draw_mermaid_png()))"
      ],
      "metadata": {
        "colab": {
          "base_uri": "https://localhost:8080/",
          "height": 374
        },
        "id": "2Lyw680qsCwU",
        "outputId": "a5061b32-6f17-4a3e-bd6c-a477ef2ca7bf"
      },
      "execution_count": null,
      "outputs": [
        {
          "output_type": "display_data",
          "data": {
            "image/png": "[encoded data removed]",
            "text/plain": [
              "<IPython.core.display.Image object>"
            ]
          },
          "metadata": {}
        }
      ]
    },
    {
      "cell_type": "markdown",
      "source": [
        "#**Testing workflow**"
      ],
      "metadata": {
        "id": "G9O3NSEfw7ws"
      }
    },
    {
      "cell_type": "code",
      "source": [
        "for s in app.stream({\"messages\": [\"who is upcoming president of USA?\"]}):\n",
        "    print(list(s.values())[0])\n",
        "    print(\"----\")\n"
      ],
      "metadata": {
        "colab": {
          "base_uri": "https://localhost:8080/"
        },
        "id": "pFkDUTZrsHIq",
        "outputId": "8876b764-f7f5-4fc6-af46-f7ca72f4d129"
      },
      "execution_count": null,
      "outputs": [
        {
          "output_type": "stream",
          "name": "stdout",
          "text": [
            "{'messages': [AIMessage(content='', additional_kwargs={'tool_calls': [{'id': 'call_qvff', 'function': {'arguments': '{\"query\": \"upcoming president of USA\"}', 'name': 'search'}, 'type': 'function'}]}, response_metadata={'token_usage': {'completion_tokens': 17, 'prompt_tokens': 278, 'total_tokens': 295, 'completion_time': 0.085983419, 'prompt_time': 0.058774772, 'queue_time': 0.6928625909999999, 'total_time': 0.144758191}, 'model_name': 'llama-3.3-70b-versatile', 'system_fingerprint': 'fp_c0cfa69934', 'finish_reason': 'tool_calls', 'logprobs': None}, id='run-08faac86-1acd-4feb-965e-a2af572f2cbe-0', tool_calls=[{'name': 'search', 'args': {'query': 'upcoming president of USA'}, 'id': 'call_qvff', 'type': 'tool_call'}], usage_metadata={'input_tokens': 278, 'output_tokens': 17, 'total_tokens': 295})]}\n",
            "----\n",
            "Selected tool: search\n",
            "[y/n] continue with expensive web search?y\n",
            "{'messages': [[{'url': 'https://www.nbcnews.com/politics/2024-election/trump-wins-election-president-harris-defeat-2024-race-rcna176107', 'content': 'Donald Trump defeats Kamala Harris to become the next U.S. president, NBC News projects BREAKING: Donald Trump is elected 47th president of the United States, NBC News projects Donald Trump defeats Kamala Harris to become the next U.S. president, NBC News projects Donald Trump defeats Kamala Harris to become the next U.S. president, NBC News projects Trump will make history as the 45th and now 47th president, NBC News projects, saying he will fix an ailing country and despite warnings he will rule as an authoritarian. NBC News projects Donald Trump is elected 47th president of the United States NBC News projected the Trump victory over Harris, who was the first woman of color to win a major party nomination for president, early Wednesday morning.'}, {'url': 'https://www.bbc.co.uk/newsround/articles/cz6j8n5j7w7o', 'content': '- BBC Newsround Donald Trump: What happens at the inauguration of the new US president? Donald Trump will officially become the 47th President of the United States at a ceremony called the inauguration. Inauguration day will take place on 20 January 2025 and is the day Donald Trump moves into the White House. Donald Trump will be next US President Inauguration Day is the day the new US President moves into the White House The inauguration is the name given to the ceremony where the new president and vice-president are both sworn in and officially take office. In 2017, outgoing President Barack Obama (on the right) accompanied Donald Trump for his first inauguration About the BBC'}, {'url': 'https://en.wikipedia.org/wiki/2024_United_States_presidential_election', 'content': 'Meanwhile, states like Colorado, New Mexico and Virginia have moved noticeably towards the Democrats, and the party has become the dominant political force there.[29][30][31]\\nThe Democratic electoral coalition, securing the \"blue states\" for Democratic presidential candidates, performs best among Jewish and Black voters;[32][33] whites who are wealthy or postgraduates,[34] or live in urban areas.[35] Working class voters were also a mainstay of the Democratic coalition since the days of the New Deal, but since the 1970s, many have defected to Republicans as the Democratic Party moved significantly to the left on cultural issues.[36] Conversely, the traditional Republican coalition that dominates many \"red states\" is mainly composed of rural white voters, evangelicals, the elderly, and non-college educated voters.[37]\\nRepublicans have also historically performed well with suburban, middle class voters since the 1950s, but this bloc has drifted away from them in recent years due to the rise of the Tea Party movement and later the Make America Great Again movement.[38] Biden\\'s support for Israel has greatly damaged Muslim support for Democrats in polling.[80] Polling has indicated a significant divide between elite opinion of the Israel–Hamas war, which has overwhelmingly taken the side of Israel, and the general public.[81] A plurality of Americans oppose American military aid to Israel and believe that the United States \"should be a neutral mediator\" in the Israel-Palestinian conflict rather than taking a side.[81] Among voters 18-34, 66 percent disapprove of Israel’s conduct during the war and 20 percent approve, while a majority take the side of Palestinians predominately in the conflict.[82]\\nHealthcare issues\\nThe issue of healthcare and drug policy, including whether the United States should shift to a universal healthcare system,[83] and the COVID-19 pandemic is expected to play a key role in the 2024 presidential election.[84]\\n If Trump is elected, he would become the second president to win a second non-consecutive term, joining Grover Cleveland who did so in 1892.[15]\\nElection interference\\nDonald Trump did not concede to Joe Biden in the 2020 presidential election, citing unsubstantiated claims of voter fraud, and has continued denying the election results as of 2023[update].[16][17] Election security experts have warned that officials who deny the legitimacy of the 2020 presidential election may attempt to impede the voting process or refuse to certify the 2024 election results.[18]\\nPolling before the election has indicated profound dissatisfaction with the state of American democracy.[19][20][21] Liberals tend to believe that conservatives are threatening the country with autocratic tendencies and their attempts to overturn the 2020 election.[22] Many Republicans are concerned with attempts to prevent former President Trump from holding public office by any means necessary, including impeachment and indictment.[23]\\nElectoral map\\n Supporters of the laws claim that conversations about racial identity are not appropriate for a school environment.[66][67][10] Critics of the laws against critical race theory claim they whitewash American history and act as memory laws to rewrite public memory of U.S. history.[68]\\nForeign policy\\nThe Israel–Hamas war and Russian invasion of Ukraine are expected to be significant issues of the campaign.[69]\\nThe United States has provided significant military and humanitarian aid to Ukraine throughout the Russian invasion of Ukraine.[70][71][72] Democratic politicians and a significant number of Republican politicians have supported this plan, arguing that the United States has a significant role to play in \"protecting democracy and fighting Russian aggression. This will be the first U.S. presidential election to occur after the reapportionment of votes in the United States Electoral College following the 2020 United States census.[24][25] If the results of the 2020 election were to stay the same (which has never occurred in the history of presidential elections) in 2024, Democrats would have 303 electoral votes against the Republicans\\' 235, a slight change from Biden\\'s 306 electoral votes and Trump\\'s 232, meaning that Democrats lost a net of 3 electoral votes to the reapportionment process.'}, {'url': 'https://www.bbc.com/news/articles/c2kxzpwqq25o', 'content': \"President-elect Donald Trump will move back into the White House on Monday after he officially becomes the 47th president of the United States. Vice-President-elect JD Vance will also take the oath of office, joining Trump on stage to officially begin their new administration. Watch: Biden urges Democrats to 'get back up' after Trump win ------------------------------------------------------------- The president addressed Americans from the White House for the first time since Donald Trump's election victory. Harris: Election outcome 'not what we fought for' ------------------------------------------------- The vice-president addressed supporters at Howard University in Washington DC, following her election defeat to Donald Trump. Belfast reacts to Trump's US election victory --------------------------------------------- BBC NI asks people in Belfast how they feel about Donald Trump's victory in the US election.\"}, {'url': 'https://www.thesouthafrican.com/news/politics/heres-when-donald-trump-will-officially-become-us-president-question-explainer-helpful-date/', 'content': \"Here's when Donald Trump will officially become US president Studentlife News Studentlife News Donald Trump will be the 47th - and next - US president after he defeated Kamala Harris in November's election. Here’s when Donald Trump will officially become US president Donald Trump will be the 47th – and next – US president after he defeated Kamala Harris in November’s election. Donald Trump will be the 47th - and next - US president after he defeated Kamala Harris in November's election. Donald Trump will be the 47th – and next – US president after he defeated Kamala Harris in November’s election. Is Donald Trump US president yet? Can Donald Trump serve a third term as president?\"}]]}\n",
            "----\n"
          ]
        }
      ]
    },
    {
      "cell_type": "code",
      "source": [
        "for s in app.stream({\"messages\": [\"what do you know about Egypt clubs?\"]}):\n",
        "    print(list(s.values())[0])\n",
        "    print(\"----\")\n"
      ],
      "metadata": {
        "colab": {
          "base_uri": "https://localhost:8080/"
        },
        "id": "cgk6Ou8PwZtz",
        "outputId": "98552ef7-b730-4916-facd-2d4794ae96af"
      },
      "execution_count": null,
      "outputs": [
        {
          "output_type": "stream",
          "name": "stdout",
          "text": [
            "{'messages': [AIMessage(content='', additional_kwargs={'tool_calls': [{'id': 'call_pv7t', 'function': {'arguments': '{\"query\": \"Egypt clubs\"}', 'name': 'search'}, 'type': 'function'}]}, response_metadata={'token_usage': {'completion_tokens': 14, 'prompt_tokens': 279, 'total_tokens': 293, 'completion_time': 0.070303942, 'prompt_time': 0.054489198, 'queue_time': 0.31528038199999997, 'total_time': 0.12479314}, 'model_name': 'llama-3.3-70b-versatile', 'system_fingerprint': 'fp_3884478861', 'finish_reason': 'tool_calls', 'logprobs': None}, id='run-e4bbefc2-f947-4164-ad9c-cd120535a43d-0', tool_calls=[{'name': 'search', 'args': {'query': 'Egypt clubs'}, 'id': 'call_pv7t', 'type': 'tool_call'}], usage_metadata={'input_tokens': 279, 'output_tokens': 14, 'total_tokens': 293})]}\n",
            "----\n",
            "Selected tool: search\n",
            "[y/n] continue with expensive web search?y\n",
            "{'messages': [[{'url': 'https://framey.io/blog/egypt-nightlife-20-must-visit-bars-and-dance-clubs/', 'content': \"Egypt Nightlife: 20 Must-Visit Bars > If you think that a country where the sun rarely sets is not the right place for exciting nightlife, think again. The Egypt night is alive and kicking, with a vibrant bar, club, and lounge scene in most major cities. Whether you're looking for upscale cocktail bars with a sophisticated atmosphere or exotic dance clubs with cheap beer and local singers\"}, {'url': 'https://www.nightflow.com/best-nightclubs-in-cairo/', 'content': 'Dice Club is a nightclub situated in Egypt, Royal king boat Kornish, Agouzah, Egypt. Dice Club exhibits very good service: very, variety of drinks with reasonable prices.'}, {'url': 'https://www.nightflow.com/cairo-nightlife/', 'content': 'Egypt is packed with popular tourist attractions, discotheques, clubs, pubs, modern public houses, and more. It was long ago that Egypt was only famous for its various historical places.'}, {'url': 'https://www.localguidetoegypt.com/post/best-bars-pubs-clubs-and-other-nightlife-spots-in-cairo', 'content': 'A guide to the best bars, pubs, lounges, clubs and other nightlife spots in Cairo, Egypt, as voted for by locals.'}, {'url': 'https://gobackpacking.com/travel-guides/egypt/nightlife-bars-clubs-dating/', 'content': 'Guide to Egypt nightlife, including tips for going out partying and dating the local Egyptian women and men.'}]]}\n",
            "----\n"
          ]
        }
      ]
    },
    {
      "cell_type": "markdown",
      "source": [
        "#**Built in Human in the loop**"
      ],
      "metadata": {
        "id": "IBR3AARMD5oY"
      }
    },
    {
      "cell_type": "markdown",
      "source": [
        "##**Tools**"
      ],
      "metadata": {
        "id": "YrqNlBk3EfoD"
      }
    },
    {
      "cell_type": "code",
      "source": [
        "tavily=TavilySearchResults()\n",
        "tools = [tavily]\n",
        "llm_with_tools = llm.bind_tools(tools)\n"
      ],
      "metadata": {
        "id": "ul13WBWlxB6M"
      },
      "execution_count": null,
      "outputs": []
    },
    {
      "cell_type": "code",
      "source": [
        "tool_node = ToolNode(tools=tools)"
      ],
      "metadata": {
        "id": "_t16whGMEXUr"
      },
      "execution_count": null,
      "outputs": []
    },
    {
      "cell_type": "markdown",
      "source": [
        "##**Memory**"
      ],
      "metadata": {
        "id": "5DIiXQZMEYDY"
      }
    },
    {
      "cell_type": "code",
      "source": [
        "memory = MemorySaver()\n"
      ],
      "metadata": {
        "id": "ge7FgNI3EZuu"
      },
      "execution_count": null,
      "outputs": []
    },
    {
      "cell_type": "markdown",
      "source": [
        "##**node functions**"
      ],
      "metadata": {
        "id": "iLhudelTEaGU"
      }
    },
    {
      "cell_type": "code",
      "source": [
        "def ai_assistant(state: AgentState):\n",
        "    return {\"messages\": [llm_with_tools.invoke(state[\"messages\"])]}\n"
      ],
      "metadata": {
        "id": "0sDDxCQfETTp"
      },
      "execution_count": null,
      "outputs": []
    },
    {
      "cell_type": "code",
      "source": [
        "graph_builder = StateGraph(AgentState)\n",
        "\n",
        "graph_builder.add_node(\"ai_assistant\", ai_assistant)\n",
        "graph_builder.add_node(\"tools\", tool_node)\n",
        "graph_builder.add_edge(START, \"ai_assistant\")\n",
        "\n",
        "graph_builder.add_conditional_edges(\n",
        "    \"ai_assistant\",\n",
        "    tools_condition, # in-built function from langgraph\n",
        ")\n",
        "graph_builder.add_edge(\"tools\", \"ai_assistant\")"
      ],
      "metadata": {
        "colab": {
          "base_uri": "https://localhost:8080/"
        },
        "id": "csAqxsyrETQT",
        "outputId": "1e59781c-57c0-46cf-cd40-552ecb68f3db"
      },
      "execution_count": null,
      "outputs": [
        {
          "output_type": "execute_result",
          "data": {
            "text/plain": [
              "<langgraph.graph.state.StateGraph at 0x78c52630c310>"
            ]
          },
          "metadata": {},
          "execution_count": 23
        }
      ]
    },
    {
      "cell_type": "code",
      "source": [
        "app2 = graph_builder.compile(\n",
        "    checkpointer=memory,         # memory\n",
        "    interrupt_before=[\"tools\"],  # Human in the loop\n",
        "\n",
        "    # Note: can also interrupt __after__ tools, if desired.\n",
        "    # interrupt_after=[\"tools\"]\n",
        ")"
      ],
      "metadata": {
        "id": "EvD399Z-ETOA"
      },
      "execution_count": null,
      "outputs": []
    },
    {
      "cell_type": "code",
      "source": [
        "\n",
        "from IPython.display import Image, display\n",
        "display(Image(app2.get_graph().draw_mermaid_png()))"
      ],
      "metadata": {
        "colab": {
          "base_uri": "https://localhost:8080/",
          "height": 308
        },
        "id": "btzhmejsETLm",
        "outputId": "b8afa5ea-3002-4bf2-b530-9f0b2c5d48f5"
      },
      "execution_count": null,
      "outputs": [
        {
          "output_type": "display_data",
          "data": {
            "image/png": "[encoded data removed]",
            "text/plain": [
              "<IPython.core.display.Image object>"
            ]
          },
          "metadata": {}
        }
      ]
    },
    {
      "cell_type": "markdown",
      "source": [
        "##**Config**\n",
        "its like creating a session , each thread will mantian\n",
        "1. history\n",
        "2. states"
      ],
      "metadata": {
        "id": "BlhlACqZG5bn"
      }
    },
    {
      "cell_type": "code",
      "source": [
        "config = {\"configurable\": {\"thread_id\": \"1\"}}"
      ],
      "metadata": {
        "id": "JHwGzgyQG67q"
      },
      "execution_count": null,
      "outputs": []
    },
    {
      "cell_type": "markdown",
      "source": [
        "##**Testing**"
      ],
      "metadata": {
        "id": "fo4LePthG-_B"
      }
    },
    {
      "cell_type": "code",
      "source": [
        "user_input = \"who is a top scorer for liverpool?\""
      ],
      "metadata": {
        "id": "4B0REeZ9HUly"
      },
      "execution_count": null,
      "outputs": []
    },
    {
      "cell_type": "code",
      "source": [
        "events = app2.stream(\n",
        "    {\"messages\": [(\"user\", user_input)]}, config, stream_mode=\"values\")\n",
        "for event in events:\n",
        "    if \"messages\" in event:\n",
        "        print(event[\"messages\"][-1])"
      ],
      "metadata": {
        "colab": {
          "base_uri": "https://localhost:8080/"
        },
        "id": "5DyihGZKG-Rs",
        "outputId": "0e38186b-72b8-46ac-8d87-a70bc64d9eaf"
      },
      "execution_count": null,
      "outputs": [
        {
          "output_type": "stream",
          "name": "stdout",
          "text": [
            "('user', 'who is a top scorer for liverpool?')\n",
            "content='' additional_kwargs={'tool_calls': [{'id': 'call_b169', 'function': {'arguments': '{\"query\": \"Liverpool top scorer\"}', 'name': 'tavily_search_results_json'}, 'type': 'function'}]} response_metadata={'token_usage': {'completion_tokens': 20, 'prompt_tokens': 2558, 'total_tokens': 2578, 'completion_time': 0.072727273, 'prompt_time': 0.288529643, 'queue_time': 0.024062585999999997, 'total_time': 0.361256916}, 'model_name': 'llama-3.3-70b-versatile', 'system_fingerprint': 'fp_fcc3b74982', 'finish_reason': 'tool_calls', 'logprobs': None} id='run-3c191a4a-834d-4a9b-8e4a-e67274029c33-0' tool_calls=[{'name': 'tavily_search_results_json', 'args': {'query': 'Liverpool top scorer'}, 'id': 'call_b169', 'type': 'tool_call'}] usage_metadata={'input_tokens': 2558, 'output_tokens': 20, 'total_tokens': 2578}\n"
          ]
        }
      ]
    },
    {
      "cell_type": "markdown",
      "source": [
        "now the workflow is interrputed before `tools node`\n",
        "we can acess the states by `.get_state` method and passing the `config`"
      ],
      "metadata": {
        "id": "6ScCmgrFImkK"
      }
    },
    {
      "cell_type": "code",
      "source": [
        "snapshot = app2.get_state(config)\n"
      ],
      "metadata": {
        "id": "PLVpUNCYHcgP"
      },
      "execution_count": null,
      "outputs": []
    },
    {
      "cell_type": "code",
      "source": [
        "snapshot.next\n"
      ],
      "metadata": {
        "colab": {
          "base_uri": "https://localhost:8080/"
        },
        "id": "NKCisuxOIGYP",
        "outputId": "3c336ad5-616e-44e4-b4ec-ceb00592f3a7"
      },
      "execution_count": null,
      "outputs": [
        {
          "output_type": "execute_result",
          "data": {
            "text/plain": [
              "('tools',)"
            ]
          },
          "metadata": {},
          "execution_count": 39
        }
      ]
    },
    {
      "cell_type": "code",
      "source": [
        "last_message=snapshot.values[\"messages\"][-1]\n",
        "last_message"
      ],
      "metadata": {
        "colab": {
          "base_uri": "https://localhost:8080/"
        },
        "id": "53jQBvcBIIRe",
        "outputId": "07d8b824-7cf4-4263-a4f7-1d0ad0225d59"
      },
      "execution_count": null,
      "outputs": [
        {
          "output_type": "execute_result",
          "data": {
            "text/plain": [
              "AIMessage(content='', additional_kwargs={'tool_calls': [{'id': 'call_b169', 'function': {'arguments': '{\"query\": \"Liverpool top scorer\"}', 'name': 'tavily_search_results_json'}, 'type': 'function'}]}, response_metadata={'token_usage': {'completion_tokens': 20, 'prompt_tokens': 2558, 'total_tokens': 2578, 'completion_time': 0.072727273, 'prompt_time': 0.288529643, 'queue_time': 0.024062585999999997, 'total_time': 0.361256916}, 'model_name': 'llama-3.3-70b-versatile', 'system_fingerprint': 'fp_fcc3b74982', 'finish_reason': 'tool_calls', 'logprobs': None}, id='run-3c191a4a-834d-4a9b-8e4a-e67274029c33-0', tool_calls=[{'name': 'tavily_search_results_json', 'args': {'query': 'Liverpool top scorer'}, 'id': 'call_b169', 'type': 'tool_call'}], usage_metadata={'input_tokens': 2558, 'output_tokens': 20, 'total_tokens': 2578})"
            ]
          },
          "metadata": {},
          "execution_count": 42
        }
      ]
    },
    {
      "cell_type": "code",
      "source": [
        "last_message.tool_calls\n"
      ],
      "metadata": {
        "colab": {
          "base_uri": "https://localhost:8080/"
        },
        "id": "3Ion-UcoIKpm",
        "outputId": "c7dd653c-bbfa-4d64-aa11-d9f2041d74f7"
      },
      "execution_count": null,
      "outputs": [
        {
          "output_type": "execute_result",
          "data": {
            "text/plain": [
              "[{'name': 'tavily_search_results_json',\n",
              "  'args': {'query': 'Liverpool top scorer'},\n",
              "  'id': 'call_b169',\n",
              "  'type': 'tool_call'}]"
            ]
          },
          "metadata": {},
          "execution_count": 41
        }
      ]
    },
    {
      "cell_type": "code",
      "source": [
        "# `None` will append nothing new to the current state, letting it resume as if it had never been interrupted\n",
        "events = app2.stream(None, config, stream_mode=\"values\")\n"
      ],
      "metadata": {
        "id": "hozpwypnIMll"
      },
      "execution_count": null,
      "outputs": []
    },
    {
      "cell_type": "code",
      "source": [
        "for event in events:\n",
        "    if \"messages\" in event:\n",
        "        print(event[\"messages\"][-1])"
      ],
      "metadata": {
        "colab": {
          "base_uri": "https://localhost:8080/"
        },
        "id": "eS7hftt7bztC",
        "outputId": "5107d12e-9bcc-4208-fdaa-785b7fc6506e"
      },
      "execution_count": null,
      "outputs": [
        {
          "output_type": "stream",
          "name": "stdout",
          "text": [
            "content='' additional_kwargs={'tool_calls': [{'id': 'call_b169', 'function': {'arguments': '{\"query\": \"Liverpool top scorer\"}', 'name': 'tavily_search_results_json'}, 'type': 'function'}]} response_metadata={'token_usage': {'completion_tokens': 20, 'prompt_tokens': 2558, 'total_tokens': 2578, 'completion_time': 0.072727273, 'prompt_time': 0.288529643, 'queue_time': 0.024062585999999997, 'total_time': 0.361256916}, 'model_name': 'llama-3.3-70b-versatile', 'system_fingerprint': 'fp_fcc3b74982', 'finish_reason': 'tool_calls', 'logprobs': None} id='run-3c191a4a-834d-4a9b-8e4a-e67274029c33-0' tool_calls=[{'name': 'tavily_search_results_json', 'args': {'query': 'Liverpool top scorer'}, 'id': 'call_b169', 'type': 'tool_call'}] usage_metadata={'input_tokens': 2558, 'output_tokens': 20, 'total_tokens': 2578}\n",
            "content='[{\"url\": \"https://www.thisisanfield.com/2024/09/liverpool-fc-top-10-goalscorers-of-all-time-mo-salah-ranks/\", \"content\": \"Henry \\'Harry\\' Chambers was Liverpool\\'s top scorer in all four seasons between 1919/20 and 1922/23. With a lethal left foot, he played a vital role in the Reds\\' back-to-back First Division\"}, {\"url\": \"https://www.11v11.com/teams/liverpool/tab/stats/option/scorers/\", \"content\": \"Top Liverpool goal scorers. Below are Liverpool\\'s top Premier League scorers and the totals they have scored. Totals are updated after each game and occasionally amended in the light of decisions of the Dubious Goal Committee. Player Goals First Latest; Mohamed Salah: 174: 12 Aug 2017: 25 Jan 2025: Robbie Fowler: 128:\"}, {\"url\": \"https://www.footballtransfers.com/en/transfer-news/uk-premier-league/2024/04/liverpool-top-goalscorers-all-time\", \"content\": \"Liverpool\\'s top 10 all-time record goalscorers. Ian Rush is Liverpool\\'s record goalscorer with 346 goals in 660 appearances for the north London outfit. The Welshman was instrumental to Liverpool\\'s success in the 1980s, and he won 20 trophies during his career at Anfield. Roger Hunt is the Reds\\' second-highest goalscorer of all time.\"}, {\"url\": \"https://www.espn.com/soccer/team/stats/_/id/364/liverpool\", \"content\": \"Liverpool 2024-25 Stats - ESPN ESPN Find where to watch all of your favorite sports! Liverpool Scoring Stats | RK | Name | P | G | | RK | Name | P | A | Premier League News Transfer rumors, news: Liverpool, Man Utd to battle for Pulisic --------------------------------------------------------------- Christian Pulisic\\'s stellar performances this season have got Premier League clubs circling. * 1h * ESPN Collection ---------- * 5h Collection ---------- * 5h * 5h * Gab Marcotti * 6h All Premier League News Work for ESPN ESPN BET is available in states where PENN is licensed to offer sports wagering.\"}, {\"url\": \"https://www.thisisanfield.com/season/liverpool-fc-top-scorers-assists/\", \"content\": \"Listing the top Liverpool FC goalscorers and assisters in the current season (all competitions). Top Scorers. Top Assists. First published: 24th August, 2024. LFC News.\"}]' name='tavily_search_results_json' tool_call_id='call_b169' artifact={'query': 'Liverpool top scorer', 'follow_up_questions': None, 'answer': None, 'images': [], 'results': [{'title': 'Liverpool FC top 10 goalscorers of all time - This Is Anfield', 'url': 'https://www.thisisanfield.com/2024/09/liverpool-fc-top-10-goalscorers-of-all-time-mo-salah-ranks/', 'content': \"Henry 'Harry' Chambers was Liverpool's top scorer in all four seasons between 1919/20 and 1922/23. With a lethal left foot, he played a vital role in the Reds' back-to-back First Division\", 'score': 0.89189607, 'raw_content': None}, {'title': 'Liverpool football club statistics and records: top scorers - 11v11', 'url': 'https://www.11v11.com/teams/liverpool/tab/stats/option/scorers/', 'content': \"Top Liverpool goal scorers. Below are Liverpool's top Premier League scorers and the totals they have scored. Totals are updated after each game and occasionally amended in the light of decisions of the Dubious Goal Committee. Player Goals First Latest; Mohamed Salah: 174: 12 Aug 2017: 25 Jan 2025: Robbie Fowler: 128:\", 'score': 0.8682137, 'raw_content': None}, {'title': \"Liverpool's top 10 goalscorers of all time - FootballTransfers.com\", 'url': 'https://www.footballtransfers.com/en/transfer-news/uk-premier-league/2024/04/liverpool-top-goalscorers-all-time', 'content': \"Liverpool's top 10 all-time record goalscorers. Ian Rush is Liverpool's record goalscorer with 346 goals in 660 appearances for the north London outfit. The Welshman was instrumental to Liverpool's success in the 1980s, and he won 20 trophies during his career at Anfield. Roger Hunt is the Reds' second-highest goalscorer of all time.\", 'score': 0.8679453, 'raw_content': None}, {'title': 'Liverpool 2024-25 Stats - ESPN', 'url': 'https://www.espn.com/soccer/team/stats/_/id/364/liverpool', 'content': \"Liverpool 2024-25 Stats - ESPN ESPN Find where to watch all of your favorite sports! Liverpool Scoring Stats | RK | Name | P | G | | RK | Name | P | A | Premier League News Transfer rumors, news: Liverpool, Man Utd to battle for Pulisic --------------------------------------------------------------- Christian Pulisic's stellar performances this season have got Premier League clubs circling. * 1h * ESPN Collection ---------- * 5h Collection ---------- * 5h * 5h * Gab Marcotti * 6h All Premier League News Work for ESPN ESPN BET is available in states where PENN is licensed to offer sports wagering.\", 'score': 0.5832277, 'raw_content': None}, {'title': 'Liverpool FC Top Scorers & Assists - This Is Anfield', 'url': 'https://www.thisisanfield.com/season/liverpool-fc-top-scorers-assists/', 'content': 'Listing the top Liverpool FC goalscorers and assisters in the current season (all competitions). Top Scorers. Top Assists. First published: 24th August, 2024. LFC News.', 'score': 0.5752307, 'raw_content': None}], 'response_time': 2.26}\n",
            "content='The top scorer for Liverpool is Ian Rush with 346 goals in 660 appearances.' additional_kwargs={} response_metadata={'token_usage': {'completion_tokens': 18, 'prompt_tokens': 3142, 'total_tokens': 3160, 'completion_time': 0.090828834, 'prompt_time': 0.484109399, 'queue_time': 0.03341401599999999, 'total_time': 0.574938233}, 'model_name': 'llama-3.3-70b-versatile', 'system_fingerprint': 'fp_c0cfa69934', 'finish_reason': 'stop', 'logprobs': None} id='run-076d1b2c-daa0-453c-9cd3-cd8e476adb86-0' usage_metadata={'input_tokens': 3142, 'output_tokens': 18, 'total_tokens': 3160}\n"
          ]
        }
      ]
    },
    {
      "cell_type": "code",
      "source": [
        "user_input = \"who is the top scorer this season\"\n",
        "\n",
        "config = {\"configurable\": {\"thread_id\": \"1\"}}"
      ],
      "metadata": {
        "id": "US-OUcPCd5FU"
      },
      "execution_count": null,
      "outputs": []
    },
    {
      "cell_type": "code",
      "source": [
        "events = app2.stream(\n",
        "    {\"messages\": [(\"user\", user_input)]}, config, stream_mode=\"values\"\n",
        ")\n",
        "\n",
        "for event in events:\n",
        "    if \"messages\" in event:\n",
        "        print(event[\"messages\"][-1])"
      ],
      "metadata": {
        "colab": {
          "base_uri": "https://localhost:8080/"
        },
        "id": "w4gW3Cwhe9WF",
        "outputId": "12aabea5-d7c1-4ec0-e1e6-5d62f5cdb1f4"
      },
      "execution_count": null,
      "outputs": [
        {
          "output_type": "stream",
          "name": "stdout",
          "text": [
            "('user', 'who is the top scorer this season')\n",
            "content='' additional_kwargs={'tool_calls': [{'id': 'call_h6vf', 'function': {'arguments': '{\"query\": \"Liverpool top scorer this season\"}', 'name': 'tavily_search_results_json'}, 'type': 'function'}]} response_metadata={'token_usage': {'completion_tokens': 22, 'prompt_tokens': 3176, 'total_tokens': 3198, 'completion_time': 0.08, 'prompt_time': 0.389185992, 'queue_time': 0.07466975800000003, 'total_time': 0.469185992}, 'model_name': 'llama-3.3-70b-versatile', 'system_fingerprint': 'fp_4196e754db', 'finish_reason': 'tool_calls', 'logprobs': None} id='run-7c31a30d-9dc4-449d-b05e-54a8e7c89877-0' tool_calls=[{'name': 'tavily_search_results_json', 'args': {'query': 'Liverpool top scorer this season'}, 'id': 'call_h6vf', 'type': 'tool_call'}] usage_metadata={'input_tokens': 3176, 'output_tokens': 22, 'total_tokens': 3198}\n"
          ]
        }
      ]
    },
    {
      "cell_type": "code",
      "source": [
        "snapshot = app2.get_state(config)\n",
        "snapshot.next\n"
      ],
      "metadata": {
        "colab": {
          "base_uri": "https://localhost:8080/"
        },
        "id": "U3e9ElGefGlv",
        "outputId": "d3e1f40d-af3f-4d72-8568-93bcc41a968b"
      },
      "execution_count": null,
      "outputs": [
        {
          "output_type": "execute_result",
          "data": {
            "text/plain": [
              "('tools',)"
            ]
          },
          "metadata": {},
          "execution_count": 47
        }
      ]
    },
    {
      "cell_type": "code",
      "source": [
        "last_message=snapshot.values[\"messages\"][-1]\n",
        "last_message.tool_calls\n"
      ],
      "metadata": {
        "colab": {
          "base_uri": "https://localhost:8080/"
        },
        "id": "gnI9NxvSfUeB",
        "outputId": "0e92b566-0992-4299-b613-b9cda7e84ef6"
      },
      "execution_count": null,
      "outputs": [
        {
          "output_type": "execute_result",
          "data": {
            "text/plain": [
              "[{'name': 'tavily_search_results_json',\n",
              "  'args': {'query': 'Liverpool top scorer this season'},\n",
              "  'id': 'call_h6vf',\n",
              "  'type': 'tool_call'}]"
            ]
          },
          "metadata": {},
          "execution_count": 48
        }
      ]
    },
    {
      "cell_type": "code",
      "source": [
        "events = app2.stream(None, config, stream_mode=\"values\")\n",
        "for event in events:\n",
        "    if \"messages\" in event:\n",
        "        print(event[\"messages\"][-1])"
      ],
      "metadata": {
        "colab": {
          "base_uri": "https://localhost:8080/"
        },
        "id": "udPZSdP3fYgh",
        "outputId": "6e094c6a-2afa-4a77-d61b-7cecb79c8049"
      },
      "execution_count": null,
      "outputs": [
        {
          "output_type": "stream",
          "name": "stdout",
          "text": [
            "content='' additional_kwargs={'tool_calls': [{'id': 'call_h6vf', 'function': {'arguments': '{\"query\": \"Liverpool top scorer this season\"}', 'name': 'tavily_search_results_json'}, 'type': 'function'}]} response_metadata={'token_usage': {'completion_tokens': 22, 'prompt_tokens': 3176, 'total_tokens': 3198, 'completion_time': 0.08, 'prompt_time': 0.389185992, 'queue_time': 0.07466975800000003, 'total_time': 0.469185992}, 'model_name': 'llama-3.3-70b-versatile', 'system_fingerprint': 'fp_4196e754db', 'finish_reason': 'tool_calls', 'logprobs': None} id='run-7c31a30d-9dc4-449d-b05e-54a8e7c89877-0' tool_calls=[{'name': 'tavily_search_results_json', 'args': {'query': 'Liverpool top scorer this season'}, 'id': 'call_h6vf', 'type': 'tool_call'}] usage_metadata={'input_tokens': 3176, 'output_tokens': 22, 'total_tokens': 3198}\n",
            "content='[{\"url\": \"https://www.statmuse.com/fc/ask/top-scorers-for-liverpool-this-season\", \"content\": \"Mohamed Salah has the most goals by a Liverpool player in the Premier League this season, with 10 goals.\"}, {\"url\": \"https://www.statmuse.com/fc/ask?q=liverpool+top+scorers+24/25\", \"content\": \"Mohamed Salah has scored the most goals by a Liverpool player in the Premier League this season, with 18 goals.\"}, {\"url\": \"https://www.skysports.com/football/news/11669/13175916/liverpool-top-scorers-2025-25\", \"content\": \"Liverpool top scorers 2025/25. Mohamed Salah led the way for Liverpool last season with 18 goals - see all Liverpool\\'s top goalscorers in the Premier League for the 2024/25 season with our final\"}, {\"url\": \"https://www.espn.com/soccer/team/stats/_/id/364/liverpool\", \"content\": \"Liverpool 2024-25 Stats - ESPN ESPN Find where to watch all of your favorite sports! Liverpool Scoring Stats | RK | Name | P | G | | RK | Name | P | A | Premier League News Transfer rumors, news: Liverpool, Man Utd to battle for Pulisic --------------------------------------------------------------- Christian Pulisic\\'s stellar performances this season have got Premier League clubs circling. * 1h * ESPN Collection ---------- * 5h Collection ---------- * 5h * 5h * Gab Marcotti * 6h All Premier League News Work for ESPN ESPN BET is available in states where PENN is licensed to offer sports wagering.\"}, {\"url\": \"https://www.thisisanfield.com/season/liverpool-fc-top-scorers-assists/\", \"content\": \"Listing the top Liverpool FC goalscorers and assisters in the current season (all competitions). Top Scorers. Top Assists.\"}]' name='tavily_search_results_json' tool_call_id='call_h6vf' artifact={'query': 'Liverpool top scorer this season', 'follow_up_questions': None, 'answer': None, 'images': [], 'results': [{'title': 'Top Scorers For Liverpool This Season - StatMuse', 'url': 'https://www.statmuse.com/fc/ask/top-scorers-for-liverpool-this-season', 'content': 'Mohamed Salah has the most goals by a Liverpool player in the Premier League this season, with 10 goals.', 'score': 0.9061314, 'raw_content': None}, {'title': 'Liverpool Top Scorers 24/25 - StatMuse', 'url': 'https://www.statmuse.com/fc/ask?q=liverpool+top+scorers+24/25', 'content': 'Mohamed Salah has scored the most goals by a Liverpool player in the Premier League this season, with 18 goals.', 'score': 0.9049283, 'raw_content': None}, {'title': 'Liverpool top scorers 2025/25 | Football News - Sky Sports', 'url': 'https://www.skysports.com/football/news/11669/13175916/liverpool-top-scorers-2025-25', 'content': \"Liverpool top scorers 2025/25. Mohamed Salah led the way for Liverpool last season with 18 goals - see all Liverpool's top goalscorers in the Premier League for the 2024/25 season with our final\", 'score': 0.87706697, 'raw_content': None}, {'title': 'Liverpool 2024-25 Stats - ESPN', 'url': 'https://www.espn.com/soccer/team/stats/_/id/364/liverpool', 'content': \"Liverpool 2024-25 Stats - ESPN ESPN Find where to watch all of your favorite sports! Liverpool Scoring Stats | RK | Name | P | G | | RK | Name | P | A | Premier League News Transfer rumors, news: Liverpool, Man Utd to battle for Pulisic --------------------------------------------------------------- Christian Pulisic's stellar performances this season have got Premier League clubs circling. * 1h * ESPN Collection ---------- * 5h Collection ---------- * 5h * 5h * Gab Marcotti * 6h All Premier League News Work for ESPN ESPN BET is available in states where PENN is licensed to offer sports wagering.\", 'score': 0.70871735, 'raw_content': None}, {'title': 'Liverpool FC Top Scorers & Assists - This Is Anfield', 'url': 'https://www.thisisanfield.com/season/liverpool-fc-top-scorers-assists/', 'content': 'Listing the top Liverpool FC goalscorers and assisters in the current season (all competitions). Top Scorers. Top Assists.', 'score': 0.5533369, 'raw_content': None}], 'response_time': 1.61}\n",
            "content='The top scorer for Liverpool this season is Mohamed Salah with 18 goals.' additional_kwargs={} response_metadata={'token_usage': {'completion_tokens': 16, 'prompt_tokens': 3627, 'total_tokens': 3643, 'completion_time': 0.058181818, 'prompt_time': 0.402125388, 'queue_time': 0.11737293700000007, 'total_time': 0.460307206}, 'model_name': 'llama-3.3-70b-versatile', 'system_fingerprint': 'fp_4196e754db', 'finish_reason': 'stop', 'logprobs': None} id='run-0ffe4cd0-745a-4d9c-8202-fc838d314b80-0' usage_metadata={'input_tokens': 3627, 'output_tokens': 16, 'total_tokens': 3643}\n"
          ]
        }
      ]
    },
    {
      "cell_type": "code",
      "source": [
        "snapshot = app2.get_state(config)\n",
        "snapshot"
      ],
      "metadata": {
        "colab": {
          "base_uri": "https://localhost:8080/"
        },
        "collapsed": true,
        "id": "IzFXNqGjfgLb",
        "outputId": "757874c8-66f6-4ab1-eea9-ebbae7a860dd"
      },
      "execution_count": null,
      "outputs": [
        {
          "output_type": "execute_result",
          "data": {
            "text/plain": [
              "StateSnapshot(values={'messages': [['user', 'who is a current president of USA?'], AIMessage(content='', additional_kwargs={'tool_calls': [{'id': 'call_n1cg', 'function': {'arguments': '{\"query\": \"current president of USA\"}', 'name': 'tavily_search_results_json'}, 'type': 'function'}]}, response_metadata={'token_usage': {'completion_tokens': 21, 'prompt_tokens': 286, 'total_tokens': 307, 'completion_time': 0.105808186, 'prompt_time': 0.059969898, 'queue_time': 0.11443092400000002, 'total_time': 0.165778084}, 'model_name': 'llama-3.3-70b-versatile', 'system_fingerprint': 'fp_c0cfa69934', 'finish_reason': 'tool_calls', 'logprobs': None}, id='run-72c878af-2cc5-4ffc-939a-821dda91abb7-0', tool_calls=[{'name': 'tavily_search_results_json', 'args': {'query': 'current president of USA'}, 'id': 'call_n1cg', 'type': 'tool_call'}], usage_metadata={'input_tokens': 286, 'output_tokens': 21, 'total_tokens': 307}), ToolMessage(content='[{\"url\": \"https://www.usa.gov/presidents\", \"content\": \"Vice president of the United States\\\\nThe vice president of the United States presides over the U.S. Senate and takes over the role of president of the United States if the president is unable to perform his or her duties. President of the United States\\\\nThe president of the United States is the:\\\\nCurrent president\\\\nThe 46th and current president of the United States is Joseph R. Biden, Jr. First lady\\\\nThe First lady of the United States has traditionally been the wife or other close female relative of the president of the United States. Requirements to be eligible to become president\\\\nAccording to Article II of the U.S. Constitution, the president must:\\\\nLearn about the U.S. presidential election process.\\\\n If the vice president is not able to fulfill the duties of president, the role is passed to another leader in the order of presidential succession.\\\\n\"}, {\"url\": \"https://simple.wikipedia.org/wiki/President_of_the_United_States\", \"content\": \"The president is also the head of the executive branch of the federal government of the United States and is the chairman of the presidential cabinet.[10]\\\\nJoe Biden is the 46th and current president of the United States, in office since January 2021.[11]\\\\nEligibility and requirements[change | change source]\\\\nArticle II, Section 1, Clause 5 of the constitution states for a person to serve as president must:\\\\nElection process and presidential terms[change | change source]\\\\nThe president is elected by the people through the Electoral College to a four-year term, along with the vice presidential candidate or the incumbent vice president of the United States as their running mate.[12] Contents\\\\nPresident of the United States\\\\nThe president of the United States (POTUS)[9] is the head of state and head of government of the United States of America and the commander-in-chief of the United States Armed Forces. Executive Office of the President[change | change source]\\\\nThe Executive Office of the President consists of the offices and agencies that support the work of the president at the center of the executive branch of the United States federal government. President-elect of the United States[change | change source]\\\\nThe president-elect of the United States is the candidate who has won the United States presidential election and is awaiting inauguration to become the president.\\\\n The office consists of several offices and agencies, such as the White House Office, the staff working directly for and reporting to the president, including White House staff, the National Security Council, and the Office of Management and Budget.\\\\n\"}, {\"url\": \"https://en.wikipedia.org/wiki/List_of_Presidents_of_the_United_States\", \"content\": \"National Union[l]\\\\n1864\\\\nAndrew Johnson\\\\nDemocratic\\\\n1872\\\\nHenry Wilson[e]\\\\nVacant\\xa0afterNovember 22, 1875\\\\nVacant\\xa0afterNovember 25, 1885\\\\n1900\\\\nVacant\\xa0afterNovember 21, 1899\\\\nTheodore Roosevelt\\\\n1904\\\\nCharles W. Fairbanks\\\\nVacant\\xa0afterOctober 30, 1912\\\\n1916\\\\n1924\\\\nCharles G. Dawes\\\\n1936\\\\n1940\\\\n1944\\\\nHenry A. Wallace\\\\nHarry S. Truman\\\\n1948\\\\nAlben W. Barkley\\\\n1956\\\\n1964\\\\nHubert Humphrey\\\\n1972\\\\nVacant:October 10\\xa0– December 6, 1973\\\\nGerald Ford[t]\\\\nNelson Rockefeller[t]\\\\n1984\\\\n1996\\\\n2004\\\\n2012\\\\nSee also\\\\nNotes\\\\nReferences\\\\nWorks cited\\\\nGeneral\\\\nExpert studies\\\\nPresidential biographies\\\\nOnline sources\\\\nExternal links He was, and remains, the only U.S. president never affiliated with a political party.[13]\\\\nPresidents\\\\n1792\\\\n1804\\\\nGeorge Clinton\\\\n1812\\\\nVacant\\xa0afterApril 20, 1812\\\\nElbridge Gerry[e]\\\\nVacant\\xa0afterNovember 23, 1814\\\\n Contents\\\\nList of presidents of the United States\\\\nThe president of the United States is the head of state and head of government of the United States,[1] indirectly elected to a four-year term via the Electoral College.[2] Four presidents died in office of natural causes (William Henry Harrison, Zachary Taylor, Warren G. Harding, and Franklin D. Roosevelt), four were assassinated (Abraham Lincoln, James A. Garfield, William McKinley, and John F. Kennedy), and one resigned (Richard Nixon, facing impeachment and removal from office).[10] John Tyler was the first vice president to assume the presidency during a presidential term, and set the precedent that a vice president who does so becomes the fully functioning president with his presidency.[11]\\\\nThroughout most of its history, American politics has been dominated by political parties. 1820\\\\nNational Republican\\\\n1832\\\\nVacant\\xa0afterDecember 28, 1832\\\\nMartin Van Buren\\\\nUnaffiliated\\\\nVacant\\xa0afterApril 18, 1853\\\\n\"}, {\"url\": \"https://en.wikipedia.org/wiki/President_of_the_United_States\", \"content\": \"The following decade, Woodrow Wilson led the nation to victory during World War I, although Wilson\\'s proposal for the League of Nations was rejected by the Senate.[42]\\\\nWarren Harding, while popular in office, would see his legacy tarnished by scandals, especially Teapot Dome,[43] and Herbert Hoover quickly became very unpopular after failing to alleviate the Great Depression.[44]\\\\nImperial presidency\\\\nThe ascendancy of Franklin D. Roosevelt in 1933 led further toward what historians now describe as the Imperial presidency.[45] Backed by enormous Democratic majorities in Congress and public support for major change, Roosevelt\\'s New Deal dramatically increased the size and scope of the federal government, including more executive agencies.[46]:\\u200a211–12\\u200a The traditionally small presidential staff was greatly expanded, with the Executive Office of the President being created in 1939, none of whom require Senate confirmation.[46]:\\u200a229–231\\u200a Roosevelt\\'s unprecedented re-election to a third and fourth term, the victory of the United States in World War II, and the nation\\'s growing economy all helped established the office as a position of global leadership.[46]:\\u200a269\\u200a His successors, Harry Truman and Dwight D. Eisenhower, each served two terms as the Cold War led the presidency to be viewed as the \\\\\"leader of the free world\\\\\",[47] while John F. Kennedy was a youthful and popular leader who benefited from the rise of television in the 1960s.[48][49]\\\\nAfter Lyndon B. Johnson lost popular support due to the Vietnam War and Richard Nixon\\'s presidency collapsed in the Watergate scandal, Congress enacted a series of reforms intended to reassert itself.[50][51] However, his successor, Martin Van Buren, became unpopular after the Panic of 1837,[31] and the death of William Henry Harrison and subsequent poor relations between John Tyler and Congress led to further weakening of the office.[32] Including Van Buren, in the 24 years between 1837 and 1861, six presidential terms would be filled by eight different men, with none serving two terms.[33] The Senate played an important role during this period, with the Great Triumvirate of Henry Clay, Daniel Webster, and John C. Calhoun playing key roles in shaping national policy in the 1830s and 1840s until debates over slavery began pulling the nation apart in the 1850s.[34][35]\\\\nAbraham Lincoln\\'s leadership during the Civil War has led historians to regard him as one of the nation\\'s greatest presidents.[D] The circumstances of the war and Republican domination of Congress made the office very powerful,[36][37] and Lincoln\\'s re-election in 1864 was the first time a president had been re-elected since Jackson in 1832. Recent presidents have thus increasingly focused on executive orders, agency regulations, and judicial appointments to implement major policies, at the expense of legislation and congressional power.[60] Presidential elections in the 21st century have reflected this continuing polarization, with no candidate except Obama in 2008 winning by more than five percent of the popular vote and two, George W. Bush and Donald Trump, winning in the Electoral College while losing the popular vote.[E]\\\\nCritics of presidency\\'s evolution\\\\nThe nation\\'s Founding Fathers expected the Congress, which was the first branch of government described in the Constitution, to be the dominant branch of government; however, they did not expect a strong executive department.[61] However, presidential power has shifted over time, which has resulted in claims that the modern presidency has become too powerful,[62][63] unchecked, unbalanced,[64] and \\\\\"monarchist\\\\\" in nature.[65] The mechanism has been used by Ronald Reagan (once), George W. Bush (twice), and Joe Biden (once), each in anticipation of surgery.[155][156]\\\\nThe Twenty-fifth Amendment also provides that the vice president, together with a majority of certain members of the Cabinet, may transfer the presidential powers and duties to the vice president by transmitting a written declaration, to the speaker of the House and the president pro tempore of the Senate, to the effect that the president is unable to discharge his or her powers and duties. The exact degree of authority that the Constitution grants to the president as commander-in-chief has been the subject of much debate throughout history, with Congress at various times granting the president wide authority and at others attempting to restrict that authority.[86] The framers of the Constitution took care to limit the president\\'s powers regarding the military; Alexander Hamilton explained this in Federalist No. 69:\\\\nThe President is to be commander-in-chief of the army and navy of the United States.\\xa0...\"}, {\"url\": \"https://www.whitehouse.gov/administration/donald-j-trump/\", \"content\": \"In his first administration, President Trump passed record-setting tax cuts and regulation cuts, achieved energy independence, replaced NAFTA with the United-States-Mexico-Canada Agreement, invested $2 trillion to completely rebuild the Military, launched the Space Force, obliterated the ISIS Caliphate, achieved a major breakthrough for peace in the Middle East, passed the most significant Veterans Affairs reforms in half a century, confirmed over 250 federal judges, including 3 Supreme Court Justices, signed bipartisan Criminal Justice Reform, lowered drug prices, protected Medicare and Social Security, and secured our nation’s borders in his first four years in office. President Trump built on his success in private life when he entered into politics and public service. President Trump is also an accomplished author.\"}]', name='tavily_search_results_json', tool_call_id='call_n1cg', artifact={'query': 'current president of USA', 'follow_up_questions': None, 'answer': None, 'images': [], 'results': [{'title': 'Presidents, vice presidents, and first ladies - USAGov', 'url': 'https://www.usa.gov/presidents', 'content': 'Vice president of the United States\\nThe vice president of the United States presides over the U.S. Senate and takes over the role of president of the United States if the president is unable to perform his or her duties. President of the United States\\nThe president of the United States is the:\\nCurrent president\\nThe 46th and current president of the United States is Joseph R. Biden, Jr. First lady\\nThe First lady of the United States has traditionally been the wife or other close female relative of the president of the United States. Requirements to be eligible to become president\\nAccording to Article II of the U.S. Constitution, the president must:\\nLearn about the U.S. presidential election process.\\n If the vice president is not able to fulfill the duties of president, the role is passed to another leader in the order of presidential succession.\\n', 'score': 0.8364614, 'raw_content': None}, {'title': 'President of the United States - Simple English Wikipedia, the free ...', 'url': 'https://simple.wikipedia.org/wiki/President_of_the_United_States', 'content': 'The president is also the head of the executive branch of the federal government of the United States and is the chairman of the presidential cabinet.[10]\\nJoe Biden is the 46th and current president of the United States, in office since January 2021.[11]\\nEligibility and requirements[change | change source]\\nArticle II, Section 1, Clause 5 of the constitution states for a person to serve as president must:\\nElection process and presidential terms[change | change source]\\nThe president is elected by the people through the Electoral College to a four-year term, along with the vice presidential candidate or the incumbent vice president of the United States as their running mate.[12] Contents\\nPresident of the United States\\nThe president of the United States (POTUS)[9] is the head of state and head of government of the United States of America and the commander-in-chief of the United States Armed Forces. Executive Office of the President[change | change source]\\nThe Executive Office of the President consists of the offices and agencies that support the work of the president at the center of the executive branch of the United States federal government. President-elect of the United States[change | change source]\\nThe president-elect of the United States is the candidate who has won the United States presidential election and is awaiting inauguration to become the president.\\n The office consists of several offices and agencies, such as the White House Office, the staff working directly for and reporting to the president, including White House staff, the National Security Council, and the Office of Management and Budget.\\n', 'score': 0.83452857, 'raw_content': None}, {'title': 'List of presidents of the United States - Wikipedia', 'url': 'https://en.wikipedia.org/wiki/List_of_Presidents_of_the_United_States', 'content': 'National Union[l]\\n1864\\nAndrew Johnson\\nDemocratic\\n1872\\nHenry Wilson[e]\\nVacant\\xa0afterNovember 22, 1875\\nVacant\\xa0afterNovember 25, 1885\\n1900\\nVacant\\xa0afterNovember 21, 1899\\nTheodore Roosevelt\\n1904\\nCharles W. Fairbanks\\nVacant\\xa0afterOctober 30, 1912\\n1916\\n1924\\nCharles G. Dawes\\n1936\\n1940\\n1944\\nHenry A. Wallace\\nHarry S. Truman\\n1948\\nAlben W. Barkley\\n1956\\n1964\\nHubert Humphrey\\n1972\\nVacant:October 10\\xa0– December 6, 1973\\nGerald Ford[t]\\nNelson Rockefeller[t]\\n1984\\n1996\\n2004\\n2012\\nSee also\\nNotes\\nReferences\\nWorks cited\\nGeneral\\nExpert studies\\nPresidential biographies\\nOnline sources\\nExternal links He was, and remains, the only U.S. president never affiliated with a political party.[13]\\nPresidents\\n1792\\n1804\\nGeorge Clinton\\n1812\\nVacant\\xa0afterApril 20, 1812\\nElbridge Gerry[e]\\nVacant\\xa0afterNovember 23, 1814\\n Contents\\nList of presidents of the United States\\nThe president of the United States is the head of state and head of government of the United States,[1] indirectly elected to a four-year term via the Electoral College.[2] Four presidents died in office of natural causes (William Henry Harrison, Zachary Taylor, Warren G. Harding, and Franklin D. Roosevelt), four were assassinated (Abraham Lincoln, James A. Garfield, William McKinley, and John F. Kennedy), and one resigned (Richard Nixon, facing impeachment and removal from office).[10] John Tyler was the first vice president to assume the presidency during a presidential term, and set the precedent that a vice president who does so becomes the fully functioning president with his presidency.[11]\\nThroughout most of its history, American politics has been dominated by political parties. 1820\\nNational Republican\\n1832\\nVacant\\xa0afterDecember 28, 1832\\nMartin Van Buren\\nUnaffiliated\\nVacant\\xa0afterApril 18, 1853\\n', 'score': 0.7173491, 'raw_content': None}, {'title': 'President of the United States - Wikipedia', 'url': 'https://en.wikipedia.org/wiki/President_of_the_United_States', 'content': 'The following decade, Woodrow Wilson led the nation to victory during World War I, although Wilson\\'s proposal for the League of Nations was rejected by the Senate.[42]\\nWarren Harding, while popular in office, would see his legacy tarnished by scandals, especially Teapot Dome,[43] and Herbert Hoover quickly became very unpopular after failing to alleviate the Great Depression.[44]\\nImperial presidency\\nThe ascendancy of Franklin D. Roosevelt in 1933 led further toward what historians now describe as the Imperial presidency.[45] Backed by enormous Democratic majorities in Congress and public support for major change, Roosevelt\\'s New Deal dramatically increased the size and scope of the federal government, including more executive agencies.[46]:\\u200a211–12\\u200a The traditionally small presidential staff was greatly expanded, with the Executive Office of the President being created in 1939, none of whom require Senate confirmation.[46]:\\u200a229–231\\u200a Roosevelt\\'s unprecedented re-election to a third and fourth term, the victory of the United States in World War II, and the nation\\'s growing economy all helped established the office as a position of global leadership.[46]:\\u200a269\\u200a His successors, Harry Truman and Dwight D. Eisenhower, each served two terms as the Cold War led the presidency to be viewed as the \"leader of the free world\",[47] while John F. Kennedy was a youthful and popular leader who benefited from the rise of television in the 1960s.[48][49]\\nAfter Lyndon B. Johnson lost popular support due to the Vietnam War and Richard Nixon\\'s presidency collapsed in the Watergate scandal, Congress enacted a series of reforms intended to reassert itself.[50][51] However, his successor, Martin Van Buren, became unpopular after the Panic of 1837,[31] and the death of William Henry Harrison and subsequent poor relations between John Tyler and Congress led to further weakening of the office.[32] Including Van Buren, in the 24 years between 1837 and 1861, six presidential terms would be filled by eight different men, with none serving two terms.[33] The Senate played an important role during this period, with the Great Triumvirate of Henry Clay, Daniel Webster, and John C. Calhoun playing key roles in shaping national policy in the 1830s and 1840s until debates over slavery began pulling the nation apart in the 1850s.[34][35]\\nAbraham Lincoln\\'s leadership during the Civil War has led historians to regard him as one of the nation\\'s greatest presidents.[D] The circumstances of the war and Republican domination of Congress made the office very powerful,[36][37] and Lincoln\\'s re-election in 1864 was the first time a president had been re-elected since Jackson in 1832. Recent presidents have thus increasingly focused on executive orders, agency regulations, and judicial appointments to implement major policies, at the expense of legislation and congressional power.[60] Presidential elections in the 21st century have reflected this continuing polarization, with no candidate except Obama in 2008 winning by more than five percent of the popular vote and two, George W. Bush and Donald Trump, winning in the Electoral College while losing the popular vote.[E]\\nCritics of presidency\\'s evolution\\nThe nation\\'s Founding Fathers expected the Congress, which was the first branch of government described in the Constitution, to be the dominant branch of government; however, they did not expect a strong executive department.[61] However, presidential power has shifted over time, which has resulted in claims that the modern presidency has become too powerful,[62][63] unchecked, unbalanced,[64] and \"monarchist\" in nature.[65] The mechanism has been used by Ronald Reagan (once), George W. Bush (twice), and Joe Biden (once), each in anticipation of surgery.[155][156]\\nThe Twenty-fifth Amendment also provides that the vice president, together with a majority of certain members of the Cabinet, may transfer the presidential powers and duties to the vice president by transmitting a written declaration, to the speaker of the House and the president pro tempore of the Senate, to the effect that the president is unable to discharge his or her powers and duties. The exact degree of authority that the Constitution grants to the president as commander-in-chief has been the subject of much debate throughout history, with Congress at various times granting the president wide authority and at others attempting to restrict that authority.[86] The framers of the Constitution took care to limit the president\\'s powers regarding the military; Alexander Hamilton explained this in Federalist No. 69:\\nThe President is to be commander-in-chief of the army and navy of the United States.\\xa0...', 'score': 0.55072874, 'raw_content': None}, {'title': 'President Donald J. Trump - The White House', 'url': 'https://www.whitehouse.gov/administration/donald-j-trump/', 'content': 'In his first administration, President Trump passed record-setting tax cuts and regulation cuts, achieved energy independence, replaced NAFTA with the United-States-Mexico-Canada Agreement, invested $2 trillion to completely rebuild the Military, launched the Space Force, obliterated the ISIS Caliphate, achieved a major breakthrough for peace in the Middle East, passed the most significant Veterans Affairs reforms in half a century, confirmed over 250 federal judges, including 3 Supreme Court Justices, signed bipartisan Criminal Justice Reform, lowered drug prices, protected Medicare and Social Security, and secured our nation’s borders in his first four years in office. President Trump built on his success in private life when he entered into politics and public service. President Trump is also an accomplished author.', 'score': 0.48250288, 'raw_content': None}], 'response_time': 1.82}), AIMessage(content='The current president of the United States is Joe Biden.', additional_kwargs={}, response_metadata={'token_usage': {'completion_tokens': 12, 'prompt_tokens': 2528, 'total_tokens': 2540, 'completion_time': 0.043636364, 'prompt_time': 0.308627357, 'queue_time': 0.02350140900000003, 'total_time': 0.352263721}, 'model_name': 'llama-3.3-70b-versatile', 'system_fingerprint': 'fp_fcc3b74982', 'finish_reason': 'stop', 'logprobs': None}, id='run-9517e0e1-f4fd-46eb-abf7-b55acda5f2aa-0', usage_metadata={'input_tokens': 2528, 'output_tokens': 12, 'total_tokens': 2540}), ['user', 'who is a top scorer for liverpool?'], AIMessage(content='', additional_kwargs={'tool_calls': [{'id': 'call_b169', 'function': {'arguments': '{\"query\": \"Liverpool top scorer\"}', 'name': 'tavily_search_results_json'}, 'type': 'function'}]}, response_metadata={'token_usage': {'completion_tokens': 20, 'prompt_tokens': 2558, 'total_tokens': 2578, 'completion_time': 0.072727273, 'prompt_time': 0.288529643, 'queue_time': 0.024062585999999997, 'total_time': 0.361256916}, 'model_name': 'llama-3.3-70b-versatile', 'system_fingerprint': 'fp_fcc3b74982', 'finish_reason': 'tool_calls', 'logprobs': None}, id='run-3c191a4a-834d-4a9b-8e4a-e67274029c33-0', tool_calls=[{'name': 'tavily_search_results_json', 'args': {'query': 'Liverpool top scorer'}, 'id': 'call_b169', 'type': 'tool_call'}], usage_metadata={'input_tokens': 2558, 'output_tokens': 20, 'total_tokens': 2578}), ToolMessage(content='[{\"url\": \"https://www.thisisanfield.com/2024/09/liverpool-fc-top-10-goalscorers-of-all-time-mo-salah-ranks/\", \"content\": \"Henry \\'Harry\\' Chambers was Liverpool\\'s top scorer in all four seasons between 1919/20 and 1922/23. With a lethal left foot, he played a vital role in the Reds\\' back-to-back First Division\"}, {\"url\": \"https://www.11v11.com/teams/liverpool/tab/stats/option/scorers/\", \"content\": \"Top Liverpool goal scorers. Below are Liverpool\\'s top Premier League scorers and the totals they have scored. Totals are updated after each game and occasionally amended in the light of decisions of the Dubious Goal Committee. Player Goals First Latest; Mohamed Salah: 174: 12 Aug 2017: 25 Jan 2025: Robbie Fowler: 128:\"}, {\"url\": \"https://www.footballtransfers.com/en/transfer-news/uk-premier-league/2024/04/liverpool-top-goalscorers-all-time\", \"content\": \"Liverpool\\'s top 10 all-time record goalscorers. Ian Rush is Liverpool\\'s record goalscorer with 346 goals in 660 appearances for the north London outfit. The Welshman was instrumental to Liverpool\\'s success in the 1980s, and he won 20 trophies during his career at Anfield. Roger Hunt is the Reds\\' second-highest goalscorer of all time.\"}, {\"url\": \"https://www.espn.com/soccer/team/stats/_/id/364/liverpool\", \"content\": \"Liverpool 2024-25 Stats - ESPN ESPN Find where to watch all of your favorite sports! Liverpool Scoring Stats | RK | Name | P | G | | RK | Name | P | A | Premier League News Transfer rumors, news: Liverpool, Man Utd to battle for Pulisic --------------------------------------------------------------- Christian Pulisic\\'s stellar performances this season have got Premier League clubs circling. * 1h * ESPN Collection ---------- * 5h Collection ---------- * 5h * 5h * Gab Marcotti * 6h All Premier League News Work for ESPN ESPN BET is available in states where PENN is licensed to offer sports wagering.\"}, {\"url\": \"https://www.thisisanfield.com/season/liverpool-fc-top-scorers-assists/\", \"content\": \"Listing the top Liverpool FC goalscorers and assisters in the current season (all competitions). Top Scorers. Top Assists. First published: 24th August, 2024. LFC News.\"}]', name='tavily_search_results_json', tool_call_id='call_b169', artifact={'query': 'Liverpool top scorer', 'follow_up_questions': None, 'answer': None, 'images': [], 'results': [{'title': 'Liverpool FC top 10 goalscorers of all time - This Is Anfield', 'url': 'https://www.thisisanfield.com/2024/09/liverpool-fc-top-10-goalscorers-of-all-time-mo-salah-ranks/', 'content': \"Henry 'Harry' Chambers was Liverpool's top scorer in all four seasons between 1919/20 and 1922/23. With a lethal left foot, he played a vital role in the Reds' back-to-back First Division\", 'score': 0.89189607, 'raw_content': None}, {'title': 'Liverpool football club statistics and records: top scorers - 11v11', 'url': 'https://www.11v11.com/teams/liverpool/tab/stats/option/scorers/', 'content': \"Top Liverpool goal scorers. Below are Liverpool's top Premier League scorers and the totals they have scored. Totals are updated after each game and occasionally amended in the light of decisions of the Dubious Goal Committee. Player Goals First Latest; Mohamed Salah: 174: 12 Aug 2017: 25 Jan 2025: Robbie Fowler: 128:\", 'score': 0.8682137, 'raw_content': None}, {'title': \"Liverpool's top 10 goalscorers of all time - FootballTransfers.com\", 'url': 'https://www.footballtransfers.com/en/transfer-news/uk-premier-league/2024/04/liverpool-top-goalscorers-all-time', 'content': \"Liverpool's top 10 all-time record goalscorers. Ian Rush is Liverpool's record goalscorer with 346 goals in 660 appearances for the north London outfit. The Welshman was instrumental to Liverpool's success in the 1980s, and he won 20 trophies during his career at Anfield. Roger Hunt is the Reds' second-highest goalscorer of all time.\", 'score': 0.8679453, 'raw_content': None}, {'title': 'Liverpool 2024-25 Stats - ESPN', 'url': 'https://www.espn.com/soccer/team/stats/_/id/364/liverpool', 'content': \"Liverpool 2024-25 Stats - ESPN ESPN Find where to watch all of your favorite sports! Liverpool Scoring Stats | RK | Name | P | G | | RK | Name | P | A | Premier League News Transfer rumors, news: Liverpool, Man Utd to battle for Pulisic --------------------------------------------------------------- Christian Pulisic's stellar performances this season have got Premier League clubs circling. * 1h * ESPN Collection ---------- * 5h Collection ---------- * 5h * 5h * Gab Marcotti * 6h All Premier League News Work for ESPN ESPN BET is available in states where PENN is licensed to offer sports wagering.\", 'score': 0.5832277, 'raw_content': None}, {'title': 'Liverpool FC Top Scorers & Assists - This Is Anfield', 'url': 'https://www.thisisanfield.com/season/liverpool-fc-top-scorers-assists/', 'content': 'Listing the top Liverpool FC goalscorers and assisters in the current season (all competitions). Top Scorers. Top Assists. First published: 24th August, 2024. LFC News.', 'score': 0.5752307, 'raw_content': None}], 'response_time': 2.26}), AIMessage(content='The top scorer for Liverpool is Ian Rush with 346 goals in 660 appearances.', additional_kwargs={}, response_metadata={'token_usage': {'completion_tokens': 18, 'prompt_tokens': 3142, 'total_tokens': 3160, 'completion_time': 0.090828834, 'prompt_time': 0.484109399, 'queue_time': 0.03341401599999999, 'total_time': 0.574938233}, 'model_name': 'llama-3.3-70b-versatile', 'system_fingerprint': 'fp_c0cfa69934', 'finish_reason': 'stop', 'logprobs': None}, id='run-076d1b2c-daa0-453c-9cd3-cd8e476adb86-0', usage_metadata={'input_tokens': 3142, 'output_tokens': 18, 'total_tokens': 3160}), ['user', 'who is the top scorer this season'], AIMessage(content='', additional_kwargs={'tool_calls': [{'id': 'call_h6vf', 'function': {'arguments': '{\"query\": \"Liverpool top scorer this season\"}', 'name': 'tavily_search_results_json'}, 'type': 'function'}]}, response_metadata={'token_usage': {'completion_tokens': 22, 'prompt_tokens': 3176, 'total_tokens': 3198, 'completion_time': 0.08, 'prompt_time': 0.389185992, 'queue_time': 0.07466975800000003, 'total_time': 0.469185992}, 'model_name': 'llama-3.3-70b-versatile', 'system_fingerprint': 'fp_4196e754db', 'finish_reason': 'tool_calls', 'logprobs': None}, id='run-7c31a30d-9dc4-449d-b05e-54a8e7c89877-0', tool_calls=[{'name': 'tavily_search_results_json', 'args': {'query': 'Liverpool top scorer this season'}, 'id': 'call_h6vf', 'type': 'tool_call'}], usage_metadata={'input_tokens': 3176, 'output_tokens': 22, 'total_tokens': 3198}), ToolMessage(content='[{\"url\": \"https://www.statmuse.com/fc/ask/top-scorers-for-liverpool-this-season\", \"content\": \"Mohamed Salah has the most goals by a Liverpool player in the Premier League this season, with 10 goals.\"}, {\"url\": \"https://www.statmuse.com/fc/ask?q=liverpool+top+scorers+24/25\", \"content\": \"Mohamed Salah has scored the most goals by a Liverpool player in the Premier League this season, with 18 goals.\"}, {\"url\": \"https://www.skysports.com/football/news/11669/13175916/liverpool-top-scorers-2025-25\", \"content\": \"Liverpool top scorers 2025/25. Mohamed Salah led the way for Liverpool last season with 18 goals - see all Liverpool\\'s top goalscorers in the Premier League for the 2024/25 season with our final\"}, {\"url\": \"https://www.espn.com/soccer/team/stats/_/id/364/liverpool\", \"content\": \"Liverpool 2024-25 Stats - ESPN ESPN Find where to watch all of your favorite sports! Liverpool Scoring Stats | RK | Name | P | G | | RK | Name | P | A | Premier League News Transfer rumors, news: Liverpool, Man Utd to battle for Pulisic --------------------------------------------------------------- Christian Pulisic\\'s stellar performances this season have got Premier League clubs circling. * 1h * ESPN Collection ---------- * 5h Collection ---------- * 5h * 5h * Gab Marcotti * 6h All Premier League News Work for ESPN ESPN BET is available in states where PENN is licensed to offer sports wagering.\"}, {\"url\": \"https://www.thisisanfield.com/season/liverpool-fc-top-scorers-assists/\", \"content\": \"Listing the top Liverpool FC goalscorers and assisters in the current season (all competitions). Top Scorers. Top Assists.\"}]', name='tavily_search_results_json', tool_call_id='call_h6vf', artifact={'query': 'Liverpool top scorer this season', 'follow_up_questions': None, 'answer': None, 'images': [], 'results': [{'title': 'Top Scorers For Liverpool This Season - StatMuse', 'url': 'https://www.statmuse.com/fc/ask/top-scorers-for-liverpool-this-season', 'content': 'Mohamed Salah has the most goals by a Liverpool player in the Premier League this season, with 10 goals.', 'score': 0.9061314, 'raw_content': None}, {'title': 'Liverpool Top Scorers 24/25 - StatMuse', 'url': 'https://www.statmuse.com/fc/ask?q=liverpool+top+scorers+24/25', 'content': 'Mohamed Salah has scored the most goals by a Liverpool player in the Premier League this season, with 18 goals.', 'score': 0.9049283, 'raw_content': None}, {'title': 'Liverpool top scorers 2025/25 | Football News - Sky Sports', 'url': 'https://www.skysports.com/football/news/11669/13175916/liverpool-top-scorers-2025-25', 'content': \"Liverpool top scorers 2025/25. Mohamed Salah led the way for Liverpool last season with 18 goals - see all Liverpool's top goalscorers in the Premier League for the 2024/25 season with our final\", 'score': 0.87706697, 'raw_content': None}, {'title': 'Liverpool 2024-25 Stats - ESPN', 'url': 'https://www.espn.com/soccer/team/stats/_/id/364/liverpool', 'content': \"Liverpool 2024-25 Stats - ESPN ESPN Find where to watch all of your favorite sports! Liverpool Scoring Stats | RK | Name | P | G | | RK | Name | P | A | Premier League News Transfer rumors, news: Liverpool, Man Utd to battle for Pulisic --------------------------------------------------------------- Christian Pulisic's stellar performances this season have got Premier League clubs circling. * 1h * ESPN Collection ---------- * 5h Collection ---------- * 5h * 5h * Gab Marcotti * 6h All Premier League News Work for ESPN ESPN BET is available in states where PENN is licensed to offer sports wagering.\", 'score': 0.70871735, 'raw_content': None}, {'title': 'Liverpool FC Top Scorers & Assists - This Is Anfield', 'url': 'https://www.thisisanfield.com/season/liverpool-fc-top-scorers-assists/', 'content': 'Listing the top Liverpool FC goalscorers and assisters in the current season (all competitions). Top Scorers. Top Assists.', 'score': 0.5533369, 'raw_content': None}], 'response_time': 1.61}), AIMessage(content='The top scorer for Liverpool this season is Mohamed Salah with 18 goals.', additional_kwargs={}, response_metadata={'token_usage': {'completion_tokens': 16, 'prompt_tokens': 3627, 'total_tokens': 3643, 'completion_time': 0.058181818, 'prompt_time': 0.402125388, 'queue_time': 0.11737293700000007, 'total_time': 0.460307206}, 'model_name': 'llama-3.3-70b-versatile', 'system_fingerprint': 'fp_4196e754db', 'finish_reason': 'stop', 'logprobs': None}, id='run-0ffe4cd0-745a-4d9c-8202-fc838d314b80-0', usage_metadata={'input_tokens': 3627, 'output_tokens': 16, 'total_tokens': 3643})]}, next=(), config={'configurable': {'thread_id': '1', 'checkpoint_ns': '', 'checkpoint_id': '1efe182b-e156-64ff-800d-215a8f227dbf'}}, metadata={'source': 'loop', 'writes': {'ai_assistant': {'messages': [AIMessage(content='The top scorer for Liverpool this season is Mohamed Salah with 18 goals.', additional_kwargs={}, response_metadata={'token_usage': {'completion_tokens': 16, 'prompt_tokens': 3627, 'total_tokens': 3643, 'completion_time': 0.058181818, 'prompt_time': 0.402125388, 'queue_time': 0.11737293700000007, 'total_time': 0.460307206}, 'model_name': 'llama-3.3-70b-versatile', 'system_fingerprint': 'fp_4196e754db', 'finish_reason': 'stop', 'logprobs': None}, id='run-0ffe4cd0-745a-4d9c-8202-fc838d314b80-0', usage_metadata={'input_tokens': 3627, 'output_tokens': 16, 'total_tokens': 3643})]}}, 'thread_id': '1', 'step': 13, 'parents': {}}, created_at='2025-02-02T16:28:32.284557+00:00', parent_config={'configurable': {'thread_id': '1', 'checkpoint_ns': '', 'checkpoint_id': '1efe182b-d918-62f0-800c-5e4a1a0c4bb7'}}, tasks=())"
            ]
          },
          "metadata": {},
          "execution_count": 50
        }
      ]
    },
    {
      "cell_type": "code",
      "source": [
        "snapshot.next\n"
      ],
      "metadata": {
        "colab": {
          "base_uri": "https://localhost:8080/"
        },
        "id": "cwSAc_2Wf8ra",
        "outputId": "bb740e4a-e2a7-4cb8-e5ce-186508eb92fb"
      },
      "execution_count": null,
      "outputs": [
        {
          "output_type": "execute_result",
          "data": {
            "text/plain": [
              "()"
            ]
          },
          "metadata": {},
          "execution_count": 51
        }
      ]
    },
    {
      "cell_type": "markdown",
      "source": [
        "#**Example for human interruption**"
      ],
      "metadata": {
        "id": "zFxzXL_4gw51"
      }
    },
    {
      "cell_type": "code",
      "source": [
        "user_input = \"give me the recent news of it?\"\n",
        "config = {\"configurable\": {\"thread_id\": \"1\"}}"
      ],
      "metadata": {
        "id": "2lKWRVNOhNNz"
      },
      "execution_count": null,
      "outputs": []
    },
    {
      "cell_type": "code",
      "source": [
        "events = app2.stream(\n",
        "    {\"messages\": [(\"user\", user_input)]}, config, stream_mode=\"values\"\n",
        ")\n",
        "\n",
        "for event in events:\n",
        "    if \"messages\" in event:\n",
        "        print(event[\"messages\"][-1])"
      ],
      "metadata": {
        "colab": {
          "base_uri": "https://localhost:8080/"
        },
        "id": "g-CiXSK2hNLN",
        "outputId": "2b43c327-5994-413e-d4b8-72b2b9f69eff"
      },
      "execution_count": null,
      "outputs": [
        {
          "output_type": "stream",
          "name": "stdout",
          "text": [
            "('user', 'give me the recent news of it?')\n",
            "content='' additional_kwargs={'tool_calls': [{'id': 'call_4d0k', 'function': {'arguments': '{\"query\": \"Mohamed Salah recent news\"}', 'name': 'tavily_search_results_json'}, 'type': 'function'}]} response_metadata={'token_usage': {'completion_tokens': 22, 'prompt_tokens': 3660, 'total_tokens': 3682, 'completion_time': 0.08, 'prompt_time': 0.58074547, 'queue_time': 0.32166468000000004, 'total_time': 0.66074547}, 'model_name': 'llama-3.3-70b-versatile', 'system_fingerprint': 'fp_fcc3b74982', 'finish_reason': 'tool_calls', 'logprobs': None} id='run-988e0be6-8900-4712-9204-2a01b73f209a-0' tool_calls=[{'name': 'tavily_search_results_json', 'args': {'query': 'Mohamed Salah recent news'}, 'id': 'call_4d0k', 'type': 'tool_call'}] usage_metadata={'input_tokens': 3660, 'output_tokens': 22, 'total_tokens': 3682}\n"
          ]
        }
      ]
    },
    {
      "cell_type": "code",
      "source": [
        "snapshot=app2.get_state(config)\n"
      ],
      "metadata": {
        "id": "mjqUzjKshNH6"
      },
      "execution_count": null,
      "outputs": []
    },
    {
      "cell_type": "code",
      "source": [
        "snapshot.next"
      ],
      "metadata": {
        "colab": {
          "base_uri": "https://localhost:8080/"
        },
        "id": "9jCLZfStjmBY",
        "outputId": "aa926e2f-cda8-44ac-a4d6-32cb4dd6f9b4"
      },
      "execution_count": null,
      "outputs": [
        {
          "output_type": "execute_result",
          "data": {
            "text/plain": [
              "('tools',)"
            ]
          },
          "metadata": {},
          "execution_count": 60
        }
      ]
    },
    {
      "cell_type": "code",
      "source": [
        "current_message = snapshot.values[\"messages\"][-1]\n",
        "current_message.tool_calls"
      ],
      "metadata": {
        "colab": {
          "base_uri": "https://localhost:8080/"
        },
        "id": "gaJgcuZJhNFO",
        "outputId": "71ec236d-47a3-40ff-ffb9-db6ef47c4198"
      },
      "execution_count": null,
      "outputs": [
        {
          "output_type": "execute_result",
          "data": {
            "text/plain": [
              "[{'name': 'tavily_search_results_json',\n",
              "  'args': {'query': 'Mohamed Salah recent news'},\n",
              "  'id': 'call_4d0k',\n",
              "  'type': 'tool_call'}]"
            ]
          },
          "metadata": {},
          "execution_count": 61
        }
      ]
    },
    {
      "cell_type": "code",
      "source": [
        "tool_call_id = current_message.tool_calls[0][\"id\"]\n",
        "tool_call_id"
      ],
      "metadata": {
        "colab": {
          "base_uri": "https://localhost:8080/",
          "height": 36
        },
        "id": "QQB4uxtPj1HB",
        "outputId": "b5212a24-a6f9-4cc1-d177-43096db8d35e"
      },
      "execution_count": null,
      "outputs": [
        {
          "output_type": "execute_result",
          "data": {
            "text/plain": [
              "'call_4d0k'"
            ],
            "application/vnd.google.colaboratory.intrinsic+json": {
              "type": "string"
            }
          },
          "metadata": {},
          "execution_count": 63
        }
      ]
    },
    {
      "cell_type": "code",
      "source": [
        "answer = \"Salah breaks the record of Frank Lampard\"\n",
        "new_messages = [\n",
        "    ToolMessage(content=answer, tool_call_id=tool_call_id),\n",
        "    AIMessage(content=answer),\n",
        "]"
      ],
      "metadata": {
        "id": "tKRwxslhkDRn"
      },
      "execution_count": null,
      "outputs": []
    },
    {
      "cell_type": "code",
      "source": [
        "app2.update_state(\n",
        "    config,\n",
        "    {\"messages\": new_messages},\n",
        ")"
      ],
      "metadata": {
        "colab": {
          "base_uri": "https://localhost:8080/"
        },
        "id": "tpwQ3M6RkDOm",
        "outputId": "7a9adec1-bbbf-4e48-c212-7f9b01f6c345"
      },
      "execution_count": null,
      "outputs": [
        {
          "output_type": "execute_result",
          "data": {
            "text/plain": [
              "{'configurable': {'thread_id': '1',\n",
              "  'checkpoint_ns': '',\n",
              "  'checkpoint_id': '1efe185c-58fa-6308-8011-0c03510c6a23'}}"
            ]
          },
          "metadata": {},
          "execution_count": 65
        }
      ]
    },
    {
      "cell_type": "code",
      "source": [
        "print(app2.get_state(config).values[\"messages\"][-1:])\n"
      ],
      "metadata": {
        "colab": {
          "base_uri": "https://localhost:8080/"
        },
        "id": "horTRHZVkDLS",
        "outputId": "76363c50-082f-4e7a-b3e4-5da3a45b7d11"
      },
      "execution_count": null,
      "outputs": [
        {
          "output_type": "stream",
          "name": "stdout",
          "text": [
            "[AIMessage(content='Salah breaks the record of Frank Lampard', additional_kwargs={}, response_metadata={})]\n"
          ]
        }
      ]
    },
    {
      "cell_type": "markdown",
      "source": [
        "#**Putting all together**"
      ],
      "metadata": {
        "id": "FIMiSjuqhsLx"
      }
    },
    {
      "cell_type": "code",
      "source": [
        "memory = MemorySaver()"
      ],
      "metadata": {
        "id": "gMQ3Sg7CAJX2"
      },
      "execution_count": 6,
      "outputs": []
    },
    {
      "cell_type": "markdown",
      "source": [
        "##**Agent state**"
      ],
      "metadata": {
        "id": "jPYJ93RBh0cz"
      }
    },
    {
      "cell_type": "code",
      "source": [
        "from uuid import uuid4\n",
        "from langchain_core.messages import AnyMessage, SystemMessage, HumanMessage, AIMessage\n",
        "\n",
        "\"\"\"\n",
        "In previous examples we've annotated the `messages` state key\n",
        "with the default `operator.add` or `+` reducer, which always\n",
        "appends new messages to the end of the existing messages array.\n",
        "\n",
        "Now, to support replacing existing messages, we annotate the\n",
        "`messages` key with a customer reducer function, which replaces\n",
        "messages with the same `id`, and appends them otherwise.\n",
        "\"\"\"\n",
        "def reduce_messages(left: list[AnyMessage], right: list[AnyMessage]) -> list[AnyMessage]:\n",
        "    # assign ids to messages that don't have them\n",
        "    for message in right:\n",
        "        if not message.id:\n",
        "            message.id = str(uuid4())\n",
        "    # merge the new messages with the existing messages\n",
        "    merged = left.copy()\n",
        "    for message in right:\n",
        "        for i, existing in enumerate(merged):\n",
        "            # replace any existing messages with the same id\n",
        "            if existing.id == message.id:\n",
        "                merged[i] = message\n",
        "                break\n",
        "        else:\n",
        "            # append any new messages to the end\n",
        "            merged.append(message)\n",
        "    return merged\n",
        "\n",
        "class AgentState(TypedDict):\n",
        "    messages: Annotated[list[AnyMessage], reduce_messages]"
      ],
      "metadata": {
        "id": "9OOh4vkHgFEn"
      },
      "execution_count": 7,
      "outputs": []
    },
    {
      "cell_type": "markdown",
      "source": [
        "##**Agent class**"
      ],
      "metadata": {
        "id": "0l3XJLyvh2x4"
      }
    },
    {
      "cell_type": "code",
      "source": [
        "class Agent:\n",
        "    def __init__(self, model, tools, system=\"\", checkpointer=None):\n",
        "        self.system = system\n",
        "        graph = StateGraph(AgentState)\n",
        "        graph.add_node(\"llm\", self.call_openai)\n",
        "        graph.add_node(\"action\", self.take_action)\n",
        "        graph.add_conditional_edges(\"llm\", self.exists_action, {True: \"action\", False: END})\n",
        "        graph.add_edge(\"action\", \"llm\")\n",
        "        graph.set_entry_point(\"llm\")\n",
        "        self.graph = graph.compile(\n",
        "            checkpointer=checkpointer,\n",
        "            interrupt_before=[\"action\"]\n",
        "        )\n",
        "        self.tools = {t.name: t for t in tools}\n",
        "        self.model = model.bind_tools(tools)\n",
        "\n",
        "    def call_openai(self, state: AgentState):\n",
        "        messages = state['messages']\n",
        "        if self.system:\n",
        "            messages = [SystemMessage(content=self.system)] + messages\n",
        "        message = self.model.invoke(messages)\n",
        "        return {'messages': [message]}\n",
        "\n",
        "    def exists_action(self, state: AgentState):\n",
        "        print(state)\n",
        "        result = state['messages'][-1]\n",
        "        return len(result.tool_calls) > 0\n",
        "\n",
        "    def take_action(self, state: AgentState):\n",
        "        tool_calls = state['messages'][-1].tool_calls\n",
        "        results = []\n",
        "        for t in tool_calls:\n",
        "            print(f\"Calling: {t}\")\n",
        "            result = self.tools[t['name']].invoke(t['args'])\n",
        "            results.append(ToolMessage(tool_call_id=t['id'], name=t['name'], content=str(result)))\n",
        "        print(\"Back to the model!\")\n",
        "        return {'messages': results}"
      ],
      "metadata": {
        "id": "AkvMVOvhhw59"
      },
      "execution_count": 8,
      "outputs": []
    },
    {
      "cell_type": "markdown",
      "source": [
        "##**Agent instant, system prompt and llm**"
      ],
      "metadata": {
        "id": "JRBQZZJrh5RX"
      }
    },
    {
      "cell_type": "code",
      "source": [
        "tool = TavilySearchResults(max_results=2)"
      ],
      "metadata": {
        "id": "-BAiwc9Mla9u"
      },
      "execution_count": 9,
      "outputs": []
    },
    {
      "cell_type": "code",
      "source": [
        "prompt = \"\"\"You are a smart research assistant. Use the search engine to look up information. \\\n",
        "You are allowed to make multiple calls (either together or in sequence). \\\n",
        "Only look up information when you are sure of what you want. \\\n",
        "If you need to look up some information before asking a follow up question, you are allowed to do that!\n",
        "\"\"\"\n",
        "\n",
        "\n",
        "# model = ChatOpenAI(model=\"gpt-3.5-turbo\")\n",
        "model =ChatGroq(groq_api_key=groq_api_key,\n",
        "             model=\"llama-3.3-70b-versatile\")\n",
        "\n",
        "# agent instant\n",
        "abot = Agent(model, [tool], system=prompt, checkpointer=memory)"
      ],
      "metadata": {
        "id": "ZauZU7vIh7ro"
      },
      "execution_count": 10,
      "outputs": []
    },
    {
      "cell_type": "code",
      "source": [
        "messages = [HumanMessage(\"Whats the weather in LA?\")]\n",
        "thread = {\"configurable\": {\"thread_id\": \"2\"}}\n",
        "for event in abot.graph.stream({\"messages\": messages}, thread):\n",
        "    for v in event.values():\n",
        "        print(v)\n",
        "while abot.graph.get_state(thread).next:\n",
        "    print(\"\\n\", abot.graph.get_state(thread),\"\\n\")\n",
        "    _input = input(\"proceed?\")\n",
        "    if _input != \"y\":\n",
        "        print(\"aborting\")\n",
        "        break\n",
        "    for event in abot.graph.stream(None, thread):\n",
        "        for v in event.values():\n",
        "            print(v)"
      ],
      "metadata": {
        "colab": {
          "base_uri": "https://localhost:8080/"
        },
        "id": "pptlWRxrhOPg",
        "outputId": "f7d66d2a-b803-46ce-baae-a54d0afa728a"
      },
      "execution_count": 11,
      "outputs": [
        {
          "output_type": "stream",
          "name": "stdout",
          "text": [
            "{'messages': [HumanMessage(content='Whats the weather in LA?', additional_kwargs={}, response_metadata={}, id='e582f103-2c82-41ec-a9c2-5a5f253a89ab'), AIMessage(content='', additional_kwargs={'tool_calls': [{'id': 'call_mv3q', 'function': {'arguments': '{\"query\": \"Los Angeles weather today\"}', 'name': 'tavily_search_results_json'}, 'type': 'function'}]}, response_metadata={'token_usage': {'completion_tokens': 21, 'prompt_tokens': 349, 'total_tokens': 370, 'completion_time': 0.076363636, 'prompt_time': 0.041850376, 'queue_time': 0.08067443299999999, 'total_time': 0.118214012}, 'model_name': 'llama-3.3-70b-versatile', 'system_fingerprint': 'fp_fcc3b74982', 'finish_reason': 'tool_calls', 'logprobs': None}, id='run-ec45d021-f3f1-4c4e-90ab-1ffe67533fef-0', tool_calls=[{'name': 'tavily_search_results_json', 'args': {'query': 'Los Angeles weather today'}, 'id': 'call_mv3q', 'type': 'tool_call'}], usage_metadata={'input_tokens': 349, 'output_tokens': 21, 'total_tokens': 370})]}\n",
            "{'messages': [AIMessage(content='', additional_kwargs={'tool_calls': [{'id': 'call_mv3q', 'function': {'arguments': '{\"query\": \"Los Angeles weather today\"}', 'name': 'tavily_search_results_json'}, 'type': 'function'}]}, response_metadata={'token_usage': {'completion_tokens': 21, 'prompt_tokens': 349, 'total_tokens': 370, 'completion_time': 0.076363636, 'prompt_time': 0.041850376, 'queue_time': 0.08067443299999999, 'total_time': 0.118214012}, 'model_name': 'llama-3.3-70b-versatile', 'system_fingerprint': 'fp_fcc3b74982', 'finish_reason': 'tool_calls', 'logprobs': None}, id='run-ec45d021-f3f1-4c4e-90ab-1ffe67533fef-0', tool_calls=[{'name': 'tavily_search_results_json', 'args': {'query': 'Los Angeles weather today'}, 'id': 'call_mv3q', 'type': 'tool_call'}], usage_metadata={'input_tokens': 349, 'output_tokens': 21, 'total_tokens': 370})]}\n",
            "()\n",
            "\n",
            " StateSnapshot(values={'messages': [HumanMessage(content='Whats the weather in LA?', additional_kwargs={}, response_metadata={}, id='e582f103-2c82-41ec-a9c2-5a5f253a89ab'), AIMessage(content='', additional_kwargs={'tool_calls': [{'id': 'call_mv3q', 'function': {'arguments': '{\"query\": \"Los Angeles weather today\"}', 'name': 'tavily_search_results_json'}, 'type': 'function'}]}, response_metadata={'token_usage': {'completion_tokens': 21, 'prompt_tokens': 349, 'total_tokens': 370, 'completion_time': 0.076363636, 'prompt_time': 0.041850376, 'queue_time': 0.08067443299999999, 'total_time': 0.118214012}, 'model_name': 'llama-3.3-70b-versatile', 'system_fingerprint': 'fp_fcc3b74982', 'finish_reason': 'tool_calls', 'logprobs': None}, id='run-ec45d021-f3f1-4c4e-90ab-1ffe67533fef-0', tool_calls=[{'name': 'tavily_search_results_json', 'args': {'query': 'Los Angeles weather today'}, 'id': 'call_mv3q', 'type': 'tool_call'}], usage_metadata={'input_tokens': 349, 'output_tokens': 21, 'total_tokens': 370})]}, next=('action',), config={'configurable': {'thread_id': '2', 'checkpoint_ns': '', 'checkpoint_id': '1efe1985-d205-6f5a-8001-256e7742b030'}}, metadata={'source': 'loop', 'writes': {'llm': {'messages': [AIMessage(content='', additional_kwargs={'tool_calls': [{'id': 'call_mv3q', 'function': {'arguments': '{\"query\": \"Los Angeles weather today\"}', 'name': 'tavily_search_results_json'}, 'type': 'function'}]}, response_metadata={'token_usage': {'completion_tokens': 21, 'prompt_tokens': 349, 'total_tokens': 370, 'completion_time': 0.076363636, 'prompt_time': 0.041850376, 'queue_time': 0.08067443299999999, 'total_time': 0.118214012}, 'model_name': 'llama-3.3-70b-versatile', 'system_fingerprint': 'fp_fcc3b74982', 'finish_reason': 'tool_calls', 'logprobs': None}, id='run-ec45d021-f3f1-4c4e-90ab-1ffe67533fef-0', tool_calls=[{'name': 'tavily_search_results_json', 'args': {'query': 'Los Angeles weather today'}, 'id': 'call_mv3q', 'type': 'tool_call'}], usage_metadata={'input_tokens': 349, 'output_tokens': 21, 'total_tokens': 370})]}}, 'thread_id': '2', 'step': 1, 'parents': {}}, created_at='2025-02-02T19:03:18.545547+00:00', parent_config={'configurable': {'thread_id': '2', 'checkpoint_ns': '', 'checkpoint_id': '1efe1985-ce32-69f1-8000-5d3148c2a80f'}}, tasks=(PregelTask(id='b5e0f945-fbae-5e28-e94b-03f57de5db11', name='action', path=('__pregel_pull', 'action'), error=None, interrupts=(), state=None, result=None),)) \n",
            "\n",
            "proceed?y\n",
            "Calling: {'name': 'tavily_search_results_json', 'args': {'query': 'Los Angeles weather today'}, 'id': 'call_mv3q', 'type': 'tool_call'}\n",
            "Back to the model!\n",
            "{'messages': [ToolMessage(content='[{\\'url\\': \\'https://www.weatherapi.com/\\', \\'content\\': \"{\\'location\\': {\\'name\\': \\'Los Angeles\\', \\'region\\': \\'California\\', \\'country\\': \\'United States of America\\', \\'lat\\': 34.0522, \\'lon\\': -118.2428, \\'tz_id\\': \\'America/Los_Angeles\\', \\'localtime_epoch\\': 1738522916, \\'localtime\\': \\'2025-02-02 11:01\\'}, \\'current\\': {\\'last_updated_epoch\\': 1738522800, \\'last_updated\\': \\'2025-02-02 11:00\\', \\'temp_c\\': 14.4, \\'temp_f\\': 57.9, \\'is_day\\': 1, \\'condition\\': {\\'text\\': \\'Mist\\', \\'icon\\': \\'//cdn.weatherapi.com/weather/64x64/day/143.png\\', \\'code\\': 1030}, \\'wind_mph\\': 2.2, \\'wind_kph\\': 3.6, \\'wind_degree\\': 168, \\'wind_dir\\': \\'SSE\\', \\'pressure_mb\\': 1021.0, \\'pressure_in\\': 30.14, \\'precip_mm\\': 0.0, \\'precip_in\\': 0.0, \\'humidity\\': 84, \\'cloud\\': 50, \\'feelslike_c\\': 15.1, \\'feelslike_f\\': 59.2, \\'windchill_c\\': 17.0, \\'windchill_f\\': 62.5, \\'heatindex_c\\': 16.9, \\'heatindex_f\\': 62.5, \\'dewpoint_c\\': 11.1, \\'dewpoint_f\\': 51.9, \\'vis_km\\': 4.8, \\'vis_miles\\': 2.0, \\'uv\\': 3.8, \\'gust_mph\\': 6.7, \\'gust_kph\\': 10.8}}\"}, {\\'url\\': \\'https://weathershogun.com/weather/usa/ca/los-angeles/451/february/2025-02-02\\', \\'content\\': \"Sunday, February 2, 2025. Los Angeles, CA - Weather Forecast Los Angeles, CA Home Contact Browse States Privacy Policy Terms and Conditions °F) °C) Today Tomorrow Hourly 7 days 30 days February Los Angeles, California Weather: Air Quality Alert (Issued when air pollution levels are unhealthy, especially for sensitive groups.) Sunday, February 2, 2025 Day 72° Night 50° Precipitation 0 % Wind 6 mph UV Index (0 - 11+) 4 Monday Hourly Today Tomorrow 7 days 30 days Weather Forecast History Last Year\\'s Weather on This Day (February 2, 2024) Day 63° Night 48° Please note that while we strive for accuracy, the information provided may not always be correct. Use at your own risk. © Copyright by WeatherShogun.com\"}]', name='tavily_search_results_json', id='35bd3e5b-cd88-4b80-b6c0-798919616341', tool_call_id='call_mv3q')]}\n",
            "{'messages': [HumanMessage(content='Whats the weather in LA?', additional_kwargs={}, response_metadata={}, id='e582f103-2c82-41ec-a9c2-5a5f253a89ab'), AIMessage(content='', additional_kwargs={'tool_calls': [{'id': 'call_mv3q', 'function': {'arguments': '{\"query\": \"Los Angeles weather today\"}', 'name': 'tavily_search_results_json'}, 'type': 'function'}]}, response_metadata={'token_usage': {'completion_tokens': 21, 'prompt_tokens': 349, 'total_tokens': 370, 'completion_time': 0.076363636, 'prompt_time': 0.041850376, 'queue_time': 0.08067443299999999, 'total_time': 0.118214012}, 'model_name': 'llama-3.3-70b-versatile', 'system_fingerprint': 'fp_fcc3b74982', 'finish_reason': 'tool_calls', 'logprobs': None}, id='run-ec45d021-f3f1-4c4e-90ab-1ffe67533fef-0', tool_calls=[{'name': 'tavily_search_results_json', 'args': {'query': 'Los Angeles weather today'}, 'id': 'call_mv3q', 'type': 'tool_call'}], usage_metadata={'input_tokens': 349, 'output_tokens': 21, 'total_tokens': 370}), ToolMessage(content='[{\\'url\\': \\'https://www.weatherapi.com/\\', \\'content\\': \"{\\'location\\': {\\'name\\': \\'Los Angeles\\', \\'region\\': \\'California\\', \\'country\\': \\'United States of America\\', \\'lat\\': 34.0522, \\'lon\\': -118.2428, \\'tz_id\\': \\'America/Los_Angeles\\', \\'localtime_epoch\\': 1738522916, \\'localtime\\': \\'2025-02-02 11:01\\'}, \\'current\\': {\\'last_updated_epoch\\': 1738522800, \\'last_updated\\': \\'2025-02-02 11:00\\', \\'temp_c\\': 14.4, \\'temp_f\\': 57.9, \\'is_day\\': 1, \\'condition\\': {\\'text\\': \\'Mist\\', \\'icon\\': \\'//cdn.weatherapi.com/weather/64x64/day/143.png\\', \\'code\\': 1030}, \\'wind_mph\\': 2.2, \\'wind_kph\\': 3.6, \\'wind_degree\\': 168, \\'wind_dir\\': \\'SSE\\', \\'pressure_mb\\': 1021.0, \\'pressure_in\\': 30.14, \\'precip_mm\\': 0.0, \\'precip_in\\': 0.0, \\'humidity\\': 84, \\'cloud\\': 50, \\'feelslike_c\\': 15.1, \\'feelslike_f\\': 59.2, \\'windchill_c\\': 17.0, \\'windchill_f\\': 62.5, \\'heatindex_c\\': 16.9, \\'heatindex_f\\': 62.5, \\'dewpoint_c\\': 11.1, \\'dewpoint_f\\': 51.9, \\'vis_km\\': 4.8, \\'vis_miles\\': 2.0, \\'uv\\': 3.8, \\'gust_mph\\': 6.7, \\'gust_kph\\': 10.8}}\"}, {\\'url\\': \\'https://weathershogun.com/weather/usa/ca/los-angeles/451/february/2025-02-02\\', \\'content\\': \"Sunday, February 2, 2025. Los Angeles, CA - Weather Forecast Los Angeles, CA Home Contact Browse States Privacy Policy Terms and Conditions °F) °C) Today Tomorrow Hourly 7 days 30 days February Los Angeles, California Weather: Air Quality Alert (Issued when air pollution levels are unhealthy, especially for sensitive groups.) Sunday, February 2, 2025 Day 72° Night 50° Precipitation 0 % Wind 6 mph UV Index (0 - 11+) 4 Monday Hourly Today Tomorrow 7 days 30 days Weather Forecast History Last Year\\'s Weather on This Day (February 2, 2024) Day 63° Night 48° Please note that while we strive for accuracy, the information provided may not always be correct. Use at your own risk. © Copyright by WeatherShogun.com\"}]', name='tavily_search_results_json', id='35bd3e5b-cd88-4b80-b6c0-798919616341', tool_call_id='call_mv3q'), AIMessage(content='The current weather in Los Angeles is misty with a temperature of 57.9°F (14.4°C) and a humidity of 84%. The wind is blowing at 2.2 mph (3.6 kph) from the SSE direction. The pressure is 1021.0 mb (30.14 in) and the cloud cover is 50%. The feels-like temperature is 59.2°F (15.1°C).', additional_kwargs={}, response_metadata={'token_usage': {'completion_tokens': 93, 'prompt_tokens': 1007, 'total_tokens': 1100, 'completion_time': 0.338181818, 'prompt_time': 0.146755904, 'queue_time': 0.391961877, 'total_time': 0.484937722}, 'model_name': 'llama-3.3-70b-versatile', 'system_fingerprint': 'fp_fcc3b74982', 'finish_reason': 'stop', 'logprobs': None}, id='run-123c3365-4c9d-4c32-8317-bcdf80e3a3dd-0', usage_metadata={'input_tokens': 1007, 'output_tokens': 93, 'total_tokens': 1100})]}\n",
            "{'messages': [AIMessage(content='The current weather in Los Angeles is misty with a temperature of 57.9°F (14.4°C) and a humidity of 84%. The wind is blowing at 2.2 mph (3.6 kph) from the SSE direction. The pressure is 1021.0 mb (30.14 in) and the cloud cover is 50%. The feels-like temperature is 59.2°F (15.1°C).', additional_kwargs={}, response_metadata={'token_usage': {'completion_tokens': 93, 'prompt_tokens': 1007, 'total_tokens': 1100, 'completion_time': 0.338181818, 'prompt_time': 0.146755904, 'queue_time': 0.391961877, 'total_time': 0.484937722}, 'model_name': 'llama-3.3-70b-versatile', 'system_fingerprint': 'fp_fcc3b74982', 'finish_reason': 'stop', 'logprobs': None}, id='run-123c3365-4c9d-4c32-8317-bcdf80e3a3dd-0', usage_metadata={'input_tokens': 1007, 'output_tokens': 93, 'total_tokens': 1100})]}\n"
          ]
        }
      ]
    },
    {
      "cell_type": "markdown",
      "source": [
        "#**Modify state**"
      ],
      "metadata": {
        "id": "59-JaBO4whoP"
      }
    },
    {
      "cell_type": "code",
      "source": [
        "messages = [HumanMessage(\"Whats the weather in LA?\")]\n",
        "thread = {\"configurable\": {\"thread_id\": \"3\"}}\n",
        "for event in abot.graph.stream({\"messages\": messages}, thread):\n",
        "    for v in event.values():\n",
        "        print(v)"
      ],
      "metadata": {
        "colab": {
          "base_uri": "https://localhost:8080/"
        },
        "id": "zChDSIrkwbb9",
        "outputId": "a4b83c2f-28b6-4c1d-c11c-e4570606bd53"
      },
      "execution_count": 12,
      "outputs": [
        {
          "output_type": "stream",
          "name": "stdout",
          "text": [
            "{'messages': [HumanMessage(content='Whats the weather in LA?', additional_kwargs={}, response_metadata={}, id='b75fcfd9-f7a9-460f-9537-986ac918103e'), AIMessage(content='', additional_kwargs={'tool_calls': [{'id': 'call_5k2h', 'function': {'arguments': '{\"query\": \"Los Angeles weather today\"}', 'name': 'tavily_search_results_json'}, 'type': 'function'}]}, response_metadata={'token_usage': {'completion_tokens': 21, 'prompt_tokens': 349, 'total_tokens': 370, 'completion_time': 0.105587875, 'prompt_time': 0.067504749, 'queue_time': 1.306107314, 'total_time': 0.173092624}, 'model_name': 'llama-3.3-70b-versatile', 'system_fingerprint': 'fp_3884478861', 'finish_reason': 'tool_calls', 'logprobs': None}, id='run-f3d2eafe-ab1d-4b11-a05b-f728d5332883-0', tool_calls=[{'name': 'tavily_search_results_json', 'args': {'query': 'Los Angeles weather today'}, 'id': 'call_5k2h', 'type': 'tool_call'}], usage_metadata={'input_tokens': 349, 'output_tokens': 21, 'total_tokens': 370})]}\n",
            "{'messages': [AIMessage(content='', additional_kwargs={'tool_calls': [{'id': 'call_5k2h', 'function': {'arguments': '{\"query\": \"Los Angeles weather today\"}', 'name': 'tavily_search_results_json'}, 'type': 'function'}]}, response_metadata={'token_usage': {'completion_tokens': 21, 'prompt_tokens': 349, 'total_tokens': 370, 'completion_time': 0.105587875, 'prompt_time': 0.067504749, 'queue_time': 1.306107314, 'total_time': 0.173092624}, 'model_name': 'llama-3.3-70b-versatile', 'system_fingerprint': 'fp_3884478861', 'finish_reason': 'tool_calls', 'logprobs': None}, id='run-f3d2eafe-ab1d-4b11-a05b-f728d5332883-0', tool_calls=[{'name': 'tavily_search_results_json', 'args': {'query': 'Los Angeles weather today'}, 'id': 'call_5k2h', 'type': 'tool_call'}], usage_metadata={'input_tokens': 349, 'output_tokens': 21, 'total_tokens': 370})]}\n",
            "()\n"
          ]
        }
      ]
    },
    {
      "cell_type": "code",
      "source": [
        "current_values = abot.graph.get_state(thread)"
      ],
      "metadata": {
        "id": "0lMDgNlHwbYn"
      },
      "execution_count": 13,
      "outputs": []
    },
    {
      "cell_type": "code",
      "source": [
        "current_values.values['messages'][-1]"
      ],
      "metadata": {
        "colab": {
          "base_uri": "https://localhost:8080/"
        },
        "id": "ovbGHA5dwwRc",
        "outputId": "76499a19-f75d-4575-a109-531d5311cb77"
      },
      "execution_count": 14,
      "outputs": [
        {
          "output_type": "execute_result",
          "data": {
            "text/plain": [
              "AIMessage(content='', additional_kwargs={'tool_calls': [{'id': 'call_5k2h', 'function': {'arguments': '{\"query\": \"Los Angeles weather today\"}', 'name': 'tavily_search_results_json'}, 'type': 'function'}]}, response_metadata={'token_usage': {'completion_tokens': 21, 'prompt_tokens': 349, 'total_tokens': 370, 'completion_time': 0.105587875, 'prompt_time': 0.067504749, 'queue_time': 1.306107314, 'total_time': 0.173092624}, 'model_name': 'llama-3.3-70b-versatile', 'system_fingerprint': 'fp_3884478861', 'finish_reason': 'tool_calls', 'logprobs': None}, id='run-f3d2eafe-ab1d-4b11-a05b-f728d5332883-0', tool_calls=[{'name': 'tavily_search_results_json', 'args': {'query': 'Los Angeles weather today'}, 'id': 'call_5k2h', 'type': 'tool_call'}], usage_metadata={'input_tokens': 349, 'output_tokens': 21, 'total_tokens': 370})"
            ]
          },
          "metadata": {},
          "execution_count": 14
        }
      ]
    },
    {
      "cell_type": "code",
      "source": [
        "current_values.values['messages'][-1].tool_calls"
      ],
      "metadata": {
        "colab": {
          "base_uri": "https://localhost:8080/"
        },
        "id": "t1jaH62DwwOR",
        "outputId": "3b89d9c1-237a-4d09-a058-617eae141cbb"
      },
      "execution_count": 15,
      "outputs": [
        {
          "output_type": "execute_result",
          "data": {
            "text/plain": [
              "[{'name': 'tavily_search_results_json',\n",
              "  'args': {'query': 'Los Angeles weather today'},\n",
              "  'id': 'call_5k2h',\n",
              "  'type': 'tool_call'}]"
            ]
          },
          "metadata": {},
          "execution_count": 15
        }
      ]
    },
    {
      "cell_type": "code",
      "source": [
        "# id\n",
        "_id = current_values.values['messages'][-1].tool_calls[0]['id']\n",
        "\n",
        "# modify the current state with a new query with same id\n",
        "current_values.values['messages'][-1].tool_calls = [\n",
        "    {'name': 'tavily_search_results_json',\n",
        "  'args': {'query': 'current weather in SF'},\n",
        "  'id': _id}\n",
        "]"
      ],
      "metadata": {
        "id": "PxP6nrD5wwL6"
      },
      "execution_count": 16,
      "outputs": []
    },
    {
      "cell_type": "code",
      "source": [
        "abot.graph.update_state(thread, current_values.values)"
      ],
      "metadata": {
        "colab": {
          "base_uri": "https://localhost:8080/"
        },
        "id": "CsXcsWzZw7hz",
        "outputId": "eee43683-aac3-473e-f533-f55eb32eb13f"
      },
      "execution_count": 17,
      "outputs": [
        {
          "output_type": "stream",
          "name": "stdout",
          "text": [
            "{'messages': [HumanMessage(content='Whats the weather in LA?', additional_kwargs={}, response_metadata={}, id='b75fcfd9-f7a9-460f-9537-986ac918103e'), AIMessage(content='', additional_kwargs={'tool_calls': [{'id': 'call_5k2h', 'function': {'arguments': '{\"query\": \"Los Angeles weather today\"}', 'name': 'tavily_search_results_json'}, 'type': 'function'}]}, response_metadata={'token_usage': {'completion_tokens': 21, 'prompt_tokens': 349, 'total_tokens': 370, 'completion_time': 0.105587875, 'prompt_time': 0.067504749, 'queue_time': 1.306107314, 'total_time': 0.173092624}, 'model_name': 'llama-3.3-70b-versatile', 'system_fingerprint': 'fp_3884478861', 'finish_reason': 'tool_calls', 'logprobs': None}, id='run-f3d2eafe-ab1d-4b11-a05b-f728d5332883-0', tool_calls=[{'name': 'tavily_search_results_json', 'args': {'query': 'current weather in SF'}, 'id': 'call_5k2h'}], usage_metadata={'input_tokens': 349, 'output_tokens': 21, 'total_tokens': 370})]}\n"
          ]
        },
        {
          "output_type": "execute_result",
          "data": {
            "text/plain": [
              "{'configurable': {'thread_id': '3',\n",
              "  'checkpoint_ns': '',\n",
              "  'checkpoint_id': '1efe1987-260c-6011-8002-9fc1e01746b4'}}"
            ]
          },
          "metadata": {},
          "execution_count": 17
        }
      ]
    },
    {
      "cell_type": "code",
      "source": [
        "abot.graph.get_state(thread)"
      ],
      "metadata": {
        "colab": {
          "base_uri": "https://localhost:8080/"
        },
        "id": "LDPC9d_Tw-1H",
        "outputId": "fd2fafed-60a0-4aac-bfd1-b0fa8cab64fc"
      },
      "execution_count": 18,
      "outputs": [
        {
          "output_type": "execute_result",
          "data": {
            "text/plain": [
              "StateSnapshot(values={'messages': [HumanMessage(content='Whats the weather in LA?', additional_kwargs={}, response_metadata={}, id='b75fcfd9-f7a9-460f-9537-986ac918103e'), AIMessage(content='', additional_kwargs={'tool_calls': [{'id': 'call_5k2h', 'function': {'arguments': '{\"query\": \"Los Angeles weather today\"}', 'name': 'tavily_search_results_json'}, 'type': 'function'}]}, response_metadata={'token_usage': {'completion_tokens': 21, 'prompt_tokens': 349, 'total_tokens': 370, 'completion_time': 0.105587875, 'prompt_time': 0.067504749, 'queue_time': 1.306107314, 'total_time': 0.173092624}, 'model_name': 'llama-3.3-70b-versatile', 'system_fingerprint': 'fp_3884478861', 'finish_reason': 'tool_calls', 'logprobs': None}, id='run-f3d2eafe-ab1d-4b11-a05b-f728d5332883-0', tool_calls=[{'name': 'tavily_search_results_json', 'args': {'query': 'current weather in SF'}, 'id': 'call_5k2h', 'type': 'tool_call'}], usage_metadata={'input_tokens': 349, 'output_tokens': 21, 'total_tokens': 370})]}, next=('action',), config={'configurable': {'thread_id': '3', 'checkpoint_ns': '', 'checkpoint_id': '1efe1987-260c-6011-8002-9fc1e01746b4'}}, metadata={'source': 'update', 'writes': {'llm': {'messages': [HumanMessage(content='Whats the weather in LA?', additional_kwargs={}, response_metadata={}, id='b75fcfd9-f7a9-460f-9537-986ac918103e'), AIMessage(content='', additional_kwargs={'tool_calls': [{'id': 'call_5k2h', 'function': {'arguments': '{\"query\": \"Los Angeles weather today\"}', 'name': 'tavily_search_results_json'}, 'type': 'function'}]}, response_metadata={'token_usage': {'completion_tokens': 21, 'prompt_tokens': 349, 'total_tokens': 370, 'completion_time': 0.105587875, 'prompt_time': 0.067504749, 'queue_time': 1.306107314, 'total_time': 0.173092624}, 'model_name': 'llama-3.3-70b-versatile', 'system_fingerprint': 'fp_3884478861', 'finish_reason': 'tool_calls', 'logprobs': None}, id='run-f3d2eafe-ab1d-4b11-a05b-f728d5332883-0', tool_calls=[{'name': 'tavily_search_results_json', 'args': {'query': 'current weather in SF'}, 'id': 'call_5k2h', 'type': 'tool_call'}], usage_metadata={'input_tokens': 349, 'output_tokens': 21, 'total_tokens': 370})]}}, 'thread_id': '3', 'step': 2, 'parents': {}}, created_at='2025-02-02T19:03:54.199554+00:00', parent_config={'configurable': {'thread_id': '3', 'checkpoint_ns': '', 'checkpoint_id': '1efe1986-997c-6cf6-8001-5bf55c0d45e2'}}, tasks=(PregelTask(id='48096629-b4dc-d396-81de-102b53b5d326', name='action', path=('__pregel_pull', 'action'), error=None, interrupts=(), state=None, result=None),))"
            ]
          },
          "metadata": {},
          "execution_count": 18
        }
      ]
    },
    {
      "cell_type": "code",
      "source": [
        "for event in abot.graph.stream(None, thread):\n",
        "    for v in event.values():\n",
        "        print(v)"
      ],
      "metadata": {
        "colab": {
          "base_uri": "https://localhost:8080/"
        },
        "id": "BB4NdJljxH-Y",
        "outputId": "bda1bcc4-28bc-4dc9-ee9b-a0125d7cf5a8"
      },
      "execution_count": 19,
      "outputs": [
        {
          "output_type": "stream",
          "name": "stdout",
          "text": [
            "Calling: {'name': 'tavily_search_results_json', 'args': {'query': 'current weather in SF'}, 'id': 'call_5k2h', 'type': 'tool_call'}\n",
            "Back to the model!\n",
            "{'messages': [ToolMessage(content='[{\\'url\\': \\'https://www.weatherapi.com/\\', \\'content\\': \"{\\'location\\': {\\'name\\': \\'San Francisco\\', \\'region\\': \\'California\\', \\'country\\': \\'United States of America\\', \\'lat\\': 37.775, \\'lon\\': -122.4183, \\'tz_id\\': \\'America/Los_Angeles\\', \\'localtime_epoch\\': 1738523038, \\'localtime\\': \\'2025-02-02 11:03\\'}, \\'current\\': {\\'last_updated_epoch\\': 1738522800, \\'last_updated\\': \\'2025-02-02 11:00\\', \\'temp_c\\': 15.1, \\'temp_f\\': 59.2, \\'is_day\\': 1, \\'condition\\': {\\'text\\': \\'Light rain\\', \\'icon\\': \\'//cdn.weatherapi.com/weather/64x64/day/296.png\\', \\'code\\': 1183}, \\'wind_mph\\': 19.7, \\'wind_kph\\': 31.7, \\'wind_degree\\': 185, \\'wind_dir\\': \\'S\\', \\'pressure_mb\\': 1018.0, \\'pressure_in\\': 30.05, \\'precip_mm\\': 2.3, \\'precip_in\\': 0.09, \\'humidity\\': 100, \\'cloud\\': 100, \\'feelslike_c\\': 15.1, \\'feelslike_f\\': 59.2, \\'windchill_c\\': 10.2, \\'windchill_f\\': 50.3, \\'heatindex_c\\': 12.3, \\'heatindex_f\\': 54.1, \\'dewpoint_c\\': 12.0, \\'dewpoint_f\\': 53.7, \\'vis_km\\': 3.2, \\'vis_miles\\': 1.0, \\'uv\\': 0.3, \\'gust_mph\\': 31.9, \\'gust_kph\\': 51.3}}\"}, {\\'url\\': \\'https://weathershogun.com/weather/usa/ca/san-francisco/480/february\\', \\'content\\': \\'February 2025 Weather in San Francisco, CA San Francisco, CA Today Hourly 7 days 30 days February February 2025 Weather | San Francisco, California Sat 2/1 Day 59° Night 55° 95Sun 2/2 Day 59° Night 54° 88Mon 2/3 Day 57° Night 48° 81Tue 2/4 Day 54° Night 43° 91Wed 2/5 Day 54° Night 45° 25Thu 2/6 Day 55° Night 43° 75Fri 2/7 Day 55° Night 45° 1Sat 2/8 Day 57° Night 46° 0Sun 2/9 Day 59° Night 48° 0Mon 2/10 Day 57° Night 48° 0Tue 2/11 Day 57° Night 45° 0Wed 2/12 Day 55° Night 48° 55Thu 2/13 Day 61° Night 46° 75Fri 2/14 Day 55° Night 52° 64Sat 2/15 Day 55° Night 52° 63Sun 2/16 Day 57° Night 52° 63Mon 2/17 Day 57° Night 48° 25Tue 2/18 Day 59° Night 45° 25Wed 2/19 Day 61° Night 50° 25Thu 2/20 Day 61° Night 52° 74Fri 2/21 Day 57° Night 48° 58Sat 2/22 Day 57° Night 46° 57Sun 2/23 Day 57° Night 45° 25Mon 2/24 Day 59° Night 45° 25Tue 2/25 Day 59° Night 48° 25Wed 2/26 Day 59° Night 52° 62Thu 2/27 Day 57° Night 48° 25Fri 2/28 Day 55° Night 50° 70 Hourly Today 7 days 30 days\\'}]', name='tavily_search_results_json', id='3da853f0-1087-4a19-823f-ee9d8662a7d9', tool_call_id='call_5k2h')]}\n",
            "{'messages': [HumanMessage(content='Whats the weather in LA?', additional_kwargs={}, response_metadata={}, id='b75fcfd9-f7a9-460f-9537-986ac918103e'), AIMessage(content='', additional_kwargs={'tool_calls': [{'id': 'call_5k2h', 'function': {'arguments': '{\"query\": \"Los Angeles weather today\"}', 'name': 'tavily_search_results_json'}, 'type': 'function'}]}, response_metadata={'token_usage': {'completion_tokens': 21, 'prompt_tokens': 349, 'total_tokens': 370, 'completion_time': 0.105587875, 'prompt_time': 0.067504749, 'queue_time': 1.306107314, 'total_time': 0.173092624}, 'model_name': 'llama-3.3-70b-versatile', 'system_fingerprint': 'fp_3884478861', 'finish_reason': 'tool_calls', 'logprobs': None}, id='run-f3d2eafe-ab1d-4b11-a05b-f728d5332883-0', tool_calls=[{'name': 'tavily_search_results_json', 'args': {'query': 'current weather in SF'}, 'id': 'call_5k2h', 'type': 'tool_call'}], usage_metadata={'input_tokens': 349, 'output_tokens': 21, 'total_tokens': 370}), ToolMessage(content='[{\\'url\\': \\'https://www.weatherapi.com/\\', \\'content\\': \"{\\'location\\': {\\'name\\': \\'San Francisco\\', \\'region\\': \\'California\\', \\'country\\': \\'United States of America\\', \\'lat\\': 37.775, \\'lon\\': -122.4183, \\'tz_id\\': \\'America/Los_Angeles\\', \\'localtime_epoch\\': 1738523038, \\'localtime\\': \\'2025-02-02 11:03\\'}, \\'current\\': {\\'last_updated_epoch\\': 1738522800, \\'last_updated\\': \\'2025-02-02 11:00\\', \\'temp_c\\': 15.1, \\'temp_f\\': 59.2, \\'is_day\\': 1, \\'condition\\': {\\'text\\': \\'Light rain\\', \\'icon\\': \\'//cdn.weatherapi.com/weather/64x64/day/296.png\\', \\'code\\': 1183}, \\'wind_mph\\': 19.7, \\'wind_kph\\': 31.7, \\'wind_degree\\': 185, \\'wind_dir\\': \\'S\\', \\'pressure_mb\\': 1018.0, \\'pressure_in\\': 30.05, \\'precip_mm\\': 2.3, \\'precip_in\\': 0.09, \\'humidity\\': 100, \\'cloud\\': 100, \\'feelslike_c\\': 15.1, \\'feelslike_f\\': 59.2, \\'windchill_c\\': 10.2, \\'windchill_f\\': 50.3, \\'heatindex_c\\': 12.3, \\'heatindex_f\\': 54.1, \\'dewpoint_c\\': 12.0, \\'dewpoint_f\\': 53.7, \\'vis_km\\': 3.2, \\'vis_miles\\': 1.0, \\'uv\\': 0.3, \\'gust_mph\\': 31.9, \\'gust_kph\\': 51.3}}\"}, {\\'url\\': \\'https://weathershogun.com/weather/usa/ca/san-francisco/480/february\\', \\'content\\': \\'February 2025 Weather in San Francisco, CA San Francisco, CA Today Hourly 7 days 30 days February February 2025 Weather | San Francisco, California Sat 2/1 Day 59° Night 55° 95Sun 2/2 Day 59° Night 54° 88Mon 2/3 Day 57° Night 48° 81Tue 2/4 Day 54° Night 43° 91Wed 2/5 Day 54° Night 45° 25Thu 2/6 Day 55° Night 43° 75Fri 2/7 Day 55° Night 45° 1Sat 2/8 Day 57° Night 46° 0Sun 2/9 Day 59° Night 48° 0Mon 2/10 Day 57° Night 48° 0Tue 2/11 Day 57° Night 45° 0Wed 2/12 Day 55° Night 48° 55Thu 2/13 Day 61° Night 46° 75Fri 2/14 Day 55° Night 52° 64Sat 2/15 Day 55° Night 52° 63Sun 2/16 Day 57° Night 52° 63Mon 2/17 Day 57° Night 48° 25Tue 2/18 Day 59° Night 45° 25Wed 2/19 Day 61° Night 50° 25Thu 2/20 Day 61° Night 52° 74Fri 2/21 Day 57° Night 48° 58Sat 2/22 Day 57° Night 46° 57Sun 2/23 Day 57° Night 45° 25Mon 2/24 Day 59° Night 45° 25Tue 2/25 Day 59° Night 48° 25Wed 2/26 Day 59° Night 52° 62Thu 2/27 Day 57° Night 48° 25Fri 2/28 Day 55° Night 50° 70 Hourly Today 7 days 30 days\\'}]', name='tavily_search_results_json', id='3da853f0-1087-4a19-823f-ee9d8662a7d9', tool_call_id='call_5k2h'), AIMessage(content='', additional_kwargs={'tool_calls': [{'id': 'call_2phr', 'function': {'arguments': '{\"query\": \"current weather in LA\"}', 'name': 'tavily_search_results_json'}, 'type': 'function'}]}, response_metadata={'token_usage': {'completion_tokens': 21, 'prompt_tokens': 1283, 'total_tokens': 1304, 'completion_time': 0.076363636, 'prompt_time': 0.228929498, 'queue_time': 1.701758503, 'total_time': 0.305293134}, 'model_name': 'llama-3.3-70b-versatile', 'system_fingerprint': 'fp_fcc3b74982', 'finish_reason': 'tool_calls', 'logprobs': None}, id='run-3eab9f9c-849d-4eb4-8e88-22be5002cf07-0', tool_calls=[{'name': 'tavily_search_results_json', 'args': {'query': 'current weather in LA'}, 'id': 'call_2phr', 'type': 'tool_call'}], usage_metadata={'input_tokens': 1283, 'output_tokens': 21, 'total_tokens': 1304})]}\n",
            "{'messages': [AIMessage(content='', additional_kwargs={'tool_calls': [{'id': 'call_2phr', 'function': {'arguments': '{\"query\": \"current weather in LA\"}', 'name': 'tavily_search_results_json'}, 'type': 'function'}]}, response_metadata={'token_usage': {'completion_tokens': 21, 'prompt_tokens': 1283, 'total_tokens': 1304, 'completion_time': 0.076363636, 'prompt_time': 0.228929498, 'queue_time': 1.701758503, 'total_time': 0.305293134}, 'model_name': 'llama-3.3-70b-versatile', 'system_fingerprint': 'fp_fcc3b74982', 'finish_reason': 'tool_calls', 'logprobs': None}, id='run-3eab9f9c-849d-4eb4-8e88-22be5002cf07-0', tool_calls=[{'name': 'tavily_search_results_json', 'args': {'query': 'current weather in LA'}, 'id': 'call_2phr', 'type': 'tool_call'}], usage_metadata={'input_tokens': 1283, 'output_tokens': 21, 'total_tokens': 1304})]}\n",
            "()\n"
          ]
        }
      ]
    },
    {
      "cell_type": "markdown",
      "source": [
        "#**Time travel**"
      ],
      "metadata": {
        "id": "3_YFjqkSyP-D"
      }
    },
    {
      "cell_type": "code",
      "source": [
        "states = []\n",
        "for state in abot.graph.get_state_history(thread):\n",
        "    print(state)\n",
        "    print('--')\n",
        "    states.append(state)"
      ],
      "metadata": {
        "colab": {
          "base_uri": "https://localhost:8080/"
        },
        "id": "kp9yOTXsyRRE",
        "outputId": "713fe9e7-eb21-4d09-8565-1a471691adae"
      },
      "execution_count": 20,
      "outputs": [
        {
          "output_type": "stream",
          "name": "stdout",
          "text": [
            "StateSnapshot(values={'messages': [HumanMessage(content='Whats the weather in LA?', additional_kwargs={}, response_metadata={}, id='b75fcfd9-f7a9-460f-9537-986ac918103e'), AIMessage(content='', additional_kwargs={'tool_calls': [{'id': 'call_5k2h', 'function': {'arguments': '{\"query\": \"Los Angeles weather today\"}', 'name': 'tavily_search_results_json'}, 'type': 'function'}]}, response_metadata={'token_usage': {'completion_tokens': 21, 'prompt_tokens': 349, 'total_tokens': 370, 'completion_time': 0.105587875, 'prompt_time': 0.067504749, 'queue_time': 1.306107314, 'total_time': 0.173092624}, 'model_name': 'llama-3.3-70b-versatile', 'system_fingerprint': 'fp_3884478861', 'finish_reason': 'tool_calls', 'logprobs': None}, id='run-f3d2eafe-ab1d-4b11-a05b-f728d5332883-0', tool_calls=[{'name': 'tavily_search_results_json', 'args': {'query': 'current weather in SF'}, 'id': 'call_5k2h', 'type': 'tool_call'}], usage_metadata={'input_tokens': 349, 'output_tokens': 21, 'total_tokens': 370}), ToolMessage(content='[{\\'url\\': \\'https://www.weatherapi.com/\\', \\'content\\': \"{\\'location\\': {\\'name\\': \\'San Francisco\\', \\'region\\': \\'California\\', \\'country\\': \\'United States of America\\', \\'lat\\': 37.775, \\'lon\\': -122.4183, \\'tz_id\\': \\'America/Los_Angeles\\', \\'localtime_epoch\\': 1738523038, \\'localtime\\': \\'2025-02-02 11:03\\'}, \\'current\\': {\\'last_updated_epoch\\': 1738522800, \\'last_updated\\': \\'2025-02-02 11:00\\', \\'temp_c\\': 15.1, \\'temp_f\\': 59.2, \\'is_day\\': 1, \\'condition\\': {\\'text\\': \\'Light rain\\', \\'icon\\': \\'//cdn.weatherapi.com/weather/64x64/day/296.png\\', \\'code\\': 1183}, \\'wind_mph\\': 19.7, \\'wind_kph\\': 31.7, \\'wind_degree\\': 185, \\'wind_dir\\': \\'S\\', \\'pressure_mb\\': 1018.0, \\'pressure_in\\': 30.05, \\'precip_mm\\': 2.3, \\'precip_in\\': 0.09, \\'humidity\\': 100, \\'cloud\\': 100, \\'feelslike_c\\': 15.1, \\'feelslike_f\\': 59.2, \\'windchill_c\\': 10.2, \\'windchill_f\\': 50.3, \\'heatindex_c\\': 12.3, \\'heatindex_f\\': 54.1, \\'dewpoint_c\\': 12.0, \\'dewpoint_f\\': 53.7, \\'vis_km\\': 3.2, \\'vis_miles\\': 1.0, \\'uv\\': 0.3, \\'gust_mph\\': 31.9, \\'gust_kph\\': 51.3}}\"}, {\\'url\\': \\'https://weathershogun.com/weather/usa/ca/san-francisco/480/february\\', \\'content\\': \\'February 2025 Weather in San Francisco, CA San Francisco, CA Today Hourly 7 days 30 days February February 2025 Weather | San Francisco, California Sat 2/1 Day 59° Night 55° 95Sun 2/2 Day 59° Night 54° 88Mon 2/3 Day 57° Night 48° 81Tue 2/4 Day 54° Night 43° 91Wed 2/5 Day 54° Night 45° 25Thu 2/6 Day 55° Night 43° 75Fri 2/7 Day 55° Night 45° 1Sat 2/8 Day 57° Night 46° 0Sun 2/9 Day 59° Night 48° 0Mon 2/10 Day 57° Night 48° 0Tue 2/11 Day 57° Night 45° 0Wed 2/12 Day 55° Night 48° 55Thu 2/13 Day 61° Night 46° 75Fri 2/14 Day 55° Night 52° 64Sat 2/15 Day 55° Night 52° 63Sun 2/16 Day 57° Night 52° 63Mon 2/17 Day 57° Night 48° 25Tue 2/18 Day 59° Night 45° 25Wed 2/19 Day 61° Night 50° 25Thu 2/20 Day 61° Night 52° 74Fri 2/21 Day 57° Night 48° 58Sat 2/22 Day 57° Night 46° 57Sun 2/23 Day 57° Night 45° 25Mon 2/24 Day 59° Night 45° 25Tue 2/25 Day 59° Night 48° 25Wed 2/26 Day 59° Night 52° 62Thu 2/27 Day 57° Night 48° 25Fri 2/28 Day 55° Night 50° 70 Hourly Today 7 days 30 days\\'}]', name='tavily_search_results_json', id='3da853f0-1087-4a19-823f-ee9d8662a7d9', tool_call_id='call_5k2h'), AIMessage(content='', additional_kwargs={'tool_calls': [{'id': 'call_2phr', 'function': {'arguments': '{\"query\": \"current weather in LA\"}', 'name': 'tavily_search_results_json'}, 'type': 'function'}]}, response_metadata={'token_usage': {'completion_tokens': 21, 'prompt_tokens': 1283, 'total_tokens': 1304, 'completion_time': 0.076363636, 'prompt_time': 0.228929498, 'queue_time': 1.701758503, 'total_time': 0.305293134}, 'model_name': 'llama-3.3-70b-versatile', 'system_fingerprint': 'fp_fcc3b74982', 'finish_reason': 'tool_calls', 'logprobs': None}, id='run-3eab9f9c-849d-4eb4-8e88-22be5002cf07-0', tool_calls=[{'name': 'tavily_search_results_json', 'args': {'query': 'current weather in LA'}, 'id': 'call_2phr', 'type': 'tool_call'}], usage_metadata={'input_tokens': 1283, 'output_tokens': 21, 'total_tokens': 1304})]}, next=('action',), config={'configurable': {'thread_id': '3', 'checkpoint_ns': '', 'checkpoint_id': '1efe1987-8a4d-6e12-8004-c7e26d2ef603'}}, metadata={'source': 'loop', 'writes': {'llm': {'messages': [AIMessage(content='', additional_kwargs={'tool_calls': [{'id': 'call_2phr', 'function': {'arguments': '{\"query\": \"current weather in LA\"}', 'name': 'tavily_search_results_json'}, 'type': 'function'}]}, response_metadata={'token_usage': {'completion_tokens': 21, 'prompt_tokens': 1283, 'total_tokens': 1304, 'completion_time': 0.076363636, 'prompt_time': 0.228929498, 'queue_time': 1.701758503, 'total_time': 0.305293134}, 'model_name': 'llama-3.3-70b-versatile', 'system_fingerprint': 'fp_fcc3b74982', 'finish_reason': 'tool_calls', 'logprobs': None}, id='run-3eab9f9c-849d-4eb4-8e88-22be5002cf07-0', tool_calls=[{'name': 'tavily_search_results_json', 'args': {'query': 'current weather in LA'}, 'id': 'call_2phr', 'type': 'tool_call'}], usage_metadata={'input_tokens': 1283, 'output_tokens': 21, 'total_tokens': 1304})]}}, 'thread_id': '3', 'step': 4, 'parents': {}}, created_at='2025-02-02T19:04:04.712360+00:00', parent_config={'configurable': {'thread_id': '3', 'checkpoint_ns': '', 'checkpoint_id': '1efe1987-75a6-6e3d-8003-f980fab7ca0d'}}, tasks=(PregelTask(id='7ec74b3b-1164-08ac-2bb7-36c42005591c', name='action', path=('__pregel_pull', 'action'), error=None, interrupts=(), state=None, result=None),))\n",
            "--\n",
            "StateSnapshot(values={'messages': [HumanMessage(content='Whats the weather in LA?', additional_kwargs={}, response_metadata={}, id='b75fcfd9-f7a9-460f-9537-986ac918103e'), AIMessage(content='', additional_kwargs={'tool_calls': [{'id': 'call_5k2h', 'function': {'arguments': '{\"query\": \"Los Angeles weather today\"}', 'name': 'tavily_search_results_json'}, 'type': 'function'}]}, response_metadata={'token_usage': {'completion_tokens': 21, 'prompt_tokens': 349, 'total_tokens': 370, 'completion_time': 0.105587875, 'prompt_time': 0.067504749, 'queue_time': 1.306107314, 'total_time': 0.173092624}, 'model_name': 'llama-3.3-70b-versatile', 'system_fingerprint': 'fp_3884478861', 'finish_reason': 'tool_calls', 'logprobs': None}, id='run-f3d2eafe-ab1d-4b11-a05b-f728d5332883-0', tool_calls=[{'name': 'tavily_search_results_json', 'args': {'query': 'current weather in SF'}, 'id': 'call_5k2h', 'type': 'tool_call'}], usage_metadata={'input_tokens': 349, 'output_tokens': 21, 'total_tokens': 370}), ToolMessage(content='[{\\'url\\': \\'https://www.weatherapi.com/\\', \\'content\\': \"{\\'location\\': {\\'name\\': \\'San Francisco\\', \\'region\\': \\'California\\', \\'country\\': \\'United States of America\\', \\'lat\\': 37.775, \\'lon\\': -122.4183, \\'tz_id\\': \\'America/Los_Angeles\\', \\'localtime_epoch\\': 1738523038, \\'localtime\\': \\'2025-02-02 11:03\\'}, \\'current\\': {\\'last_updated_epoch\\': 1738522800, \\'last_updated\\': \\'2025-02-02 11:00\\', \\'temp_c\\': 15.1, \\'temp_f\\': 59.2, \\'is_day\\': 1, \\'condition\\': {\\'text\\': \\'Light rain\\', \\'icon\\': \\'//cdn.weatherapi.com/weather/64x64/day/296.png\\', \\'code\\': 1183}, \\'wind_mph\\': 19.7, \\'wind_kph\\': 31.7, \\'wind_degree\\': 185, \\'wind_dir\\': \\'S\\', \\'pressure_mb\\': 1018.0, \\'pressure_in\\': 30.05, \\'precip_mm\\': 2.3, \\'precip_in\\': 0.09, \\'humidity\\': 100, \\'cloud\\': 100, \\'feelslike_c\\': 15.1, \\'feelslike_f\\': 59.2, \\'windchill_c\\': 10.2, \\'windchill_f\\': 50.3, \\'heatindex_c\\': 12.3, \\'heatindex_f\\': 54.1, \\'dewpoint_c\\': 12.0, \\'dewpoint_f\\': 53.7, \\'vis_km\\': 3.2, \\'vis_miles\\': 1.0, \\'uv\\': 0.3, \\'gust_mph\\': 31.9, \\'gust_kph\\': 51.3}}\"}, {\\'url\\': \\'https://weathershogun.com/weather/usa/ca/san-francisco/480/february\\', \\'content\\': \\'February 2025 Weather in San Francisco, CA San Francisco, CA Today Hourly 7 days 30 days February February 2025 Weather | San Francisco, California Sat 2/1 Day 59° Night 55° 95Sun 2/2 Day 59° Night 54° 88Mon 2/3 Day 57° Night 48° 81Tue 2/4 Day 54° Night 43° 91Wed 2/5 Day 54° Night 45° 25Thu 2/6 Day 55° Night 43° 75Fri 2/7 Day 55° Night 45° 1Sat 2/8 Day 57° Night 46° 0Sun 2/9 Day 59° Night 48° 0Mon 2/10 Day 57° Night 48° 0Tue 2/11 Day 57° Night 45° 0Wed 2/12 Day 55° Night 48° 55Thu 2/13 Day 61° Night 46° 75Fri 2/14 Day 55° Night 52° 64Sat 2/15 Day 55° Night 52° 63Sun 2/16 Day 57° Night 52° 63Mon 2/17 Day 57° Night 48° 25Tue 2/18 Day 59° Night 45° 25Wed 2/19 Day 61° Night 50° 25Thu 2/20 Day 61° Night 52° 74Fri 2/21 Day 57° Night 48° 58Sat 2/22 Day 57° Night 46° 57Sun 2/23 Day 57° Night 45° 25Mon 2/24 Day 59° Night 45° 25Tue 2/25 Day 59° Night 48° 25Wed 2/26 Day 59° Night 52° 62Thu 2/27 Day 57° Night 48° 25Fri 2/28 Day 55° Night 50° 70 Hourly Today 7 days 30 days\\'}]', name='tavily_search_results_json', id='3da853f0-1087-4a19-823f-ee9d8662a7d9', tool_call_id='call_5k2h')]}, next=('llm',), config={'configurable': {'thread_id': '3', 'checkpoint_ns': '', 'checkpoint_id': '1efe1987-75a6-6e3d-8003-f980fab7ca0d'}}, metadata={'source': 'loop', 'writes': {'action': {'messages': [ToolMessage(content='[{\\'url\\': \\'https://www.weatherapi.com/\\', \\'content\\': \"{\\'location\\': {\\'name\\': \\'San Francisco\\', \\'region\\': \\'California\\', \\'country\\': \\'United States of America\\', \\'lat\\': 37.775, \\'lon\\': -122.4183, \\'tz_id\\': \\'America/Los_Angeles\\', \\'localtime_epoch\\': 1738523038, \\'localtime\\': \\'2025-02-02 11:03\\'}, \\'current\\': {\\'last_updated_epoch\\': 1738522800, \\'last_updated\\': \\'2025-02-02 11:00\\', \\'temp_c\\': 15.1, \\'temp_f\\': 59.2, \\'is_day\\': 1, \\'condition\\': {\\'text\\': \\'Light rain\\', \\'icon\\': \\'//cdn.weatherapi.com/weather/64x64/day/296.png\\', \\'code\\': 1183}, \\'wind_mph\\': 19.7, \\'wind_kph\\': 31.7, \\'wind_degree\\': 185, \\'wind_dir\\': \\'S\\', \\'pressure_mb\\': 1018.0, \\'pressure_in\\': 30.05, \\'precip_mm\\': 2.3, \\'precip_in\\': 0.09, \\'humidity\\': 100, \\'cloud\\': 100, \\'feelslike_c\\': 15.1, \\'feelslike_f\\': 59.2, \\'windchill_c\\': 10.2, \\'windchill_f\\': 50.3, \\'heatindex_c\\': 12.3, \\'heatindex_f\\': 54.1, \\'dewpoint_c\\': 12.0, \\'dewpoint_f\\': 53.7, \\'vis_km\\': 3.2, \\'vis_miles\\': 1.0, \\'uv\\': 0.3, \\'gust_mph\\': 31.9, \\'gust_kph\\': 51.3}}\"}, {\\'url\\': \\'https://weathershogun.com/weather/usa/ca/san-francisco/480/february\\', \\'content\\': \\'February 2025 Weather in San Francisco, CA San Francisco, CA Today Hourly 7 days 30 days February February 2025 Weather | San Francisco, California Sat 2/1 Day 59° Night 55° 95Sun 2/2 Day 59° Night 54° 88Mon 2/3 Day 57° Night 48° 81Tue 2/4 Day 54° Night 43° 91Wed 2/5 Day 54° Night 45° 25Thu 2/6 Day 55° Night 43° 75Fri 2/7 Day 55° Night 45° 1Sat 2/8 Day 57° Night 46° 0Sun 2/9 Day 59° Night 48° 0Mon 2/10 Day 57° Night 48° 0Tue 2/11 Day 57° Night 45° 0Wed 2/12 Day 55° Night 48° 55Thu 2/13 Day 61° Night 46° 75Fri 2/14 Day 55° Night 52° 64Sat 2/15 Day 55° Night 52° 63Sun 2/16 Day 57° Night 52° 63Mon 2/17 Day 57° Night 48° 25Tue 2/18 Day 59° Night 45° 25Wed 2/19 Day 61° Night 50° 25Thu 2/20 Day 61° Night 52° 74Fri 2/21 Day 57° Night 48° 58Sat 2/22 Day 57° Night 46° 57Sun 2/23 Day 57° Night 45° 25Mon 2/24 Day 59° Night 45° 25Tue 2/25 Day 59° Night 48° 25Wed 2/26 Day 59° Night 52° 62Thu 2/27 Day 57° Night 48° 25Fri 2/28 Day 55° Night 50° 70 Hourly Today 7 days 30 days\\'}]', name='tavily_search_results_json', id='3da853f0-1087-4a19-823f-ee9d8662a7d9', tool_call_id='call_5k2h')]}}, 'thread_id': '3', 'step': 3, 'parents': {}}, created_at='2025-02-02T19:04:02.546792+00:00', parent_config={'configurable': {'thread_id': '3', 'checkpoint_ns': '', 'checkpoint_id': '1efe1987-260c-6011-8002-9fc1e01746b4'}}, tasks=(PregelTask(id='f822e83b-e9c1-cacc-9a28-c69791110a71', name='llm', path=('__pregel_pull', 'llm'), error=None, interrupts=(), state=None, result={'messages': [AIMessage(content='', additional_kwargs={'tool_calls': [{'id': 'call_2phr', 'function': {'arguments': '{\"query\": \"current weather in LA\"}', 'name': 'tavily_search_results_json'}, 'type': 'function'}]}, response_metadata={'token_usage': {'completion_tokens': 21, 'prompt_tokens': 1283, 'total_tokens': 1304, 'completion_time': 0.076363636, 'prompt_time': 0.228929498, 'queue_time': 1.701758503, 'total_time': 0.305293134}, 'model_name': 'llama-3.3-70b-versatile', 'system_fingerprint': 'fp_fcc3b74982', 'finish_reason': 'tool_calls', 'logprobs': None}, id='run-3eab9f9c-849d-4eb4-8e88-22be5002cf07-0', tool_calls=[{'name': 'tavily_search_results_json', 'args': {'query': 'current weather in LA'}, 'id': 'call_2phr', 'type': 'tool_call'}], usage_metadata={'input_tokens': 1283, 'output_tokens': 21, 'total_tokens': 1304})]}),))\n",
            "--\n",
            "StateSnapshot(values={'messages': [HumanMessage(content='Whats the weather in LA?', additional_kwargs={}, response_metadata={}, id='b75fcfd9-f7a9-460f-9537-986ac918103e'), AIMessage(content='', additional_kwargs={'tool_calls': [{'id': 'call_5k2h', 'function': {'arguments': '{\"query\": \"Los Angeles weather today\"}', 'name': 'tavily_search_results_json'}, 'type': 'function'}]}, response_metadata={'token_usage': {'completion_tokens': 21, 'prompt_tokens': 349, 'total_tokens': 370, 'completion_time': 0.105587875, 'prompt_time': 0.067504749, 'queue_time': 1.306107314, 'total_time': 0.173092624}, 'model_name': 'llama-3.3-70b-versatile', 'system_fingerprint': 'fp_3884478861', 'finish_reason': 'tool_calls', 'logprobs': None}, id='run-f3d2eafe-ab1d-4b11-a05b-f728d5332883-0', tool_calls=[{'name': 'tavily_search_results_json', 'args': {'query': 'current weather in SF'}, 'id': 'call_5k2h', 'type': 'tool_call'}], usage_metadata={'input_tokens': 349, 'output_tokens': 21, 'total_tokens': 370})]}, next=('action',), config={'configurable': {'thread_id': '3', 'checkpoint_ns': '', 'checkpoint_id': '1efe1987-260c-6011-8002-9fc1e01746b4'}}, metadata={'source': 'update', 'writes': {'llm': {'messages': [HumanMessage(content='Whats the weather in LA?', additional_kwargs={}, response_metadata={}, id='b75fcfd9-f7a9-460f-9537-986ac918103e'), AIMessage(content='', additional_kwargs={'tool_calls': [{'id': 'call_5k2h', 'function': {'arguments': '{\"query\": \"Los Angeles weather today\"}', 'name': 'tavily_search_results_json'}, 'type': 'function'}]}, response_metadata={'token_usage': {'completion_tokens': 21, 'prompt_tokens': 349, 'total_tokens': 370, 'completion_time': 0.105587875, 'prompt_time': 0.067504749, 'queue_time': 1.306107314, 'total_time': 0.173092624}, 'model_name': 'llama-3.3-70b-versatile', 'system_fingerprint': 'fp_3884478861', 'finish_reason': 'tool_calls', 'logprobs': None}, id='run-f3d2eafe-ab1d-4b11-a05b-f728d5332883-0', tool_calls=[{'name': 'tavily_search_results_json', 'args': {'query': 'current weather in SF'}, 'id': 'call_5k2h', 'type': 'tool_call'}], usage_metadata={'input_tokens': 349, 'output_tokens': 21, 'total_tokens': 370})]}}, 'thread_id': '3', 'step': 2, 'parents': {}}, created_at='2025-02-02T19:03:54.199554+00:00', parent_config={'configurable': {'thread_id': '3', 'checkpoint_ns': '', 'checkpoint_id': '1efe1986-997c-6cf6-8001-5bf55c0d45e2'}}, tasks=(PregelTask(id='48096629-b4dc-d396-81de-102b53b5d326', name='action', path=('__pregel_pull', 'action'), error=None, interrupts=(), state=None, result={'messages': [ToolMessage(content='[{\\'url\\': \\'https://www.weatherapi.com/\\', \\'content\\': \"{\\'location\\': {\\'name\\': \\'San Francisco\\', \\'region\\': \\'California\\', \\'country\\': \\'United States of America\\', \\'lat\\': 37.775, \\'lon\\': -122.4183, \\'tz_id\\': \\'America/Los_Angeles\\', \\'localtime_epoch\\': 1738523038, \\'localtime\\': \\'2025-02-02 11:03\\'}, \\'current\\': {\\'last_updated_epoch\\': 1738522800, \\'last_updated\\': \\'2025-02-02 11:00\\', \\'temp_c\\': 15.1, \\'temp_f\\': 59.2, \\'is_day\\': 1, \\'condition\\': {\\'text\\': \\'Light rain\\', \\'icon\\': \\'//cdn.weatherapi.com/weather/64x64/day/296.png\\', \\'code\\': 1183}, \\'wind_mph\\': 19.7, \\'wind_kph\\': 31.7, \\'wind_degree\\': 185, \\'wind_dir\\': \\'S\\', \\'pressure_mb\\': 1018.0, \\'pressure_in\\': 30.05, \\'precip_mm\\': 2.3, \\'precip_in\\': 0.09, \\'humidity\\': 100, \\'cloud\\': 100, \\'feelslike_c\\': 15.1, \\'feelslike_f\\': 59.2, \\'windchill_c\\': 10.2, \\'windchill_f\\': 50.3, \\'heatindex_c\\': 12.3, \\'heatindex_f\\': 54.1, \\'dewpoint_c\\': 12.0, \\'dewpoint_f\\': 53.7, \\'vis_km\\': 3.2, \\'vis_miles\\': 1.0, \\'uv\\': 0.3, \\'gust_mph\\': 31.9, \\'gust_kph\\': 51.3}}\"}, {\\'url\\': \\'https://weathershogun.com/weather/usa/ca/san-francisco/480/february\\', \\'content\\': \\'February 2025 Weather in San Francisco, CA San Francisco, CA Today Hourly 7 days 30 days February February 2025 Weather | San Francisco, California Sat 2/1 Day 59° Night 55° 95Sun 2/2 Day 59° Night 54° 88Mon 2/3 Day 57° Night 48° 81Tue 2/4 Day 54° Night 43° 91Wed 2/5 Day 54° Night 45° 25Thu 2/6 Day 55° Night 43° 75Fri 2/7 Day 55° Night 45° 1Sat 2/8 Day 57° Night 46° 0Sun 2/9 Day 59° Night 48° 0Mon 2/10 Day 57° Night 48° 0Tue 2/11 Day 57° Night 45° 0Wed 2/12 Day 55° Night 48° 55Thu 2/13 Day 61° Night 46° 75Fri 2/14 Day 55° Night 52° 64Sat 2/15 Day 55° Night 52° 63Sun 2/16 Day 57° Night 52° 63Mon 2/17 Day 57° Night 48° 25Tue 2/18 Day 59° Night 45° 25Wed 2/19 Day 61° Night 50° 25Thu 2/20 Day 61° Night 52° 74Fri 2/21 Day 57° Night 48° 58Sat 2/22 Day 57° Night 46° 57Sun 2/23 Day 57° Night 45° 25Mon 2/24 Day 59° Night 45° 25Tue 2/25 Day 59° Night 48° 25Wed 2/26 Day 59° Night 52° 62Thu 2/27 Day 57° Night 48° 25Fri 2/28 Day 55° Night 50° 70 Hourly Today 7 days 30 days\\'}]', name='tavily_search_results_json', tool_call_id='call_5k2h')]}),))\n",
            "--\n",
            "StateSnapshot(values={'messages': [HumanMessage(content='Whats the weather in LA?', additional_kwargs={}, response_metadata={}, id='b75fcfd9-f7a9-460f-9537-986ac918103e'), AIMessage(content='', additional_kwargs={'tool_calls': [{'id': 'call_5k2h', 'function': {'arguments': '{\"query\": \"Los Angeles weather today\"}', 'name': 'tavily_search_results_json'}, 'type': 'function'}]}, response_metadata={'token_usage': {'completion_tokens': 21, 'prompt_tokens': 349, 'total_tokens': 370, 'completion_time': 0.105587875, 'prompt_time': 0.067504749, 'queue_time': 1.306107314, 'total_time': 0.173092624}, 'model_name': 'llama-3.3-70b-versatile', 'system_fingerprint': 'fp_3884478861', 'finish_reason': 'tool_calls', 'logprobs': None}, id='run-f3d2eafe-ab1d-4b11-a05b-f728d5332883-0', tool_calls=[{'name': 'tavily_search_results_json', 'args': {'query': 'Los Angeles weather today'}, 'id': 'call_5k2h', 'type': 'tool_call'}], usage_metadata={'input_tokens': 349, 'output_tokens': 21, 'total_tokens': 370})]}, next=('action',), config={'configurable': {'thread_id': '3', 'checkpoint_ns': '', 'checkpoint_id': '1efe1986-997c-6cf6-8001-5bf55c0d45e2'}}, metadata={'source': 'loop', 'writes': {'llm': {'messages': [AIMessage(content='', additional_kwargs={'tool_calls': [{'id': 'call_5k2h', 'function': {'arguments': '{\"query\": \"Los Angeles weather today\"}', 'name': 'tavily_search_results_json'}, 'type': 'function'}]}, response_metadata={'token_usage': {'completion_tokens': 21, 'prompt_tokens': 349, 'total_tokens': 370, 'completion_time': 0.105587875, 'prompt_time': 0.067504749, 'queue_time': 1.306107314, 'total_time': 0.173092624}, 'model_name': 'llama-3.3-70b-versatile', 'system_fingerprint': 'fp_3884478861', 'finish_reason': 'tool_calls', 'logprobs': None}, id='run-f3d2eafe-ab1d-4b11-a05b-f728d5332883-0', tool_calls=[{'name': 'tavily_search_results_json', 'args': {'query': 'Los Angeles weather today'}, 'id': 'call_5k2h', 'type': 'tool_call'}], usage_metadata={'input_tokens': 349, 'output_tokens': 21, 'total_tokens': 370})]}}, 'thread_id': '3', 'step': 1, 'parents': {}}, created_at='2025-02-02T19:03:39.460899+00:00', parent_config={'configurable': {'thread_id': '3', 'checkpoint_ns': '', 'checkpoint_id': '1efe1986-8a44-629b-8000-66bf1d3eceea'}}, tasks=(PregelTask(id='160893b6-05f9-84a1-050b-2026183943a5', name='action', path=('__pregel_pull', 'action'), error=None, interrupts=(), state=None, result=None),))\n",
            "--\n",
            "StateSnapshot(values={'messages': [HumanMessage(content='Whats the weather in LA?', additional_kwargs={}, response_metadata={}, id='b75fcfd9-f7a9-460f-9537-986ac918103e')]}, next=('llm',), config={'configurable': {'thread_id': '3', 'checkpoint_ns': '', 'checkpoint_id': '1efe1986-8a44-629b-8000-66bf1d3eceea'}}, metadata={'source': 'loop', 'writes': None, 'thread_id': '3', 'step': 0, 'parents': {}}, created_at='2025-02-02T19:03:37.864835+00:00', parent_config={'configurable': {'thread_id': '3', 'checkpoint_ns': '', 'checkpoint_id': '1efe1986-8a32-69e9-bfff-4a308e30f501'}}, tasks=(PregelTask(id='f228f2db-127c-08b3-5a9b-38e3a346681c', name='llm', path=('__pregel_pull', 'llm'), error=None, interrupts=(), state=None, result={'messages': [AIMessage(content='', additional_kwargs={'tool_calls': [{'id': 'call_5k2h', 'function': {'arguments': '{\"query\": \"Los Angeles weather today\"}', 'name': 'tavily_search_results_json'}, 'type': 'function'}]}, response_metadata={'token_usage': {'completion_tokens': 21, 'prompt_tokens': 349, 'total_tokens': 370, 'completion_time': 0.105587875, 'prompt_time': 0.067504749, 'queue_time': 1.306107314, 'total_time': 0.173092624}, 'model_name': 'llama-3.3-70b-versatile', 'system_fingerprint': 'fp_3884478861', 'finish_reason': 'tool_calls', 'logprobs': None}, id='run-f3d2eafe-ab1d-4b11-a05b-f728d5332883-0', tool_calls=[{'name': 'tavily_search_results_json', 'args': {'query': 'Los Angeles weather today'}, 'id': 'call_5k2h', 'type': 'tool_call'}], usage_metadata={'input_tokens': 349, 'output_tokens': 21, 'total_tokens': 370})]}),))\n",
            "--\n",
            "StateSnapshot(values={'messages': []}, next=('__start__',), config={'configurable': {'thread_id': '3', 'checkpoint_ns': '', 'checkpoint_id': '1efe1986-8a32-69e9-bfff-4a308e30f501'}}, metadata={'source': 'input', 'writes': {'__start__': {'messages': [HumanMessage(content='Whats the weather in LA?', additional_kwargs={}, response_metadata={})]}}, 'thread_id': '3', 'step': -1, 'parents': {}}, created_at='2025-02-02T19:03:37.857662+00:00', parent_config=None, tasks=(PregelTask(id='58f94fb1-160c-577c-4fdb-82fc7815290a', name='__start__', path=('__pregel_pull', '__start__'), error=None, interrupts=(), state=None, result={'messages': [HumanMessage(content='Whats the weather in LA?', additional_kwargs={}, response_metadata={}, id='b75fcfd9-f7a9-460f-9537-986ac918103e')]}),))\n",
            "--\n"
          ]
        }
      ]
    },
    {
      "cell_type": "markdown",
      "source": [
        "##**Resume to our earliest state**"
      ],
      "metadata": {
        "id": "ebN2Yp7j3Jey"
      }
    },
    {
      "cell_type": "code",
      "source": [
        "to_replay = states[-3]  # the earliest one\n",
        "to_replay"
      ],
      "metadata": {
        "colab": {
          "base_uri": "https://localhost:8080/"
        },
        "id": "DJhJ_Jhf0JYj",
        "outputId": "8cb0f653-c969-4f92-8dff-0a595fa71f87"
      },
      "execution_count": 25,
      "outputs": [
        {
          "output_type": "execute_result",
          "data": {
            "text/plain": [
              "StateSnapshot(values={'messages': [HumanMessage(content='Whats the weather in LA?', additional_kwargs={}, response_metadata={}, id='b75fcfd9-f7a9-460f-9537-986ac918103e'), AIMessage(content='', additional_kwargs={'tool_calls': [{'id': 'call_5k2h', 'function': {'arguments': '{\"query\": \"Los Angeles weather today\"}', 'name': 'tavily_search_results_json'}, 'type': 'function'}]}, response_metadata={'token_usage': {'completion_tokens': 21, 'prompt_tokens': 349, 'total_tokens': 370, 'completion_time': 0.105587875, 'prompt_time': 0.067504749, 'queue_time': 1.306107314, 'total_time': 0.173092624}, 'model_name': 'llama-3.3-70b-versatile', 'system_fingerprint': 'fp_3884478861', 'finish_reason': 'tool_calls', 'logprobs': None}, id='run-f3d2eafe-ab1d-4b11-a05b-f728d5332883-0', tool_calls=[{'name': 'tavily_search_results_json', 'args': {'query': 'Los Angeles weather today'}, 'id': 'call_5k2h', 'type': 'tool_call'}], usage_metadata={'input_tokens': 349, 'output_tokens': 21, 'total_tokens': 370})]}, next=('action',), config={'configurable': {'thread_id': '3', 'checkpoint_ns': '', 'checkpoint_id': '1efe1986-997c-6cf6-8001-5bf55c0d45e2'}}, metadata={'source': 'loop', 'writes': {'llm': {'messages': [AIMessage(content='', additional_kwargs={'tool_calls': [{'id': 'call_5k2h', 'function': {'arguments': '{\"query\": \"Los Angeles weather today\"}', 'name': 'tavily_search_results_json'}, 'type': 'function'}]}, response_metadata={'token_usage': {'completion_tokens': 21, 'prompt_tokens': 349, 'total_tokens': 370, 'completion_time': 0.105587875, 'prompt_time': 0.067504749, 'queue_time': 1.306107314, 'total_time': 0.173092624}, 'model_name': 'llama-3.3-70b-versatile', 'system_fingerprint': 'fp_3884478861', 'finish_reason': 'tool_calls', 'logprobs': None}, id='run-f3d2eafe-ab1d-4b11-a05b-f728d5332883-0', tool_calls=[{'name': 'tavily_search_results_json', 'args': {'query': 'Los Angeles weather today'}, 'id': 'call_5k2h', 'type': 'tool_call'}], usage_metadata={'input_tokens': 349, 'output_tokens': 21, 'total_tokens': 370})]}}, 'thread_id': '3', 'step': 1, 'parents': {}}, created_at='2025-02-02T19:03:39.460899+00:00', parent_config={'configurable': {'thread_id': '3', 'checkpoint_ns': '', 'checkpoint_id': '1efe1986-8a44-629b-8000-66bf1d3eceea'}}, tasks=(PregelTask(id='160893b6-05f9-84a1-050b-2026183943a5', name='action', path=('__pregel_pull', 'action'), error=None, interrupts=(), state=None, result=None),))"
            ]
          },
          "metadata": {},
          "execution_count": 25
        }
      ]
    },
    {
      "cell_type": "code",
      "source": [
        "for event in abot.graph.stream(None, to_replay.config):\n",
        "    for k, v in event.items():\n",
        "        print(v)"
      ],
      "metadata": {
        "colab": {
          "base_uri": "https://localhost:8080/"
        },
        "id": "pWW3PyoH1sAJ",
        "outputId": "9df89cb5-e324-4a9f-b84d-32aa153fba9f"
      },
      "execution_count": 26,
      "outputs": [
        {
          "output_type": "stream",
          "name": "stdout",
          "text": [
            "Calling: {'name': 'tavily_search_results_json', 'args': {'query': 'Los Angeles weather today'}, 'id': 'call_5k2h', 'type': 'tool_call'}\n",
            "Back to the model!\n",
            "{'messages': [ToolMessage(content='[{\\'url\\': \\'https://www.weatherapi.com/\\', \\'content\\': \"{\\'location\\': {\\'name\\': \\'Los Angeles\\', \\'region\\': \\'California\\', \\'country\\': \\'United States of America\\', \\'lat\\': 34.0522, \\'lon\\': -118.2428, \\'tz_id\\': \\'America/Los_Angeles\\', \\'localtime_epoch\\': 1738522916, \\'localtime\\': \\'2025-02-02 11:01\\'}, \\'current\\': {\\'last_updated_epoch\\': 1738522800, \\'last_updated\\': \\'2025-02-02 11:00\\', \\'temp_c\\': 14.4, \\'temp_f\\': 57.9, \\'is_day\\': 1, \\'condition\\': {\\'text\\': \\'Mist\\', \\'icon\\': \\'//cdn.weatherapi.com/weather/64x64/day/143.png\\', \\'code\\': 1030}, \\'wind_mph\\': 2.2, \\'wind_kph\\': 3.6, \\'wind_degree\\': 168, \\'wind_dir\\': \\'SSE\\', \\'pressure_mb\\': 1021.0, \\'pressure_in\\': 30.14, \\'precip_mm\\': 0.0, \\'precip_in\\': 0.0, \\'humidity\\': 84, \\'cloud\\': 50, \\'feelslike_c\\': 15.1, \\'feelslike_f\\': 59.2, \\'windchill_c\\': 17.0, \\'windchill_f\\': 62.5, \\'heatindex_c\\': 16.9, \\'heatindex_f\\': 62.5, \\'dewpoint_c\\': 11.1, \\'dewpoint_f\\': 51.9, \\'vis_km\\': 4.8, \\'vis_miles\\': 2.0, \\'uv\\': 3.8, \\'gust_mph\\': 6.7, \\'gust_kph\\': 10.8}}\"}, {\\'url\\': \\'https://www.easeweather.com/north-america/united-states/california/los-angeles-county/los-angeles/february\\', \\'content\\': \\'Weather in Los Angeles in February 2025 - Detailed Forecast Weather in Los Angeles for February 2025 Your guide to Los Angeles weather in February - trends and predictions The forecast for the first days of February 2025 in Los Angeles predicts temperatures to be around 18\\\\xa0°F, close to the historical average. In general, the average temperature in Los Angeles at the beginning of February is 18.1\\\\xa0°F. Los Angeles experiences moderate rainfall in February, with an average of 10 rainy days and a total precipitation of 79.7\\\\xa0mm. Los Angeles in February average weather Temperatures trend during February in Los Angeles Los Angeles in February - FAQ Get accurate weather forecasts for Los Angeles, located at latitude 34.052 and longitude -118.244.\\'}]', name='tavily_search_results_json', id='b3400323-4517-41a1-b385-697810e54aff', tool_call_id='call_5k2h')]}\n",
            "{'messages': [HumanMessage(content='Whats the weather in LA?', additional_kwargs={}, response_metadata={}, id='b75fcfd9-f7a9-460f-9537-986ac918103e'), AIMessage(content='', additional_kwargs={'tool_calls': [{'id': 'call_5k2h', 'function': {'arguments': '{\"query\": \"Los Angeles weather today\"}', 'name': 'tavily_search_results_json'}, 'type': 'function'}]}, response_metadata={'token_usage': {'completion_tokens': 21, 'prompt_tokens': 349, 'total_tokens': 370, 'completion_time': 0.105587875, 'prompt_time': 0.067504749, 'queue_time': 1.306107314, 'total_time': 0.173092624}, 'model_name': 'llama-3.3-70b-versatile', 'system_fingerprint': 'fp_3884478861', 'finish_reason': 'tool_calls', 'logprobs': None}, id='run-f3d2eafe-ab1d-4b11-a05b-f728d5332883-0', tool_calls=[{'name': 'tavily_search_results_json', 'args': {'query': 'Los Angeles weather today'}, 'id': 'call_5k2h', 'type': 'tool_call'}], usage_metadata={'input_tokens': 349, 'output_tokens': 21, 'total_tokens': 370}), ToolMessage(content='[{\\'url\\': \\'https://www.weatherapi.com/\\', \\'content\\': \"{\\'location\\': {\\'name\\': \\'Los Angeles\\', \\'region\\': \\'California\\', \\'country\\': \\'United States of America\\', \\'lat\\': 34.0522, \\'lon\\': -118.2428, \\'tz_id\\': \\'America/Los_Angeles\\', \\'localtime_epoch\\': 1738522916, \\'localtime\\': \\'2025-02-02 11:01\\'}, \\'current\\': {\\'last_updated_epoch\\': 1738522800, \\'last_updated\\': \\'2025-02-02 11:00\\', \\'temp_c\\': 14.4, \\'temp_f\\': 57.9, \\'is_day\\': 1, \\'condition\\': {\\'text\\': \\'Mist\\', \\'icon\\': \\'//cdn.weatherapi.com/weather/64x64/day/143.png\\', \\'code\\': 1030}, \\'wind_mph\\': 2.2, \\'wind_kph\\': 3.6, \\'wind_degree\\': 168, \\'wind_dir\\': \\'SSE\\', \\'pressure_mb\\': 1021.0, \\'pressure_in\\': 30.14, \\'precip_mm\\': 0.0, \\'precip_in\\': 0.0, \\'humidity\\': 84, \\'cloud\\': 50, \\'feelslike_c\\': 15.1, \\'feelslike_f\\': 59.2, \\'windchill_c\\': 17.0, \\'windchill_f\\': 62.5, \\'heatindex_c\\': 16.9, \\'heatindex_f\\': 62.5, \\'dewpoint_c\\': 11.1, \\'dewpoint_f\\': 51.9, \\'vis_km\\': 4.8, \\'vis_miles\\': 2.0, \\'uv\\': 3.8, \\'gust_mph\\': 6.7, \\'gust_kph\\': 10.8}}\"}, {\\'url\\': \\'https://www.easeweather.com/north-america/united-states/california/los-angeles-county/los-angeles/february\\', \\'content\\': \\'Weather in Los Angeles in February 2025 - Detailed Forecast Weather in Los Angeles for February 2025 Your guide to Los Angeles weather in February - trends and predictions The forecast for the first days of February 2025 in Los Angeles predicts temperatures to be around 18\\\\xa0°F, close to the historical average. In general, the average temperature in Los Angeles at the beginning of February is 18.1\\\\xa0°F. Los Angeles experiences moderate rainfall in February, with an average of 10 rainy days and a total precipitation of 79.7\\\\xa0mm. Los Angeles in February average weather Temperatures trend during February in Los Angeles Los Angeles in February - FAQ Get accurate weather forecasts for Los Angeles, located at latitude 34.052 and longitude -118.244.\\'}]', name='tavily_search_results_json', id='b3400323-4517-41a1-b385-697810e54aff', tool_call_id='call_5k2h'), AIMessage(content='The current weather in Los Angeles is misty with a temperature of 14.4°C (57.9°F) and a humidity of 84%. The wind is blowing at 3.6 km/h (2.2 mph) from the south-southeast direction. There is no precipitation, and the cloud cover is 50%. The feels-like temperature is 15.1°C (59.2°F).', additional_kwargs={}, response_metadata={'token_usage': {'completion_tokens': 86, 'prompt_tokens': 991, 'total_tokens': 1077, 'completion_time': 0.312727273, 'prompt_time': 0.135960148, 'queue_time': 0.8487631409999999, 'total_time': 0.448687421}, 'model_name': 'llama-3.3-70b-versatile', 'system_fingerprint': 'fp_fcc3b74982', 'finish_reason': 'stop', 'logprobs': None}, id='run-3931b4eb-270b-49d0-a84f-9310e8c3bf54-0', usage_metadata={'input_tokens': 991, 'output_tokens': 86, 'total_tokens': 1077})]}\n",
            "{'messages': [AIMessage(content='The current weather in Los Angeles is misty with a temperature of 14.4°C (57.9°F) and a humidity of 84%. The wind is blowing at 3.6 km/h (2.2 mph) from the south-southeast direction. There is no precipitation, and the cloud cover is 50%. The feels-like temperature is 15.1°C (59.2°F).', additional_kwargs={}, response_metadata={'token_usage': {'completion_tokens': 86, 'prompt_tokens': 991, 'total_tokens': 1077, 'completion_time': 0.312727273, 'prompt_time': 0.135960148, 'queue_time': 0.8487631409999999, 'total_time': 0.448687421}, 'model_name': 'llama-3.3-70b-versatile', 'system_fingerprint': 'fp_fcc3b74982', 'finish_reason': 'stop', 'logprobs': None}, id='run-3931b4eb-270b-49d0-a84f-9310e8c3bf54-0', usage_metadata={'input_tokens': 991, 'output_tokens': 86, 'total_tokens': 1077})]}\n"
          ]
        }
      ]
    },
    {
      "cell_type": "markdown",
      "source": [
        "##**go Back in time and modify**"
      ],
      "metadata": {
        "id": "4y-Dmkva1mj1"
      }
    },
    {
      "cell_type": "code",
      "source": [
        "to_replay"
      ],
      "metadata": {
        "colab": {
          "base_uri": "https://localhost:8080/"
        },
        "id": "O7CtO08W0U7E",
        "outputId": "23445948-7a1d-4ef2-fa9b-dc990c6158d9"
      },
      "execution_count": 27,
      "outputs": [
        {
          "output_type": "execute_result",
          "data": {
            "text/plain": [
              "StateSnapshot(values={'messages': [HumanMessage(content='Whats the weather in LA?', additional_kwargs={}, response_metadata={}, id='b75fcfd9-f7a9-460f-9537-986ac918103e'), AIMessage(content='', additional_kwargs={'tool_calls': [{'id': 'call_5k2h', 'function': {'arguments': '{\"query\": \"Los Angeles weather today\"}', 'name': 'tavily_search_results_json'}, 'type': 'function'}]}, response_metadata={'token_usage': {'completion_tokens': 21, 'prompt_tokens': 349, 'total_tokens': 370, 'completion_time': 0.105587875, 'prompt_time': 0.067504749, 'queue_time': 1.306107314, 'total_time': 0.173092624}, 'model_name': 'llama-3.3-70b-versatile', 'system_fingerprint': 'fp_3884478861', 'finish_reason': 'tool_calls', 'logprobs': None}, id='run-f3d2eafe-ab1d-4b11-a05b-f728d5332883-0', tool_calls=[{'name': 'tavily_search_results_json', 'args': {'query': 'Los Angeles weather today'}, 'id': 'call_5k2h', 'type': 'tool_call'}], usage_metadata={'input_tokens': 349, 'output_tokens': 21, 'total_tokens': 370})]}, next=('action',), config={'configurable': {'thread_id': '3', 'checkpoint_ns': '', 'checkpoint_id': '1efe1986-997c-6cf6-8001-5bf55c0d45e2'}}, metadata={'source': 'loop', 'writes': {'llm': {'messages': [AIMessage(content='', additional_kwargs={'tool_calls': [{'id': 'call_5k2h', 'function': {'arguments': '{\"query\": \"Los Angeles weather today\"}', 'name': 'tavily_search_results_json'}, 'type': 'function'}]}, response_metadata={'token_usage': {'completion_tokens': 21, 'prompt_tokens': 349, 'total_tokens': 370, 'completion_time': 0.105587875, 'prompt_time': 0.067504749, 'queue_time': 1.306107314, 'total_time': 0.173092624}, 'model_name': 'llama-3.3-70b-versatile', 'system_fingerprint': 'fp_3884478861', 'finish_reason': 'tool_calls', 'logprobs': None}, id='run-f3d2eafe-ab1d-4b11-a05b-f728d5332883-0', tool_calls=[{'name': 'tavily_search_results_json', 'args': {'query': 'Los Angeles weather today'}, 'id': 'call_5k2h', 'type': 'tool_call'}], usage_metadata={'input_tokens': 349, 'output_tokens': 21, 'total_tokens': 370})]}}, 'thread_id': '3', 'step': 1, 'parents': {}}, created_at='2025-02-02T19:03:39.460899+00:00', parent_config={'configurable': {'thread_id': '3', 'checkpoint_ns': '', 'checkpoint_id': '1efe1986-8a44-629b-8000-66bf1d3eceea'}}, tasks=(PregelTask(id='160893b6-05f9-84a1-050b-2026183943a5', name='action', path=('__pregel_pull', 'action'), error=None, interrupts=(), state=None, result=None),))"
            ]
          },
          "metadata": {},
          "execution_count": 27
        }
      ]
    },
    {
      "cell_type": "code",
      "source": [
        "_id = to_replay.values['messages'][-1].tool_calls[0]['id']\n",
        "to_replay.values['messages'][-1].tool_calls = [{\n",
        "    'name': 'tavily_search_results_json',\n",
        "  'args': {'query': 'current weather in LA, accuweather'},\n",
        "  'id': _id}\n",
        "                                               ]"
      ],
      "metadata": {
        "id": "xZAAg2r11YMw"
      },
      "execution_count": 28,
      "outputs": []
    },
    {
      "cell_type": "code",
      "source": [
        "branch_state = abot.graph.update_state(to_replay.config, to_replay.values)"
      ],
      "metadata": {
        "colab": {
          "base_uri": "https://localhost:8080/"
        },
        "id": "l1r9pA4x1eav",
        "outputId": "7463d033-bb75-4f55-85e6-6ffe9ff88ecc"
      },
      "execution_count": 29,
      "outputs": [
        {
          "output_type": "stream",
          "name": "stdout",
          "text": [
            "{'messages': [HumanMessage(content='Whats the weather in LA?', additional_kwargs={}, response_metadata={}, id='b75fcfd9-f7a9-460f-9537-986ac918103e'), AIMessage(content='', additional_kwargs={'tool_calls': [{'id': 'call_5k2h', 'function': {'arguments': '{\"query\": \"Los Angeles weather today\"}', 'name': 'tavily_search_results_json'}, 'type': 'function'}]}, response_metadata={'token_usage': {'completion_tokens': 21, 'prompt_tokens': 349, 'total_tokens': 370, 'completion_time': 0.105587875, 'prompt_time': 0.067504749, 'queue_time': 1.306107314, 'total_time': 0.173092624}, 'model_name': 'llama-3.3-70b-versatile', 'system_fingerprint': 'fp_3884478861', 'finish_reason': 'tool_calls', 'logprobs': None}, id='run-f3d2eafe-ab1d-4b11-a05b-f728d5332883-0', tool_calls=[{'name': 'tavily_search_results_json', 'args': {'query': 'current weather in LA, accuweather'}, 'id': 'call_5k2h'}], usage_metadata={'input_tokens': 349, 'output_tokens': 21, 'total_tokens': 370})]}\n"
          ]
        }
      ]
    },
    {
      "cell_type": "code",
      "source": [
        "for event in abot.graph.stream(None, branch_state):\n",
        "    for k, v in event.items():\n",
        "        if k != \"__end__\":\n",
        "            print(v)"
      ],
      "metadata": {
        "colab": {
          "base_uri": "https://localhost:8080/"
        },
        "id": "hA3D87uH5kiu",
        "outputId": "37510a04-7301-4636-9168-bada6a8bac39"
      },
      "execution_count": 30,
      "outputs": [
        {
          "output_type": "stream",
          "name": "stdout",
          "text": [
            "Calling: {'name': 'tavily_search_results_json', 'args': {'query': 'current weather in LA, accuweather'}, 'id': 'call_5k2h', 'type': 'tool_call'}\n",
            "Back to the model!\n",
            "{'messages': [ToolMessage(content='[{\\'url\\': \\'https://www.weatherapi.com/\\', \\'content\\': \"{\\'location\\': {\\'name\\': \\'Los Angeles\\', \\'region\\': \\'California\\', \\'country\\': \\'United States of America\\', \\'lat\\': 34.0522, \\'lon\\': -118.2428, \\'tz_id\\': \\'America/Los_Angeles\\', \\'localtime_epoch\\': 1738522966, \\'localtime\\': \\'2025-02-02 11:02\\'}, \\'current\\': {\\'last_updated_epoch\\': 1738522800, \\'last_updated\\': \\'2025-02-02 11:00\\', \\'temp_c\\': 14.4, \\'temp_f\\': 57.9, \\'is_day\\': 1, \\'condition\\': {\\'text\\': \\'Mist\\', \\'icon\\': \\'//cdn.weatherapi.com/weather/64x64/day/143.png\\', \\'code\\': 1030}, \\'wind_mph\\': 2.2, \\'wind_kph\\': 3.6, \\'wind_degree\\': 168, \\'wind_dir\\': \\'SSE\\', \\'pressure_mb\\': 1021.0, \\'pressure_in\\': 30.14, \\'precip_mm\\': 0.0, \\'precip_in\\': 0.0, \\'humidity\\': 84, \\'cloud\\': 50, \\'feelslike_c\\': 15.1, \\'feelslike_f\\': 59.2, \\'windchill_c\\': 17.0, \\'windchill_f\\': 62.5, \\'heatindex_c\\': 16.9, \\'heatindex_f\\': 62.5, \\'dewpoint_c\\': 11.1, \\'dewpoint_f\\': 51.9, \\'vis_km\\': 4.8, \\'vis_miles\\': 2.0, \\'uv\\': 3.8, \\'gust_mph\\': 6.7, \\'gust_kph\\': 10.8}}\"}, {\\'url\\': \\'https://www.accuweather.com/en/us/los-angeles/90012/current-weather/347625\\', \\'content\\': \\'Los Angeles, CA Current Weather | AccuWeather Winter Weather Storm to deliver snow, rain and wind to Midwest, Northeast 1 hour ago Weather Forecasts Bomb cyclone with atmospheric river to blast Northwest 1 hour ago Astronomy Moon to align with Jupiter, Mars on Monday night 8 hours ago Severe Weather Severe thunderstorms continue to rumble through southern Plains 1 hour ago Hurricane Tropical Rainstorm Sara, now in Gulf, to drench southern US coast 1 hour ago  More Stories AccuWeather Ready Business Health Hurricane Leisure and Recreation Severe Weather Space and Astronomy Sports Travel Weather News Winter Center AccuWeather Ready Business Health Hurricane Leisure and Recreation Severe Weather Space and Astronomy Sports Travel Weather News Winter Center\\'}]', name='tavily_search_results_json', id='cd63f3d6-46a8-4572-94de-b6b9443ef562', tool_call_id='call_5k2h')]}\n",
            "{'messages': [HumanMessage(content='Whats the weather in LA?', additional_kwargs={}, response_metadata={}, id='b75fcfd9-f7a9-460f-9537-986ac918103e'), AIMessage(content='', additional_kwargs={'tool_calls': [{'id': 'call_5k2h', 'function': {'arguments': '{\"query\": \"Los Angeles weather today\"}', 'name': 'tavily_search_results_json'}, 'type': 'function'}]}, response_metadata={'token_usage': {'completion_tokens': 21, 'prompt_tokens': 349, 'total_tokens': 370, 'completion_time': 0.105587875, 'prompt_time': 0.067504749, 'queue_time': 1.306107314, 'total_time': 0.173092624}, 'model_name': 'llama-3.3-70b-versatile', 'system_fingerprint': 'fp_3884478861', 'finish_reason': 'tool_calls', 'logprobs': None}, id='run-f3d2eafe-ab1d-4b11-a05b-f728d5332883-0', tool_calls=[{'name': 'tavily_search_results_json', 'args': {'query': 'current weather in LA, accuweather'}, 'id': 'call_5k2h', 'type': 'tool_call'}], usage_metadata={'input_tokens': 349, 'output_tokens': 21, 'total_tokens': 370}), ToolMessage(content='[{\\'url\\': \\'https://www.weatherapi.com/\\', \\'content\\': \"{\\'location\\': {\\'name\\': \\'Los Angeles\\', \\'region\\': \\'California\\', \\'country\\': \\'United States of America\\', \\'lat\\': 34.0522, \\'lon\\': -118.2428, \\'tz_id\\': \\'America/Los_Angeles\\', \\'localtime_epoch\\': 1738522966, \\'localtime\\': \\'2025-02-02 11:02\\'}, \\'current\\': {\\'last_updated_epoch\\': 1738522800, \\'last_updated\\': \\'2025-02-02 11:00\\', \\'temp_c\\': 14.4, \\'temp_f\\': 57.9, \\'is_day\\': 1, \\'condition\\': {\\'text\\': \\'Mist\\', \\'icon\\': \\'//cdn.weatherapi.com/weather/64x64/day/143.png\\', \\'code\\': 1030}, \\'wind_mph\\': 2.2, \\'wind_kph\\': 3.6, \\'wind_degree\\': 168, \\'wind_dir\\': \\'SSE\\', \\'pressure_mb\\': 1021.0, \\'pressure_in\\': 30.14, \\'precip_mm\\': 0.0, \\'precip_in\\': 0.0, \\'humidity\\': 84, \\'cloud\\': 50, \\'feelslike_c\\': 15.1, \\'feelslike_f\\': 59.2, \\'windchill_c\\': 17.0, \\'windchill_f\\': 62.5, \\'heatindex_c\\': 16.9, \\'heatindex_f\\': 62.5, \\'dewpoint_c\\': 11.1, \\'dewpoint_f\\': 51.9, \\'vis_km\\': 4.8, \\'vis_miles\\': 2.0, \\'uv\\': 3.8, \\'gust_mph\\': 6.7, \\'gust_kph\\': 10.8}}\"}, {\\'url\\': \\'https://www.accuweather.com/en/us/los-angeles/90012/current-weather/347625\\', \\'content\\': \\'Los Angeles, CA Current Weather | AccuWeather Winter Weather Storm to deliver snow, rain and wind to Midwest, Northeast 1 hour ago Weather Forecasts Bomb cyclone with atmospheric river to blast Northwest 1 hour ago Astronomy Moon to align with Jupiter, Mars on Monday night 8 hours ago Severe Weather Severe thunderstorms continue to rumble through southern Plains 1 hour ago Hurricane Tropical Rainstorm Sara, now in Gulf, to drench southern US coast 1 hour ago  More Stories AccuWeather Ready Business Health Hurricane Leisure and Recreation Severe Weather Space and Astronomy Sports Travel Weather News Winter Center AccuWeather Ready Business Health Hurricane Leisure and Recreation Severe Weather Space and Astronomy Sports Travel Weather News Winter Center\\'}]', name='tavily_search_results_json', id='cd63f3d6-46a8-4572-94de-b6b9443ef562', tool_call_id='call_5k2h'), AIMessage(content='The current weather in LA is 14.4°C (57.9°F) with mist, and a humidity of 84%. The wind speed is 2.2 mph (3.6 kph) from the SSE direction.', additional_kwargs={}, response_metadata={'token_usage': {'completion_tokens': 49, 'prompt_tokens': 972, 'total_tokens': 1021, 'completion_time': 0.178181818, 'prompt_time': 0.194014286, 'queue_time': 0.32020883999999994, 'total_time': 0.372196104}, 'model_name': 'llama-3.3-70b-versatile', 'system_fingerprint': 'fp_4e32347616', 'finish_reason': 'stop', 'logprobs': None}, id='run-f394a71f-928f-4f02-bf7d-2a02f16785ca-0', usage_metadata={'input_tokens': 972, 'output_tokens': 49, 'total_tokens': 1021})]}\n",
            "{'messages': [AIMessage(content='The current weather in LA is 14.4°C (57.9°F) with mist, and a humidity of 84%. The wind speed is 2.2 mph (3.6 kph) from the SSE direction.', additional_kwargs={}, response_metadata={'token_usage': {'completion_tokens': 49, 'prompt_tokens': 972, 'total_tokens': 1021, 'completion_time': 0.178181818, 'prompt_time': 0.194014286, 'queue_time': 0.32020883999999994, 'total_time': 0.372196104}, 'model_name': 'llama-3.3-70b-versatile', 'system_fingerprint': 'fp_4e32347616', 'finish_reason': 'stop', 'logprobs': None}, id='run-f394a71f-928f-4f02-bf7d-2a02f16785ca-0', usage_metadata={'input_tokens': 972, 'output_tokens': 49, 'total_tokens': 1021})]}\n"
          ]
        }
      ]
    },
    {
      "cell_type": "markdown",
      "source": [
        "#**add a message to a state at a given time**"
      ],
      "metadata": {
        "id": "U1JKuLNc5pzY"
      }
    },
    {
      "cell_type": "code",
      "source": [
        "_id = to_replay.values['messages'][-1].tool_calls[0]['id']"
      ],
      "metadata": {
        "id": "2n2XUjAD5wDa"
      },
      "execution_count": 31,
      "outputs": []
    },
    {
      "cell_type": "code",
      "source": [
        "state_update = {\"messages\": [ToolMessage(\n",
        "    tool_call_id=_id,\n",
        "    name=\"tavily_search_results_json\",\n",
        "    content=\"54 degree celcius\",\n",
        ")]}"
      ],
      "metadata": {
        "id": "OZKkF-9g5w7U"
      },
      "execution_count": 32,
      "outputs": []
    },
    {
      "cell_type": "code",
      "source": [
        "branch_and_add = abot.graph.update_state(\n",
        "    to_replay.config,\n",
        "    state_update,\n",
        "    as_node=\"action\") # we dont wanna to action node after modifing instead we did the action node job"
      ],
      "metadata": {
        "id": "o9GViOmP51cC"
      },
      "execution_count": 33,
      "outputs": []
    },
    {
      "cell_type": "code",
      "source": [
        "for event in abot.graph.stream(None, branch_and_add):\n",
        "    for k, v in event.items():\n",
        "        print(v)"
      ],
      "metadata": {
        "colab": {
          "base_uri": "https://localhost:8080/"
        },
        "id": "rU2gNzTO52ug",
        "outputId": "ac4a2863-e4e9-4f1d-b667-35828a622ace"
      },
      "execution_count": 34,
      "outputs": [
        {
          "output_type": "stream",
          "name": "stdout",
          "text": [
            "{'messages': [HumanMessage(content='Whats the weather in LA?', additional_kwargs={}, response_metadata={}, id='b75fcfd9-f7a9-460f-9537-986ac918103e'), AIMessage(content='', additional_kwargs={'tool_calls': [{'id': 'call_5k2h', 'function': {'arguments': '{\"query\": \"Los Angeles weather today\"}', 'name': 'tavily_search_results_json'}, 'type': 'function'}]}, response_metadata={'token_usage': {'completion_tokens': 21, 'prompt_tokens': 349, 'total_tokens': 370, 'completion_time': 0.105587875, 'prompt_time': 0.067504749, 'queue_time': 1.306107314, 'total_time': 0.173092624}, 'model_name': 'llama-3.3-70b-versatile', 'system_fingerprint': 'fp_3884478861', 'finish_reason': 'tool_calls', 'logprobs': None}, id='run-f3d2eafe-ab1d-4b11-a05b-f728d5332883-0', tool_calls=[{'name': 'tavily_search_results_json', 'args': {'query': 'Los Angeles weather today'}, 'id': 'call_5k2h', 'type': 'tool_call'}], usage_metadata={'input_tokens': 349, 'output_tokens': 21, 'total_tokens': 370}), ToolMessage(content='54 degree celcius', name='tavily_search_results_json', id='072498df-1545-471c-99c3-0ff9d160d4c2', tool_call_id='call_5k2h'), AIMessage(content='', additional_kwargs={'tool_calls': [{'id': 'call_4eyv', 'function': {'arguments': '{\"query\": \"Los Angeles current weather\"}', 'name': 'tavily_search_results_json'}, 'type': 'function'}]}, response_metadata={'token_usage': {'completion_tokens': 57, 'prompt_tokens': 385, 'total_tokens': 442, 'completion_time': 0.207272727, 'prompt_time': 0.052016861, 'queue_time': 0.33345500800000005, 'total_time': 0.259289588}, 'model_name': 'llama-3.3-70b-versatile', 'system_fingerprint': 'fp_4e32347616', 'finish_reason': 'tool_calls', 'logprobs': None}, id='run-951fc167-da46-454f-9534-c44fcedb4729-0', tool_calls=[{'name': 'tavily_search_results_json', 'args': {'query': 'Los Angeles current weather'}, 'id': 'call_4eyv', 'type': 'tool_call'}], usage_metadata={'input_tokens': 385, 'output_tokens': 57, 'total_tokens': 442})]}\n",
            "{'messages': [AIMessage(content='', additional_kwargs={'tool_calls': [{'id': 'call_4eyv', 'function': {'arguments': '{\"query\": \"Los Angeles current weather\"}', 'name': 'tavily_search_results_json'}, 'type': 'function'}]}, response_metadata={'token_usage': {'completion_tokens': 57, 'prompt_tokens': 385, 'total_tokens': 442, 'completion_time': 0.207272727, 'prompt_time': 0.052016861, 'queue_time': 0.33345500800000005, 'total_time': 0.259289588}, 'model_name': 'llama-3.3-70b-versatile', 'system_fingerprint': 'fp_4e32347616', 'finish_reason': 'tool_calls', 'logprobs': None}, id='run-951fc167-da46-454f-9534-c44fcedb4729-0', tool_calls=[{'name': 'tavily_search_results_json', 'args': {'query': 'Los Angeles current weather'}, 'id': 'call_4eyv', 'type': 'tool_call'}], usage_metadata={'input_tokens': 385, 'output_tokens': 57, 'total_tokens': 442})]}\n",
            "()\n"
          ]
        }
      ]
    }
  ]
}